{
  "cells": [
    {
      "cell_type": "markdown",
      "metadata": {
        "id": "view-in-github",
        "colab_type": "text"
      },
      "source": [
        "<a href=\"https://colab.research.google.com/github/niekh-13/geodata-etl-workshop/blob/main/Introductie_GeoPandas_Workshop.ipynb\" target=\"_parent\"><img src=\"https://colab.research.google.com/assets/colab-badge.svg\" alt=\"Open In Colab\"/></a>"
      ]
    },
    {
      "cell_type": "markdown",
      "id": "da30464b",
      "metadata": {
        "id": "da30464b"
      },
      "source": [
        "# Introductie Pandas en GeoPandas: eenvoudige ETL scripting"
      ]
    },
    {
      "cell_type": "markdown",
      "id": "71f75912",
      "metadata": {
        "id": "71f75912"
      },
      "source": [
        "In deze workshop voor Kaartviewer inspiratie dagen 2024 leer je de basis van Pandas en GeoPandas kennen door gebruik te maken van open data van Nederlandse netbeheerders en CBS."
      ]
    },
    {
      "cell_type": "code",
      "execution_count": 21,
      "id": "d344c7a1",
      "metadata": {
        "id": "d344c7a1"
      },
      "outputs": [],
      "source": [
        "%%capture\n",
        "# Install necessary packages\n",
        "!pip install pandas geopandas ipython-extensions"
      ]
    },
    {
      "cell_type": "code",
      "source": [
        "!ls"
      ],
      "metadata": {
        "colab": {
          "base_uri": "https://localhost:8080/"
        },
        "id": "Fnz1R7uVdkGB",
        "outputId": "d1afa216-6a29-4c0b-dcd9-5d569bbc041a"
      },
      "id": "Fnz1R7uVdkGB",
      "execution_count": 46,
      "outputs": [
        {
          "output_type": "stream",
          "name": "stdout",
          "text": [
            "CoteqNetbeheer_kleinverbruik_01012024.csv   Liander_kleinverbruiksgegevens_20240101.csv\n",
            "Enexis_kleinverbruiksgegevens_01012024.csv  stedin-kleinverbruikgegevens-2024.csv\n",
            "kleinverbruiksgegevens-2024.zip\n"
          ]
        }
      ]
    },
    {
      "cell_type": "markdown",
      "id": "9ec4feef",
      "metadata": {
        "id": "9ec4feef"
      },
      "source": [
        "## Stap 1: Data downloaden van gekozen netbeheerder"
      ]
    },
    {
      "cell_type": "markdown",
      "id": "135d22b1",
      "metadata": {
        "id": "135d22b1"
      },
      "source": [
        "### Kies één van de netbeheerders en download hun dataset."
      ]
    },
    {
      "cell_type": "code",
      "source": [
        "%%capture\n",
        "\n",
        "import requests\n",
        "import zipfile\n",
        "import os"
      ],
      "metadata": {
        "id": "nLDDoHEvzjgZ"
      },
      "id": "nLDDoHEvzjgZ",
      "execution_count": 22,
      "outputs": []
    },
    {
      "cell_type": "markdown",
      "source": [
        "\n",
        "#### Liander\n",
        "\n"
      ],
      "metadata": {
        "id": "hRlBJBpBzbKm"
      },
      "id": "hRlBJBpBzbKm"
    },
    {
      "cell_type": "code",
      "source": [
        "# Download Liander\n",
        "url = \"https://www.liander.nl/-/media/files/open-data/kleinverbruikdata/kleinverbruiksgegevens-2024.zip\"\n",
        "response = requests.get(url)\n",
        "delimiter = ';'\n",
        "\n",
        "# Get filenames and paths for Liander\n",
        "filename = 'Liander_kleinverbruiksgegevens_20240101.csv'\n",
        "zip_path = url.split(\"/\")[-1]\n",
        "\n",
        "# Write response content in to zipfile\n",
        "with open(zip_path, \"wb\") as f:\n",
        "  f.write(response.content)\n",
        "\n",
        "# Extract the csv file from zip file\n",
        "with zipfile.ZipFile(zip_path, 'r') as zip_ref:\n",
        "  zip_ref.extractall(\".\")\n",
        "\n",
        "print(f\"{filename} is downloaded\")"
      ],
      "metadata": {
        "colab": {
          "base_uri": "https://localhost:8080/"
        },
        "id": "EPm9p1CWzH91",
        "outputId": "8b33a922-69b4-4d84-e965-c8666c8236d5"
      },
      "id": "EPm9p1CWzH91",
      "execution_count": 39,
      "outputs": [
        {
          "output_type": "stream",
          "name": "stdout",
          "text": [
            "Liander_kleinverbruiksgegevens_20240101.csv is downloaded\n"
          ]
        }
      ]
    },
    {
      "cell_type": "markdown",
      "source": [
        "#### Enexis\n"
      ],
      "metadata": {
        "id": "V5__OfnT0Gxl"
      },
      "id": "V5__OfnT0Gxl"
    },
    {
      "cell_type": "code",
      "source": [
        "# Download Enexis\n",
        "url = \"https://enxp433-oda01.s3.eu-west-1.amazonaws.com/kv/Enexis_kleinverbruiksgegevens_01012024.csv\"\n",
        "response = requests.get(url)\n",
        "delimiter = ';'\n",
        "\n",
        "# Get filename for Enexis\n",
        "filename = url.split(\"/\")[-1]\n",
        "\n",
        "# Write response content in to csv file\n",
        "with open(filename, \"wb\") as f:\n",
        "  f.write(response.content)\n",
        "\n",
        "print(f\"{filename} is downloaded\")\n"
      ],
      "metadata": {
        "colab": {
          "base_uri": "https://localhost:8080/"
        },
        "id": "rU5NvAtozMiE",
        "outputId": "d7a8d569-ae25-45dd-ee3a-de1fa229295f"
      },
      "id": "rU5NvAtozMiE",
      "execution_count": 26,
      "outputs": [
        {
          "output_type": "stream",
          "name": "stdout",
          "text": [
            "Enexis_kleinverbruiksgegevens_01012024.csv is downloaded\n"
          ]
        }
      ]
    },
    {
      "cell_type": "markdown",
      "source": [
        "#### Stedin"
      ],
      "metadata": {
        "id": "7Ogm81yU0Wfh"
      },
      "id": "7Ogm81yU0Wfh"
    },
    {
      "cell_type": "code",
      "source": [
        "!wget https://www.stedin.net/-/media/project/online/files/zakelijk/open-data/stedin-kleinverbruikgegevens-2024.csv\n",
        "\n",
        "delimiter = '\\t'"
      ],
      "metadata": {
        "colab": {
          "base_uri": "https://localhost:8080/"
        },
        "id": "n4pKvHkjWdn1",
        "outputId": "2262e844-6b9d-4e56-d5c3-afb51b5eec02"
      },
      "id": "n4pKvHkjWdn1",
      "execution_count": 36,
      "outputs": [
        {
          "output_type": "stream",
          "name": "stdout",
          "text": [
            "--2024-09-13 12:28:04--  https://www.stedin.net/-/media/project/online/files/zakelijk/open-data/stedin-kleinverbruikgegevens-2024.csv\n",
            "Resolving www.stedin.net (www.stedin.net)... 20.101.166.0\n",
            "Connecting to www.stedin.net (www.stedin.net)|20.101.166.0|:443... connected.\n",
            "HTTP request sent, awaiting response... 200 OK\n",
            "Length: 23869452 (23M) [text/csv]\n",
            "Saving to: ‘stedin-kleinverbruikgegevens-2024.csv’\n",
            "\n",
            "stedin-kleinverbrui 100%[===================>]  22.76M  16.9MB/s    in 1.3s    \n",
            "\n",
            "2024-09-13 12:28:06 (16.9 MB/s) - ‘stedin-kleinverbruikgegevens-2024.csv’ saved [23869452/23869452]\n",
            "\n"
          ]
        }
      ]
    },
    {
      "cell_type": "markdown",
      "source": [
        "#### Coteq"
      ],
      "metadata": {
        "id": "t7NOe_s50Z7h"
      },
      "id": "t7NOe_s50Z7h"
    },
    {
      "cell_type": "code",
      "source": [
        "# Download Coteq\n",
        "url = \"https://d3a07q56iliqjn.cloudfront.net/web-uploads/Documenten/Open-data/CoteqNetbeheer_kleinverbruik_01012024.csv\"\n",
        "response = requests.get(url)\n",
        "delimiter = ';'\n",
        "\n",
        "# Get filename for Coteq\n",
        "filename = url.split(\"/\")[-1]\n",
        "\n",
        "# Write response content in to csv file\n",
        "with open(filename, \"wb\") as f:\n",
        "  f.write(response.content)\n",
        "\n",
        "print(f\"{filename} is downloaded\")"
      ],
      "metadata": {
        "colab": {
          "base_uri": "https://localhost:8080/"
        },
        "id": "hEVBCI2vzQ8o",
        "outputId": "4bfee455-89fe-410b-d00d-d73031b48064"
      },
      "id": "hEVBCI2vzQ8o",
      "execution_count": 28,
      "outputs": [
        {
          "output_type": "stream",
          "name": "stdout",
          "text": [
            "CoteqNetbeheer_kleinverbruik_01012024.csv is downloaded\n"
          ]
        }
      ]
    },
    {
      "cell_type": "markdown",
      "source": [
        "\n",
        "## Stap 2: Netbeheer data in pandas laden"
      ],
      "metadata": {
        "id": "658jPS6w1z_E"
      },
      "id": "658jPS6w1z_E"
    },
    {
      "cell_type": "code",
      "source": [
        "import pandas as pd\n",
        "\n",
        "columns = [\n",
        "    \"NETBEHEERDER\", \"NETGEBIED\", \"STRAATNAAM\", \"POSTCODE_VAN\", \"POSTCODE_TOT\",\n",
        "    \"WOONPLAATS\", \"LANDCODE\", \"PRODUCTSOORT\", \"VERBRUIKSSEGMENT\", \"AANSLUITINGEN_AANTAL\",\n",
        "    \"LEVERINGSRICHTING_PERC\", \"FYSIEKE_STATUS_PERC\", \"SOORT_AANSLUITING_PERC\",\n",
        "    \"SOORT_AANSLUITING\", \"SJV_GEMIDDELD\", \"SJV_LAAG_TARIEF_PERC\", \"SLIMME_METER_PERC\"\n",
        "]\n",
        "\n",
        "# Inlezen van netbeheerder data met pandas\n",
        "data = pd.read_csv(filename, sep=delimiter, dtype=str, names=columns, skiprows=1)\n",
        "\n",
        "# Data van netbeheerder uniform maken voor pandas\n",
        "data = data.map(lambda x: x.replace(',', '.') if isinstance(x, str) else x)"
      ],
      "metadata": {
        "id": "KBLktIUy1qfY"
      },
      "id": "KBLktIUy1qfY",
      "execution_count": 41,
      "outputs": []
    },
    {
      "cell_type": "markdown",
      "source": [
        "#### Controleer data"
      ],
      "metadata": {
        "id": "KanRBWQhcnNU"
      },
      "id": "KanRBWQhcnNU"
    },
    {
      "cell_type": "code",
      "source": [
        "print(data.head())\n",
        "# print(data.info())\n",
        "# print(data.describe())"
      ],
      "metadata": {
        "colab": {
          "base_uri": "https://localhost:8080/"
        },
        "id": "_UIc6hN_cohI",
        "outputId": "a4edaaac-8528-4654-c7d8-b759eb2c6a7d"
      },
      "id": "_UIc6hN_cohI",
      "execution_count": 43,
      "outputs": [
        {
          "output_type": "stream",
          "name": "stdout",
          "text": [
            "  NETBEHEERDER NETGEBIED                  STRAATNAAM POSTCODE_VAN  \\\n",
            "0   Liander NB   LIANDER  De Ruyterkade Steigers         1011AA     \n",
            "1   Liander NB   LIANDER  De Ruyterkade Steigers         1011AA     \n",
            "2   Liander NB   LIANDER  De Ruyterkade                  1011AC     \n",
            "3   Liander NB   LIANDER  De Ruyterkade                  1011AC     \n",
            "4   Liander NB   LIANDER  Oosterdokskade                 1011AD     \n",
            "\n",
            "  POSTCODE_TOT                WOONPLAATS LANDCODE PRODUCTSOORT  \\\n",
            "0     1011AB    AMSTERDAM                    NL       GAS        \n",
            "1     1011AB    AMSTERDAM                    NL       ELK        \n",
            "2     1011AC    AMSTERDAM                    NL       GAS        \n",
            "3     1011AC    AMSTERDAM                    NL       ELK        \n",
            "4     1011AE    AMSTERDAM                    NL       GAS        \n",
            "\n",
            "  VERBRUIKSSEGMENT AANSLUITINGEN_AANTAL LEVERINGSRICHTING_PERC  \\\n",
            "0     KVB                            18                  100.0   \n",
            "1     KVB                            54                  100.0   \n",
            "2     KVB                            26                  100.0   \n",
            "3     KVB                            42                  97.62   \n",
            "4     KVB                            11                  100.0   \n",
            "\n",
            "  FYSIEKE_STATUS_PERC SOORT_AANSLUITING_PERC SOORT_AANSLUITING SJV_GEMIDDELD  \\\n",
            "0               61.11                   50.0     G4                    13715   \n",
            "1               40.74                  33.33     3x25                  14956   \n",
            "2               65.38                  38.46     G6                     4961   \n",
            "3               54.76                  26.19     3x25                  15953   \n",
            "4                9.09                  81.82     G4                      921   \n",
            "\n",
            "  SJV_LAAG_TARIEF_PERC SLIMME_METER_PERC  \n",
            "0                  0.0             33.33  \n",
            "1                 53.7             35.19  \n",
            "2                  0.0             46.15  \n",
            "3                 50.0             33.33  \n",
            "4                  0.0              9.09  \n"
          ]
        }
      ]
    },
    {
      "cell_type": "markdown",
      "id": "022f3521",
      "metadata": {
        "id": "022f3521"
      },
      "source": [
        "## Stap 3: CBS Postcode Data downloaden"
      ]
    },
    {
      "cell_type": "code",
      "execution_count": 3,
      "id": "6a6dcfbd",
      "metadata": {
        "colab": {
          "base_uri": "https://localhost:8080/"
        },
        "id": "6a6dcfbd",
        "outputId": "2d645e45-eb49-43d7-b490-eb3b1e6d20f9"
      },
      "outputs": [
        {
          "output_type": "stream",
          "name": "stdout",
          "text": [
            "CBS Postcode data is gedownload en uitgepakt\n",
            "CBS Wijken en Buurten data is gedownload en uitgepakt\n"
          ]
        }
      ],
      "source": [
        "# Make variables for download\n",
        "pc6_url = \"https://download.cbs.nl/postcode/2024-cbs_pc6_2023_v1.zip\"\n",
        "pc6_dirname = \"CBS_Postcode\" # Name of the directory\n",
        "\n",
        "# Download CBS Postcode data\n",
        "response = requests.get(pc6_url)\n",
        "\n",
        "# Get filename for CBS Postcode\n",
        "filename = pc6_url.split(\"/\")[-1]\n",
        "\n",
        "# Write response content in to zip file\n",
        "with open(filename, \"wb\") as f:\n",
        "    f.write(response.content)\n",
        "\n",
        "# Extract the files from zip file\n",
        "with zipfile.ZipFile(filename, 'r') as zip_ref:\n",
        "    zip_ref.extractall(f\"./{pc6_dirname}\")\n",
        "\n",
        "print(f\"{pc6_dirname} data is gedownload en uitgepakt\")"
      ]
    },
    {
      "cell_type": "markdown",
      "source": [
        "## Stap 4: CBS Postcode data inlezen"
      ],
      "metadata": {
        "id": "zb_iaV2uMYKX"
      },
      "id": "zb_iaV2uMYKX"
    },
    {
      "cell_type": "code",
      "source": [
        "import geopandas as gpd\n",
        "\n",
        "# CBS Postcode data inlezen\n",
        "cbs_postcode_file = \"CBS_Postcode/cbs_pc6_2023_v1.gpkg\"\n",
        "cbs_postcode = gpd.read_file(cbs_postcode_file)"
      ],
      "metadata": {
        "id": "2W9iG45eMbdm"
      },
      "id": "2W9iG45eMbdm",
      "execution_count": null,
      "outputs": []
    },
    {
      "cell_type": "markdown",
      "source": [
        "#### Controleer data"
      ],
      "metadata": {
        "id": "7MtaXwJMMfde"
      },
      "id": "7MtaXwJMMfde"
    },
    {
      "cell_type": "code",
      "source": [
        "print(cbs_postcode.head())\n",
        "print(cbs_postcode.info())\n",
        "print(cbs_postcode.describe())"
      ],
      "metadata": {
        "id": "NYDaJVbVMe5y"
      },
      "id": "NYDaJVbVMe5y",
      "execution_count": null,
      "outputs": []
    },
    {
      "cell_type": "markdown",
      "source": [
        "## Stap 5: CBS Postcode Data koppelen aan netbeheer data"
      ],
      "metadata": {
        "id": "vchWCPidLrmG"
      },
      "id": "vchWCPidLrmG"
    },
    {
      "cell_type": "code",
      "source": [
        "# Merging the datasets\n",
        "merged_data = pd.merge(data, cbs_postcode, left_on=\"POSTCODE_VAN\", right_on=\"PC6\")\n",
        "\n",
        "# Further data processing steps..."
      ],
      "metadata": {
        "colab": {
          "base_uri": "https://localhost:8080/"
        },
        "id": "N79Ox7bMLQnK",
        "outputId": "eb102035-06c5-47c1-9a89-7fb9e7eee32a"
      },
      "id": "N79Ox7bMLQnK",
      "execution_count": 6,
      "outputs": [
        {
          "output_type": "stream",
          "name": "stdout",
          "text": [
            "total 610M\n",
            "-rw-r--r-- 1 root root 541M Sep 13 10:14 cbs_pc6_2023_v1.gpkg\n",
            "-rw-r--r-- 1 root root  69M Sep 13 10:14 pc6_2023_v1_20240828.xlsx\n"
          ]
        }
      ]
    },
    {
      "cell_type": "markdown",
      "id": "7822f050",
      "metadata": {
        "id": "7822f050"
      },
      "source": [
        "## Stap 6: CBS wijkbuurten kaart data downloaden"
      ]
    },
    {
      "cell_type": "code",
      "source": [
        "# Make variables for download\n",
        "cbv_url = \"https://download.cbs.nl/regionale-kaarten/wijkbuurtkaart_2023_v1.zip\"\n",
        "cbs_name = \"CBS_wijkbuurtkaart\" # Name of the directory\n",
        "\n",
        "# Download CBS Wijken data\n",
        "response = requests.get(cbv_url)\n",
        "\n",
        "# Get filename for Enexis\n",
        "filename = cbv_url.split(\"/\")[-1]\n",
        "\n",
        "# Write response content in to zip file\n",
        "with open(filename, \"wb\") as f:\n",
        "    f.write(response.content)\n",
        "\n",
        "# Extract the files from zip file\n",
        "with zipfile.ZipFile(filename, 'r') as zip_ref:\n",
        "    zip_ref.extractall(f\"./{cbs_name}\")\n",
        "\n",
        "print(f\"{cbs_name} data is gedownload en uitgepakt\")"
      ],
      "metadata": {
        "id": "PFkBo2SINqm5"
      },
      "id": "PFkBo2SINqm5",
      "execution_count": null,
      "outputs": []
    },
    {
      "cell_type": "markdown",
      "source": [
        "### Stap 7: CBS wijkbuurten kaart data inladen"
      ],
      "metadata": {
        "id": "cfGFIhxfQUGZ"
      },
      "id": "cfGFIhxfQUGZ"
    },
    {
      "cell_type": "code",
      "execution_count": null,
      "id": "880fdd29",
      "metadata": {
        "id": "880fdd29"
      },
      "outputs": [],
      "source": [
        "# CBS Wijken en Buurten data inlezen\n",
        "cbs_wijken_file = \"CBS_wijkbuurtkaart/wijkenbuurten_2023_v1.gpkg\"\n",
        "cbs_wijkbuurt = gpd.read_file(cbs_wijken_file)\n",
        ""
      ]
    },
    {
      "cell_type": "markdown",
      "source": [
        "#### Controleer data\n"
      ],
      "metadata": {
        "id": "2mo5escvQowp"
      },
      "id": "2mo5escvQowp"
    },
    {
      "cell_type": "code",
      "source": [
        "print(cbs_wijkbuurt.head())\n",
        "print(cbs_wijkbuurt.info())\n",
        "print(cbs_wijkbuurt.describe())"
      ],
      "metadata": {
        "id": "2cCmayenQqll"
      },
      "id": "2cCmayenQqll",
      "execution_count": null,
      "outputs": []
    }
  ],
  "metadata": {
    "colab": {
      "provenance": [],
      "include_colab_link": true
    },
    "language_info": {
      "name": "python"
    },
    "kernelspec": {
      "name": "python3",
      "display_name": "Python 3"
    }
  },
  "nbformat": 4,
  "nbformat_minor": 5
}