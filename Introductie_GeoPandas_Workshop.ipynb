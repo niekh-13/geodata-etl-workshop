{
  "cells": [
    {
      "cell_type": "markdown",
      "metadata": {
        "id": "view-in-github",
        "colab_type": "text"
      },
      "source": [
        "<a href=\"https://colab.research.google.com/github/niekh-13/geodata-etl-workshop/blob/main/Introductie_GeoPandas_Workshop.ipynb\" target=\"_parent\"><img src=\"https://colab.research.google.com/assets/colab-badge.svg\" alt=\"Open In Colab\"/></a>"
      ]
    },
    {
      "cell_type": "markdown",
      "id": "da30464b",
      "metadata": {
        "id": "da30464b"
      },
      "source": [
        "# Introductie Pandas en GeoPandas: eenvoudige ETL scripting"
      ]
    },
    {
      "cell_type": "markdown",
      "id": "71f75912",
      "metadata": {
        "id": "71f75912"
      },
      "source": [
        "In deze workshop voor Kaartviewer inspiratie dagen 2024 leer je de basis van Pandas en GeoPandas kennen door gebruik te maken van open data van Nederlandse netbeheerders en CBS."
      ]
    },
    {
      "cell_type": "code",
      "execution_count": null,
      "id": "d344c7a1",
      "metadata": {
        "id": "d344c7a1"
      },
      "outputs": [],
      "source": [
        "%%capture\n",
        "\n",
        "# Install necessary packages\n",
        "!pip install pandas geopandas shapely OWSlib wget"
      ]
    },
    {
      "cell_type": "code",
      "execution_count": null,
      "id": "nLDDoHEvzjgZ",
      "metadata": {
        "id": "nLDDoHEvzjgZ"
      },
      "outputs": [],
      "source": [
        "%%capture\n",
        "\n",
        "# Importeren van packages\n",
        "import requests\n",
        "import zipfile\n",
        "import os\n",
        "import io\n",
        "from owslib.wfs import WebFeatureService\n",
        "import wget"
      ]
    },
    {
      "cell_type": "markdown",
      "id": "9ec4feef",
      "metadata": {
        "id": "9ec4feef"
      },
      "source": [
        "## Stap 1: Data downloaden van gekozen netbeheerder met Python"
      ]
    },
    {
      "cell_type": "markdown",
      "id": "135d22b1",
      "metadata": {
        "id": "135d22b1"
      },
      "source": [
        "### Kies één van de netbeheerders en download hun dataset."
      ]
    },
    {
      "cell_type": "markdown",
      "id": "hRlBJBpBzbKm",
      "metadata": {
        "id": "hRlBJBpBzbKm"
      },
      "source": [
        "\n",
        "#### Liander\n",
        "\n"
      ]
    },
    {
      "cell_type": "code",
      "execution_count": null,
      "id": "EPm9p1CWzH91",
      "metadata": {
        "id": "EPm9p1CWzH91"
      },
      "outputs": [],
      "source": [
        "# Download Liander\n",
        "url = \"https://www.liander.nl/-/media/files/open-data/kleinverbruikdata/kleinverbruiksgegevens-2024.zip\"\n",
        "response = requests.get(url)\n",
        "delimiter = ';'\n",
        "\n",
        "# Get filenames and paths for Liander\n",
        "filename = 'Liander_kleinverbruiksgegevens_20240101.csv'\n",
        "zip_path = url.split(\"/\")[-1]\n",
        "\n",
        "# Write response content in to zipfile\n",
        "with open(zip_path, \"wb\") as f:\n",
        "  f.write(response.content)\n",
        "\n",
        "# Extract the csv file from zip file\n",
        "with zipfile.ZipFile(zip_path, 'r') as zip_ref:\n",
        "  zip_ref.extractall(\".\")\n",
        "\n",
        "print(f\"{filename} is downloaded\")"
      ]
    },
    {
      "cell_type": "markdown",
      "id": "V5__OfnT0Gxl",
      "metadata": {
        "id": "V5__OfnT0Gxl"
      },
      "source": [
        "#### Enexis\n"
      ]
    },
    {
      "cell_type": "code",
      "execution_count": null,
      "id": "rU5NvAtozMiE",
      "metadata": {
        "id": "rU5NvAtozMiE"
      },
      "outputs": [],
      "source": [
        "# Download Enexis\n",
        "url = \"https://enxp433-oda01.s3.eu-west-1.amazonaws.com/kv/Enexis_kleinverbruiksgegevens_01012024.csv\"\n",
        "response = requests.get(url)\n",
        "delimiter = ';'\n",
        "\n",
        "# Get filename for Enexis\n",
        "filename = url.split(\"/\")[-1]\n",
        "\n",
        "# Write response content in to csv file\n",
        "with open(filename, \"wb\") as f:\n",
        "  f.write(response.content)\n",
        "\n",
        "print(f\"{filename} is downloaded\")\n"
      ]
    },
    {
      "cell_type": "markdown",
      "id": "7Ogm81yU0Wfh",
      "metadata": {
        "id": "7Ogm81yU0Wfh"
      },
      "source": [
        "#### Stedin"
      ]
    },
    {
      "cell_type": "code",
      "execution_count": null,
      "id": "n4pKvHkjWdn1",
      "metadata": {
        "id": "n4pKvHkjWdn1"
      },
      "outputs": [],
      "source": [
        "# Deze code voert een specifieke taak uit\n",
        "!wget https://www.stedin.net/-/media/project/online/files/zakelijk/open-data/stedin-kleinverbruikgegevens-2024.csv\n",
        "\n",
        "delimiter = '\\t'\n",
        "\n",
        "filename = 'stedin-kleinverbruikgegevens-2024.csv'"
      ]
    },
    {
      "cell_type": "markdown",
      "id": "t7NOe_s50Z7h",
      "metadata": {
        "id": "t7NOe_s50Z7h"
      },
      "source": [
        "#### Coteq"
      ]
    },
    {
      "cell_type": "code",
      "execution_count": null,
      "id": "hEVBCI2vzQ8o",
      "metadata": {
        "id": "hEVBCI2vzQ8o"
      },
      "outputs": [],
      "source": [
        "# Download Coteq\n",
        "url = \"https://d3a07q56iliqjn.cloudfront.net/web-uploads/Documenten/Open-data/CoteqNetbeheer_kleinverbruik_01012024.csv\"\n",
        "filename = wget.download(url)\n",
        "delimiter = ';'\n",
        "\n",
        "print(f\"{filename} is downloaded\")"
      ]
    },
    {
      "cell_type": "code",
      "source": [
        "!head -n -2 CoteqNetbeheer_kleinverbruik_01012024.csv > tmp.txt && iconv --from-code=ISO-8859-1 --to-code=UTF-8 tmp.txt > CoteqNetbeheer_kleinverbruik_01012024.csv"
      ],
      "metadata": {
        "id": "B4H0UINt4sXe"
      },
      "id": "B4H0UINt4sXe",
      "execution_count": null,
      "outputs": []
    },
    {
      "cell_type": "markdown",
      "id": "658jPS6w1z_E",
      "metadata": {
        "id": "658jPS6w1z_E"
      },
      "source": [
        "\n",
        "## Stap 2: Netbeheer data inlezen via Pandas"
      ]
    },
    {
      "cell_type": "code",
      "execution_count": null,
      "id": "KBLktIUy1qfY",
      "metadata": {
        "id": "KBLktIUy1qfY"
      },
      "outputs": [],
      "source": [
        "# Deze code voert een specifieke taak uit\n",
        "import pandas as pd\n",
        "\n",
        "columns = [\n",
        "    \"NETBEHEERDER\", \"NETGEBIED\", \"STRAATNAAM\", \"POSTCODE_VAN\", \"POSTCODE_TOT\",\n",
        "    \"WOONPLAATS\", \"LANDCODE\", \"PRODUCTSOORT\", \"VERBRUIKSSEGMENT\", \"AANSLUITINGEN_AANTAL\",\n",
        "    \"LEVERINGSRICHTING_PERC\", \"FYSIEKE_STATUS_PERC\", \"SOORT_AANSLUITING_PERC\",\n",
        "    \"SOORT_AANSLUITING\", \"SJV_GEMIDDELD\", \"SJV_LAAG_TARIEF_PERC\", \"SLIMME_METER_PERC\"\n",
        "]\n",
        "\n",
        "# Inlezen van netbeheerder data met pandas\n",
        "data = pd.read_csv(filename, sep=delimiter, dtype=str, names=columns, skiprows=1)\n",
        "\n",
        "# Data van netbeheerder uniform maken voor pandas\n",
        "data = data.map(lambda x: x.replace(',', '.') if isinstance(x, str) else x)\n",
        "\n",
        "# Data van netbeheerder strippen van whitespace\n",
        "data = data.map(lambda x: x.strip() if isinstance(x, str) else x)"
      ]
    },
    {
      "cell_type": "markdown",
      "id": "KanRBWQhcnNU",
      "metadata": {
        "id": "KanRBWQhcnNU"
      },
      "source": [
        "#### Controleer data"
      ]
    },
    {
      "cell_type": "code",
      "execution_count": null,
      "id": "_UIc6hN_cohI",
      "metadata": {
        "id": "_UIc6hN_cohI"
      },
      "outputs": [],
      "source": [
        "# Deze code voert een specifieke taak uit\n",
        "print(data.info())\n",
        "# print(data.describe())"
      ]
    },
    {
      "cell_type": "markdown",
      "id": "muniSPUeGkk7",
      "metadata": {
        "id": "muniSPUeGkk7"
      },
      "source": [
        "## Stap 3: Netbeheer data manipuleren en voorbereiden voor analyse"
      ]
    },
    {
      "cell_type": "code",
      "execution_count": null,
      "id": "qu3SJ8BLGq5k",
      "metadata": {
        "id": "qu3SJ8BLGq5k"
      },
      "outputs": [],
      "source": [
        "# Stap 1: Postcode5 afleiden\n",
        "data['POSTCODE5'] = data['POSTCODE_TOT'].str.replace(' ', '').str[:5]\n",
        "\n",
        "\n",
        "# Zorg dat AANSLUITINGEN_AANTAL en andere numerieke kolommen numeriek zijn\n",
        "data['AANSLUITINGEN_AANTAL'] = pd.to_numeric(data['AANSLUITINGEN_AANTAL'], errors='coerce')\n",
        "data['SJV_GEMIDDELD'] = pd.to_numeric(data['SJV_GEMIDDELD'], errors='coerce')\n",
        "data['SJV_LAAG_TARIEF_PERC'] = pd.to_numeric(data['SJV_LAAG_TARIEF_PERC'], errors='coerce')\n",
        "data['LEVERINGSRICHTING_PERC'] = pd.to_numeric(data['LEVERINGSRICHTING_PERC'], errors='coerce')\n",
        "data['FYSIEKE_STATUS_PERC'] = pd.to_numeric(data['FYSIEKE_STATUS_PERC'], errors='coerce')\n",
        "data['SOORT_AANSLUITING_PERC'] = pd.to_numeric(data['SOORT_AANSLUITING_PERC'], errors='coerce')\n",
        "data['SLIMME_METER_PERC'] = pd.to_numeric(data['SLIMME_METER_PERC'], errors='coerce')\n",
        "\n",
        "# # Stap 2: Functie om gewogen gemiddelde te berekenen\n",
        "def weighted_average(df, col, weight_col):\n",
        "    return df[col].sum() / df[weight_col].sum()\n",
        "\n",
        "# # Stap 3: Groeperen op de gewenste kolommen en berekeningen uitvoeren\n",
        "grouped_data = data.groupby(by=['POSTCODE5', 'PRODUCTSOORT', 'NETBEHEERDER', 'NETGEBIED', 'WOONPLAATS', 'LANDCODE', 'VERBRUIKSSEGMENT']\n",
        ").apply(\n",
        "    lambda x: pd.Series({\n",
        "    'AANSLUITINGEN_TOTAAL': x['AANSLUITINGEN_AANTAL'].sum(),\n",
        "    'SJV_GEMIDDELD_PC5': weighted_average(x, 'SJV_GEMIDDELD', 'AANSLUITINGEN_AANTAL'),\n",
        "    'SJV_LAAG_TARIEF_PERC_PC5': weighted_average(x, 'SJV_LAAG_TARIEF_PERC', 'AANSLUITINGEN_AANTAL'),\n",
        "    'LEVERINGSRICHTING_PERC_PC5': weighted_average(x, 'LEVERINGSRICHTING_PERC', 'AANSLUITINGEN_AANTAL'),\n",
        "    'FYSIEKE_STATUS_PERC_PC5': weighted_average(x, 'FYSIEKE_STATUS_PERC', 'AANSLUITINGEN_AANTAL'),\n",
        "    'SOORT_AANSLUITING_PERC_PC5': weighted_average(x, 'SOORT_AANSLUITING_PERC', 'AANSLUITINGEN_AANTAL'),\n",
        "    'SLIMME_METER_PERC_PC5': weighted_average(x, 'SLIMME_METER_PERC', 'AANSLUITINGEN_AANTAL'),\n",
        "})).reset_index()"
      ]
    },
    {
      "cell_type": "code",
      "execution_count": null,
      "id": "4IcB2iN0InYy",
      "metadata": {
        "id": "4IcB2iN0InYy"
      },
      "outputs": [],
      "source": [
        "# Stap 4: Bekijk de gegroepeerde data\n",
        "print(grouped_data.info())"
      ]
    },
    {
      "cell_type": "markdown",
      "id": "022f3521",
      "metadata": {
        "id": "022f3521"
      },
      "source": [
        "## Stap 4: CBS Postcode Data downloaden"
      ]
    },
    {
      "cell_type": "code",
      "execution_count": null,
      "id": "6a6dcfbd",
      "metadata": {
        "id": "6a6dcfbd"
      },
      "outputs": [],
      "source": [
        "# Make variables for download\n",
        "pc5_url = \"https://download.cbs.nl/postcode/2024-cbs_pc5_2023_v1.zip\"\n",
        "pc5_dirname = \"CBS_Postcode\" # Name of the directory\n",
        "\n",
        "# Download CBS Postcode data\n",
        "response = requests.get(pc5_url)\n",
        "\n",
        "# Get filename for CBS Postcode\n",
        "filename = pc5_url.split(\"/\")[-1]\n",
        "\n",
        "# Write response content in to zip file\n",
        "with open(filename, \"wb\") as f:\n",
        "    f.write(response.content)\n",
        "\n",
        "# Extract the files from zip file\n",
        "with zipfile.ZipFile(filename, 'r') as zip_ref:\n",
        "    zip_ref.extractall(f\"./{pc5_dirname}\")\n",
        "\n",
        "print(f\"{pc5_dirname} data is gedownload en uitgepakt\")"
      ]
    },
    {
      "cell_type": "markdown",
      "id": "zb_iaV2uMYKX",
      "metadata": {
        "id": "zb_iaV2uMYKX"
      },
      "source": [
        "## Stap 5: CBS Postcode data inlezen"
      ]
    },
    {
      "cell_type": "code",
      "execution_count": null,
      "id": "0rN95i0yEPlE",
      "metadata": {
        "id": "0rN95i0yEPlE"
      },
      "outputs": [],
      "source": [
        "# Deze code importeerd gepandas\n",
        "import geopandas as gpd\n",
        "\n",
        "# Bestandspad naar het GeoPackage-bestand\n",
        "cbs_postcode_file = \"CBS_Postcode/cbs_pc5_2023_v1.gpkg\"\n",
        "\n",
        "# CBS Postcode data inlezen\n",
        "cbs_postcode = gpd.read_file(cbs_postcode_file, layer='cbs_pc5_2023')\n",
        "\n",
        "# Alleen de kolommen 'postcode' en 'geometry' selecteren\n",
        "cbs_postcode = cbs_postcode[['postcode', 'geometry']]"
      ]
    },
    {
      "cell_type": "markdown",
      "id": "7MtaXwJMMfde",
      "metadata": {
        "id": "7MtaXwJMMfde"
      },
      "source": [
        "#### Controleer data"
      ]
    },
    {
      "cell_type": "code",
      "execution_count": null,
      "id": "NYDaJVbVMe5y",
      "metadata": {
        "id": "NYDaJVbVMe5y"
      },
      "outputs": [],
      "source": [
        "# print de dataframe uit om te controleren\n",
        "print(cbs_postcode.head())"
      ]
    },
    {
      "cell_type": "markdown",
      "id": "vchWCPidLrmG",
      "metadata": {
        "id": "vchWCPidLrmG"
      },
      "source": [
        "## Stap 6: CBS Postcode Data koppelen aan netbeheer data\n"
      ]
    },
    {
      "cell_type": "code",
      "execution_count": null,
      "id": "N79Ox7bMLQnK",
      "metadata": {
        "id": "N79Ox7bMLQnK"
      },
      "outputs": [],
      "source": [
        "# Merging the datasets\n",
        "merged_data = pd.merge(grouped_data, cbs_postcode, left_on=\"POSTCODE5\", right_on=\"postcode\", how=\"left\")\n",
        "merged_data = merged_data.drop(columns=[\"postcode\"])\n",
        "merged_data = gpd.GeoDataFrame(merged_data, geometry='geometry')"
      ]
    },
    {
      "cell_type": "markdown",
      "id": "_XvLwmawTgDJ",
      "metadata": {
        "id": "_XvLwmawTgDJ"
      },
      "source": [
        "#### Controleer data"
      ]
    },
    {
      "cell_type": "code",
      "execution_count": null,
      "id": "-KyEcCoqJloR",
      "metadata": {
        "id": "-KyEcCoqJloR"
      },
      "outputs": [],
      "source": [
        "# print(merged_data.head())\n",
        "print(merged_data.info())"
      ]
    },
    {
      "cell_type": "markdown",
      "id": "WLTGOaEdUFVU",
      "metadata": {
        "id": "WLTGOaEdUFVU"
      },
      "source": [
        "## Stap 7: CBS wijkbuurten kaart data downloaden voor gemeenten"
      ]
    },
    {
      "cell_type": "code",
      "execution_count": null,
      "id": "nA8j9QUCUW6o",
      "metadata": {
        "id": "nA8j9QUCUW6o"
      },
      "outputs": [],
      "source": [
        "import geopandas as gpd\n",
        "import requests\n",
        "from owslib.wfs import WebFeatureService\n",
        "\n",
        "# WFS URL\n",
        "wfs_url = 'https://service.pdok.nl/cbs/wijkenbuurten/2023/wfs/v1_0'\n",
        "\n",
        "# Stel de parameters voor het GET-verzoek\n",
        "params = {\n",
        "    'service': 'WFS',\n",
        "    'version': '2.0.0',\n",
        "    'request': 'GetFeature',\n",
        "    'typeName': 'gemeenten',\n",
        "    'outputFormat': 'json',\n",
        "    'PropertyName': 'gemeentenaam,gemeentecode'\n",
        "}\n",
        "\n",
        "# Stel de headers voor het GET-verzoek\n",
        "headers = {\n",
        "    'Accept-Encoding': 'gzip'\n",
        "}\n",
        "\n",
        "# Maak een GET-verzoek met compressie\n",
        "r = requests.get(wfs_url, params=params, headers=headers)\n",
        "\n",
        "# Controleer of het verzoek succesvol was\n",
        "if r.status_code == 200:\n",
        "    print(\"Data succesvol opgehaald!\")\n",
        "\n",
        "    # Zet de JSON-data om naar een GeoDataFrame\n",
        "    cbs_gemeente = gpd.read_file(io.BytesIO(r.content))\n",
        "\n",
        "    # Filter de nodige kolommen\n",
        "    # cbs_gemeente = cbs_gemeente[['gemeentecode', 'gemeentenaam', 'geometry']]\n",
        "else:\n",
        "    print(f\"Fout bij het ophalen van de data: {r.status_code}\")\n",
        "    print(r.text)\n"
      ]
    },
    {
      "cell_type": "markdown",
      "id": "PinTBuR1UdJ8",
      "metadata": {
        "id": "PinTBuR1UdJ8"
      },
      "source": [
        "#### Controleer data"
      ]
    },
    {
      "cell_type": "code",
      "execution_count": null,
      "id": "5A-rbntwUcnA",
      "metadata": {
        "id": "5A-rbntwUcnA"
      },
      "outputs": [],
      "source": [
        "# print(cbs_gemeente.head())\n",
        "print(cbs_gemeente.info())"
      ]
    },
    {
      "cell_type": "markdown",
      "id": "6pw1KdnxttcQ",
      "metadata": {
        "id": "6pw1KdnxttcQ"
      },
      "source": [
        "## Stap 8: Gemeente koppelen aan postcode 5 cijfers"
      ]
    },
    {
      "cell_type": "code",
      "source": [
        "# Deze code voert een specifieke taak uit\n",
        "cbs_gemeente['geometry_right'] = cbs_gemeente.loc[:, 'geometry']\n",
        "\n",
        "# Ruimtelijke join uitvoeren om de gemeentes te vinden die overlappen met postcodes\n",
        "joined_data = gpd.sjoin(merged_data, cbs_gemeente, predicate='intersects')\n",
        "\n",
        "# Bereken de overlappingsgebieden door een geometrische intersectie te maken tussen de postcodes en gemeentes\n",
        "joined_data['intersection'] = joined_data.geometry_right.intersection(joined_data['geometry'])\n",
        "\n",
        "# Bereken de oppervlakte van de intersectie\n",
        "joined_data['intersection_area'] = joined_data['intersection'].area\n",
        "\n",
        "# Reset de index zodat de later de juiste rijen geselecteerd kunnen worden\n",
        "joined_data.reset_index(drop=True, inplace=True)\n",
        "\n",
        "# Groepeer per postcode en kies de gemeente met het grootste overlappingsgebied\n",
        "idx = joined_data.groupby(\n",
        "    ['POSTCODE5', 'PRODUCTSOORT']\n",
        "    )['intersection_area'].idxmax()\n",
        "\n",
        "# Selecteer alleen de rijen met de grootste overlap per postcode\n",
        "largest_overlap = joined_data.loc[idx]\n",
        "\n",
        "# Rename geometry columns to have 'geometry' for the original geometry (geometry_left)\n",
        "largest_overlap = largest_overlap.rename(columns={'geometry_left': 'geometry'})\n",
        "\n",
        "# Behoud de gewenste kolommen\n",
        "result = largest_overlap[['POSTCODE5', 'PRODUCTSOORT', 'NETBEHEERDER', 'NETGEBIED', 'WOONPLAATS',\n",
        "                          'LANDCODE', 'VERBRUIKSSEGMENT', 'AANSLUITINGEN_TOTAAL', 'SJV_GEMIDDELD_PC5',\n",
        "                          'SJV_LAAG_TARIEF_PERC_PC5', 'LEVERINGSRICHTING_PERC_PC5', 'FYSIEKE_STATUS_PERC_PC5',\n",
        "                          'SOORT_AANSLUITING_PERC_PC5', 'SLIMME_METER_PERC_PC5', 'geometry',\n",
        "                          'gemeentecode', 'gemeentenaam']]"
      ],
      "metadata": {
        "id": "90xXoAt6qhEr"
      },
      "id": "90xXoAt6qhEr",
      "execution_count": null,
      "outputs": []
    },
    {
      "cell_type": "markdown",
      "id": "38e0cbc4",
      "metadata": {
        "id": "38e0cbc4"
      },
      "source": [
        "#### Filter gemeente"
      ]
    },
    {
      "cell_type": "code",
      "execution_count": null,
      "id": "a14a35e9",
      "metadata": {
        "id": "a14a35e9"
      },
      "outputs": [],
      "source": [
        "# Filter merged_data met de gemeente naar keuze\n",
        "result = result[(result['gemeentecode'] == 'GM0228')].copy()"
      ]
    },
    {
      "cell_type": "markdown",
      "id": "RUDHMqW7vGug",
      "metadata": {
        "id": "RUDHMqW7vGug"
      },
      "source": [
        "#### Controleren"
      ]
    },
    {
      "cell_type": "code",
      "execution_count": null,
      "id": "zz5f_uTVvIFc",
      "metadata": {
        "id": "zz5f_uTVvIFc"
      },
      "outputs": [],
      "source": [
        "# Print the updated merged_data\n",
        "print(result)\n"
      ]
    },
    {
      "cell_type": "code",
      "source": [
        "# Print dubbelen rijen die eventeel voorkomen\n",
        "duplicate_rows = result[result.duplicated(subset=['POSTCODE5', 'PRODUCTSOORT'], keep=False)]\n",
        "print(duplicate_rows)"
      ],
      "metadata": {
        "id": "kuQR08Mqruda"
      },
      "id": "kuQR08Mqruda",
      "execution_count": null,
      "outputs": []
    },
    {
      "cell_type": "markdown",
      "id": "Y-hbFtKRT2p1",
      "metadata": {
        "id": "Y-hbFtKRT2p1"
      },
      "source": [
        "## Stap 9: Elektriciteit en gas data splitsen"
      ]
    },
    {
      "cell_type": "code",
      "execution_count": null,
      "id": "itmSE7yhuZQI",
      "metadata": {
        "id": "itmSE7yhuZQI"
      },
      "outputs": [],
      "source": [
        "# Split into electricity and gas dataframes\n",
        "electricity_data = result[result['PRODUCTSOORT'] == 'ELK']\n",
        "gas_data = result[result['PRODUCTSOORT'] == 'GAS']\n",
        "\n",
        "# Converteer naar GeoDataFrames\n",
        "electricity_gdf = gpd.GeoDataFrame(electricity_data, geometry='geometry')\n",
        "gas_gdf = gpd.GeoDataFrame(gas_data, geometry='geometry')\n"
      ]
    },
    {
      "cell_type": "markdown",
      "id": "7spiCRA_zCuI",
      "metadata": {
        "id": "7spiCRA_zCuI"
      },
      "source": [
        "#### Controleer"
      ]
    },
    {
      "cell_type": "code",
      "execution_count": null,
      "id": "3m2g-l14zCW4",
      "metadata": {
        "id": "3m2g-l14zCW4"
      },
      "outputs": [],
      "source": [
        "# Print nieuwe dataframes uit\n",
        "print(electricity_gdf.info())\n",
        "print(gas_gdf.info())"
      ]
    },
    {
      "cell_type": "markdown",
      "id": "F_axYgHZu742",
      "metadata": {
        "id": "F_axYgHZu742"
      },
      "source": [
        "## Stap 10: Geodata output naar .gpkg bestand"
      ]
    },
    {
      "cell_type": "code",
      "execution_count": null,
      "id": "EcfecCVyvARO",
      "metadata": {
        "id": "EcfecCVyvARO"
      },
      "outputs": [],
      "source": [
        "# Creeer een GeoPackage bestand\n",
        "output_filename = 'netbeheerder_data.gpkg'\n",
        "\n",
        "# Schrijf de twee GeoDataFrames naar het GeoPackage bestand\n",
        "electricity_gdf.to_file(output_filename, layer='electricity', driver='GPKG')\n",
        "gas_gdf.to_file(output_filename, layer='gas', driver='GPKG')\n",
        "\n",
        "print(f\"GeoPackage file '{output_filename}' created successfully.\")"
      ]
    }
  ],
  "metadata": {
    "colab": {
      "collapsed_sections": [
        "hRlBJBpBzbKm",
        "7Ogm81yU0Wfh",
        "t7NOe_s50Z7h"
      ],
      "provenance": [],
      "include_colab_link": true
    },
    "kernelspec": {
      "display_name": "Python 3.11.0 64-bit",
      "language": "python",
      "name": "python3"
    },
    "language_info": {
      "codemirror_mode": {
        "name": "ipython",
        "version": 3
      },
      "file_extension": ".py",
      "mimetype": "text/x-python",
      "name": "python",
      "nbconvert_exporter": "python",
      "pygments_lexer": "ipython3",
      "version": "3.11.0"
    },
    "vscode": {
      "interpreter": {
        "hash": "62d7c45b608c8f25a25b43e6d3bc9acf6c426a1b6aa739c22bf731be503f4da5"
      }
    }
  },
  "nbformat": 4,
  "nbformat_minor": 5
}