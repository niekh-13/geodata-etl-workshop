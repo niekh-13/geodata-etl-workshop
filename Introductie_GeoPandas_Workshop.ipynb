{
  "cells": [
    {
      "cell_type": "markdown",
      "metadata": {
        "id": "view-in-github",
        "colab_type": "text"
      },
      "source": [
        "<a href=\"https://colab.research.google.com/github/niekh-13/geodata-etl-workshop/blob/main/Introductie_GeoPandas_Workshop.ipynb\" target=\"_parent\"><img src=\"https://colab.research.google.com/assets/colab-badge.svg\" alt=\"Open In Colab\"/></a>"
      ]
    },
    {
      "cell_type": "markdown",
      "id": "f98af5bf",
      "metadata": {
        "id": "f98af5bf"
      },
      "source": [
        "<a href=\"https://colab.research.google.com/github/niekh-13/geodata-etl-workshop/blob/main/Introductie_GeoPandas_Workshop.ipynb\" target=\"_parent\"><img src=\"https://colab.research.google.com/assets/colab-badge.svg\" alt=\"Open In Colab\"/></a>"
      ]
    },
    {
      "cell_type": "markdown",
      "id": "da30464b",
      "metadata": {
        "id": "da30464b"
      },
      "source": [
        "# Introductie Pandas en GeoPandas: eenvoudige ETL scripting"
      ]
    },
    {
      "cell_type": "markdown",
      "id": "71f75912",
      "metadata": {
        "id": "71f75912"
      },
      "source": [
        "In deze workshop voor Kaartviewer inspiratie dagen 2024 leer je de basis van Pandas en GeoPandas kennen door gebruik te maken van open data van Nederlandse netbeheerders en CBS."
      ]
    },
    {
      "cell_type": "code",
      "execution_count": null,
      "id": "d344c7a1",
      "metadata": {
        "id": "d344c7a1"
      },
      "outputs": [],
      "source": [
        "# Deze code voert een specifieke taak uit\n",
        "%%capture\n",
        "# Install necessary packages\n",
        "!pip install pandas geopandas ipython-extensions shapely"
      ]
    },
    {
      "cell_type": "code",
      "execution_count": null,
      "id": "nLDDoHEvzjgZ",
      "metadata": {
        "id": "nLDDoHEvzjgZ"
      },
      "outputs": [],
      "source": [
        "# Deze code voert een specifieke taak uit\n",
        "%%capture\n",
        "\n",
        "import requests\n",
        "import zipfile\n",
        "import os"
      ]
    },
    {
      "cell_type": "markdown",
      "id": "9ec4feef",
      "metadata": {
        "id": "9ec4feef"
      },
      "source": [
        "## Stap 1: Data downloaden van gekozen netbeheerder"
      ]
    },
    {
      "cell_type": "markdown",
      "id": "135d22b1",
      "metadata": {
        "id": "135d22b1"
      },
      "source": [
        "### Kies één van de netbeheerders en download hun dataset."
      ]
    },
    {
      "cell_type": "markdown",
      "id": "hRlBJBpBzbKm",
      "metadata": {
        "id": "hRlBJBpBzbKm"
      },
      "source": [
        "\n",
        "#### Liander\n",
        "\n"
      ]
    },
    {
      "cell_type": "code",
      "execution_count": null,
      "id": "EPm9p1CWzH91",
      "metadata": {
        "id": "EPm9p1CWzH91"
      },
      "outputs": [],
      "source": [
        "# Download Liander\n",
        "url = \"https://www.liander.nl/-/media/files/open-data/kleinverbruikdata/kleinverbruiksgegevens-2024.zip\"\n",
        "response = requests.get(url)\n",
        "delimiter = ';'\n",
        "\n",
        "# Get filenames and paths for Liander\n",
        "filename = 'Liander_kleinverbruiksgegevens_20240101.csv'\n",
        "zip_path = url.split(\"/\")[-1]\n",
        "\n",
        "# Write response content in to zipfile\n",
        "with open(zip_path, \"wb\") as f:\n",
        "  f.write(response.content)\n",
        "\n",
        "# Extract the csv file from zip file\n",
        "with zipfile.ZipFile(zip_path, 'r') as zip_ref:\n",
        "  zip_ref.extractall(\".\")\n",
        "\n",
        "print(f\"{filename} is downloaded\")"
      ]
    },
    {
      "cell_type": "markdown",
      "id": "V5__OfnT0Gxl",
      "metadata": {
        "id": "V5__OfnT0Gxl"
      },
      "source": [
        "#### Enexis\n"
      ]
    },
    {
      "cell_type": "code",
      "execution_count": null,
      "id": "rU5NvAtozMiE",
      "metadata": {
        "id": "rU5NvAtozMiE"
      },
      "outputs": [],
      "source": [
        "# Download Enexis\n",
        "url = \"https://enxp433-oda01.s3.eu-west-1.amazonaws.com/kv/Enexis_kleinverbruiksgegevens_01012024.csv\"\n",
        "response = requests.get(url)\n",
        "delimiter = ';'\n",
        "\n",
        "# Get filename for Enexis\n",
        "filename = url.split(\"/\")[-1]\n",
        "\n",
        "# Write response content in to csv file\n",
        "with open(filename, \"wb\") as f:\n",
        "  f.write(response.content)\n",
        "\n",
        "print(f\"{filename} is downloaded\")\n"
      ]
    },
    {
      "cell_type": "markdown",
      "id": "7Ogm81yU0Wfh",
      "metadata": {
        "id": "7Ogm81yU0Wfh"
      },
      "source": [
        "#### Stedin"
      ]
    },
    {
      "cell_type": "code",
      "execution_count": null,
      "id": "n4pKvHkjWdn1",
      "metadata": {
        "id": "n4pKvHkjWdn1"
      },
      "outputs": [],
      "source": [
        "# Deze code voert een specifieke taak uit\n",
        "!wget https://www.stedin.net/-/media/project/online/files/zakelijk/open-data/stedin-kleinverbruikgegevens-2024.csv\n",
        "\n",
        "delimiter = '\\t'"
      ]
    },
    {
      "cell_type": "markdown",
      "id": "t7NOe_s50Z7h",
      "metadata": {
        "id": "t7NOe_s50Z7h"
      },
      "source": [
        "#### Coteq"
      ]
    },
    {
      "cell_type": "code",
      "execution_count": null,
      "id": "hEVBCI2vzQ8o",
      "metadata": {
        "id": "hEVBCI2vzQ8o"
      },
      "outputs": [],
      "source": [
        "# Download Coteq\n",
        "url = \"https://d3a07q56iliqjn.cloudfront.net/web-uploads/Documenten/Open-data/CoteqNetbeheer_kleinverbruik_01012024.csv\"\n",
        "response = requests.get(url)\n",
        "delimiter = ';'\n",
        "\n",
        "# Get filename for Coteq\n",
        "filename = url.split(\"/\")[-1]\n",
        "\n",
        "# Write response content in to csv file\n",
        "with open(filename, \"wb\") as f:\n",
        "  f.write(response.content)\n",
        "\n",
        "print(f\"{filename} is downloaded\")"
      ]
    },
    {
      "cell_type": "markdown",
      "id": "658jPS6w1z_E",
      "metadata": {
        "id": "658jPS6w1z_E"
      },
      "source": [
        "\n",
        "## Stap 2: Netbeheer data in pandas laden"
      ]
    },
    {
      "cell_type": "code",
      "execution_count": null,
      "id": "KBLktIUy1qfY",
      "metadata": {
        "id": "KBLktIUy1qfY"
      },
      "outputs": [],
      "source": [
        "# Deze code voert een specifieke taak uit\n",
        "import pandas as pd\n",
        "\n",
        "columns = [\n",
        "    \"NETBEHEERDER\", \"NETGEBIED\", \"STRAATNAAM\", \"POSTCODE_VAN\", \"POSTCODE_TOT\",\n",
        "    \"WOONPLAATS\", \"LANDCODE\", \"PRODUCTSOORT\", \"VERBRUIKSSEGMENT\", \"AANSLUITINGEN_AANTAL\",\n",
        "    \"LEVERINGSRICHTING_PERC\", \"FYSIEKE_STATUS_PERC\", \"SOORT_AANSLUITING_PERC\",\n",
        "    \"SOORT_AANSLUITING\", \"SJV_GEMIDDELD\", \"SJV_LAAG_TARIEF_PERC\", \"SLIMME_METER_PERC\"\n",
        "]\n",
        "\n",
        "# Inlezen van netbeheerder data met pandas\n",
        "data = pd.read_csv(filename, sep=delimiter, dtype=str, names=columns, skiprows=1)\n",
        "\n",
        "# Data van netbeheerder uniform maken voor pandas\n",
        "data = data.map(lambda x: x.replace(',', '.') if isinstance(x, str) else x)"
      ]
    },
    {
      "cell_type": "markdown",
      "id": "KanRBWQhcnNU",
      "metadata": {
        "id": "KanRBWQhcnNU"
      },
      "source": [
        "#### Controleer data"
      ]
    },
    {
      "cell_type": "code",
      "execution_count": null,
      "id": "_UIc6hN_cohI",
      "metadata": {
        "id": "_UIc6hN_cohI"
      },
      "outputs": [],
      "source": [
        "# Deze code voert een specifieke taak uit\n",
        "print(data.head())\n",
        "# print(data.info())\n",
        "# print(data.describe())"
      ]
    },
    {
      "cell_type": "markdown",
      "id": "muniSPUeGkk7",
      "metadata": {
        "id": "muniSPUeGkk7"
      },
      "source": [
        "#### Data aggereren naar Postcode4"
      ]
    },
    {
      "cell_type": "code",
      "execution_count": null,
      "id": "qu3SJ8BLGq5k",
      "metadata": {
        "id": "qu3SJ8BLGq5k"
      },
      "outputs": [],
      "source": [
        "# Stap 1: Postcode4 afleiden\n",
        "data['POSTCODE4'] = data['POSTCODE_TOT'].str[:4]\n",
        "\n",
        "# Zorg dat AANSLUITINGEN_AANTAL en andere numerieke kolommen numeriek zijn\n",
        "data['POSTCODE4'] = pd.to_numeric(data['POSTCODE4'], errors='coerce')\n",
        "data['AANSLUITINGEN_AANTAL'] = pd.to_numeric(data['AANSLUITINGEN_AANTAL'], errors='coerce')\n",
        "data['SJV_GEMIDDELD'] = pd.to_numeric(data['SJV_GEMIDDELD'], errors='coerce')\n",
        "data['SJV_LAAG_TARIEF_PERC'] = pd.to_numeric(data['SJV_LAAG_TARIEF_PERC'], errors='coerce')\n",
        "data['LEVERINGSRICHTING_PERC'] = pd.to_numeric(data['LEVERINGSRICHTING_PERC'], errors='coerce')\n",
        "data['FYSIEKE_STATUS_PERC'] = pd.to_numeric(data['FYSIEKE_STATUS_PERC'], errors='coerce')\n",
        "data['SOORT_AANSLUITING_PERC'] = pd.to_numeric(data['SOORT_AANSLUITING_PERC'], errors='coerce')\n",
        "data['SLIMME_METER_PERC'] = pd.to_numeric(data['SLIMME_METER_PERC'], errors='coerce')\n",
        "\n",
        "# Stap 2: Functie om gewogen gemiddelde te berekenen\n",
        "def weighted_average(df, col, weight_col):\n",
        "    return (df[col] * df[weight_col]).sum() / df[weight_col].sum()\n",
        "\n",
        "# Stap 3: Groeperen op de gewenste kolommen\n",
        "grouped_data = data.groupby(\n",
        "    ['POSTCODE4', 'PRODUCTSOORT', 'NETBEHEERDER', 'NETGEBIED', 'WOONPLAATS', 'LANDCODE', 'VERBRUIKSSEGMENT']\n",
        ").apply(lambda x: pd.Series({\n",
        "    'AANSLUITINGEN_TOTAAL': x['AANSLUITINGEN_AANTAL'].sum(),\n",
        "    'SJV_GEMIDDELD_GEM': weighted_average(x, 'SJV_GEMIDDELD', 'AANSLUITINGEN_AANTAL'),\n",
        "    'SJV_LAAG_TARIEF_PERC_GEM': weighted_average(x, 'SJV_LAAG_TARIEF_PERC', 'AANSLUITINGEN_AANTAL'),\n",
        "    'LEVERINGSRICHTING_PERC_GEM': weighted_average(x, 'LEVERINGSRICHTING_PERC', 'AANSLUITINGEN_AANTAL'),\n",
        "    'FYSIEKE_STATUS_PERC_GEM': weighted_average(x, 'FYSIEKE_STATUS_PERC', 'AANSLUITINGEN_AANTAL'),\n",
        "    'SOORT_AANSLUITING_PERC_GEM': weighted_average(x, 'SOORT_AANSLUITING_PERC', 'AANSLUITINGEN_AANTAL'),\n",
        "    'SLIMME_METER_PERC_GEM': weighted_average(x, 'SLIMME_METER_PERC', 'AANSLUITINGEN_AANTAL'),\n",
        "})).reset_index()"
      ]
    },
    {
      "cell_type": "code",
      "execution_count": null,
      "id": "4IcB2iN0InYy",
      "metadata": {
        "id": "4IcB2iN0InYy"
      },
      "outputs": [],
      "source": [
        "# Stap 4: Bekijk de gegroepeerde data\n",
        "# print(grouped_data.head())\n",
        "print(grouped_data.info())"
      ]
    },
    {
      "cell_type": "markdown",
      "id": "022f3521",
      "metadata": {
        "id": "022f3521"
      },
      "source": [
        "## Stap 3: CBS Postcode Data downloaden"
      ]
    },
    {
      "cell_type": "code",
      "execution_count": null,
      "id": "6a6dcfbd",
      "metadata": {
        "id": "6a6dcfbd"
      },
      "outputs": [],
      "source": [
        "# Make variables for download\n",
        "pc4_url = \"https://download.cbs.nl/postcode/2024-cbs_pc4_2023_v1.zip\"\n",
        "pc4_dirname = \"CBS_Postcode\" # Name of the directory\n",
        "\n",
        "# Download CBS Postcode data\n",
        "response = requests.get(pc4_url)\n",
        "\n",
        "# Get filename for CBS Postcode\n",
        "filename = pc4_url.split(\"/\")[-1]\n",
        "\n",
        "# Write response content in to zip file\n",
        "with open(filename, \"wb\") as f:\n",
        "    f.write(response.content)\n",
        "\n",
        "# Extract the files from zip file\n",
        "with zipfile.ZipFile(filename, 'r') as zip_ref:\n",
        "    zip_ref.extractall(f\"./{pc4_dirname}\")\n",
        "\n",
        "print(f\"{pc4_dirname} data is gedownload en uitgepakt\")"
      ]
    },
    {
      "cell_type": "markdown",
      "id": "zb_iaV2uMYKX",
      "metadata": {
        "id": "zb_iaV2uMYKX"
      },
      "source": [
        "## Stap 4: CBS Postcode data inlezen"
      ]
    },
    {
      "cell_type": "code",
      "execution_count": null,
      "id": "0rN95i0yEPlE",
      "metadata": {
        "id": "0rN95i0yEPlE"
      },
      "outputs": [],
      "source": [
        "# Deze code voert een specifieke taak uit\n",
        "import geopandas as gpd"
      ]
    },
    {
      "cell_type": "code",
      "execution_count": null,
      "id": "pY1xe6DPEKzl",
      "metadata": {
        "id": "pY1xe6DPEKzl"
      },
      "outputs": [],
      "source": [
        "# Bestandspad naar het GeoPackage-bestand\n",
        "cbs_postcode_file = \"CBS_Postcode/cbs_pc4_2023_v1.gpkg\"\n",
        "\n",
        "# CBS Postcode data inlezen\n",
        "cbs_postcode = gpd.read_file(cbs_postcode_file, layer='cbs_pc4_2023')"
      ]
    },
    {
      "cell_type": "code",
      "execution_count": null,
      "id": "BD0orLv0Fu8U",
      "metadata": {
        "id": "BD0orLv0Fu8U"
      },
      "outputs": [],
      "source": [
        "# Alleen de kolommen 'postcode6' en 'geometry' selecteren\n",
        "cbs_postcode = cbs_postcode[['postcode', 'geometry']]"
      ]
    },
    {
      "cell_type": "markdown",
      "id": "7MtaXwJMMfde",
      "metadata": {
        "id": "7MtaXwJMMfde"
      },
      "source": [
        "#### Controleer data"
      ]
    },
    {
      "cell_type": "code",
      "execution_count": null,
      "id": "NYDaJVbVMe5y",
      "metadata": {
        "id": "NYDaJVbVMe5y"
      },
      "outputs": [],
      "source": [
        "# print(cbs_postcode.head())\n",
        "print(cbs_postcode.info())\n",
        "# print(cbs_postcode.describe())"
      ]
    },
    {
      "cell_type": "markdown",
      "id": "vchWCPidLrmG",
      "metadata": {
        "id": "vchWCPidLrmG"
      },
      "source": [
        "## Stap 5: CBS Postcode Data koppelen aan netbeheer data\n"
      ]
    },
    {
      "cell_type": "code",
      "execution_count": null,
      "id": "N79Ox7bMLQnK",
      "metadata": {
        "id": "N79Ox7bMLQnK"
      },
      "outputs": [],
      "source": [
        "# Merging the datasets\n",
        "merged_data = pd.merge(grouped_data, cbs_postcode, left_on=\"POSTCODE4\", right_on=\"postcode\", how=\"left\")\n",
        "merged_data = merged_data.drop(columns=[\"postcode\"])\n",
        "merged_data = gpd.GeoDataFrame(merged_data, geometry='geometry')"
      ]
    },
    {
      "cell_type": "markdown",
      "id": "_XvLwmawTgDJ",
      "metadata": {
        "id": "_XvLwmawTgDJ"
      },
      "source": [
        "#### Controleer data"
      ]
    },
    {
      "cell_type": "code",
      "execution_count": null,
      "id": "-KyEcCoqJloR",
      "metadata": {
        "id": "-KyEcCoqJloR"
      },
      "outputs": [],
      "source": [
        "# print(merged_data.head())\n",
        "print(merged_data.info())"
      ]
    },
    {
      "cell_type": "markdown",
      "id": "WLTGOaEdUFVU",
      "metadata": {
        "id": "WLTGOaEdUFVU"
      },
      "source": [
        "## Stap 6: CBS wijkbuurten kaart data downloaden voor gemeenten"
      ]
    },
    {
      "cell_type": "code",
      "execution_count": null,
      "id": "nA8j9QUCUW6o",
      "metadata": {
        "id": "nA8j9QUCUW6o"
      },
      "outputs": [],
      "source": [
        "# Make variables for download\n",
        "cbv_url = \"https://download.cbs.nl/regionale-kaarten/wijkbuurtkaart_2023_v1.zip\"\n",
        "cbs_name = \"CBS_wijkbuurtkaart\" # Name of the directory\n",
        "\n",
        "# Download CBS Wijken data\n",
        "response = requests.get(cbv_url)\n",
        "\n",
        "# Get filename for Enexis\n",
        "filename = cbv_url.split(\"/\")[-1]\n",
        "\n",
        "# Write response content in to zip file\n",
        "with open(filename, \"wb\") as f:\n",
        "    f.write(response.content)\n",
        "\n",
        "# Extract the files from zip file\n",
        "with zipfile.ZipFile(filename, 'r') as zip_ref:\n",
        "    zip_ref.extractall(f\"./{cbs_name}\")\n",
        "\n",
        "print(f\"{cbs_name} data is gedownload en uitgepakt\")"
      ]
    },
    {
      "cell_type": "code",
      "execution_count": null,
      "id": "DoDhoudfUbfA",
      "metadata": {
        "id": "DoDhoudfUbfA"
      },
      "outputs": [],
      "source": [
        "# CBS Wijken en Buurten data inlezen\n",
        "cbs_wijkenbuurten_file = \"CBS_wijkbuurtkaart/wijkenbuurten_2023_v1.gpkg\"\n",
        "cbs_gemeente = gpd.read_file(cbs_wijkenbuurten_file, layer=\"gemeenten\")\n",
        "\n",
        "cbs_gemeente = cbs_gemeente[['gemeentecode', 'gemeentenaam', 'geometry']]"
      ]
    },
    {
      "cell_type": "markdown",
      "id": "PinTBuR1UdJ8",
      "metadata": {
        "id": "PinTBuR1UdJ8"
      },
      "source": [
        "#### Controleer data"
      ]
    },
    {
      "cell_type": "code",
      "execution_count": null,
      "id": "5A-rbntwUcnA",
      "metadata": {
        "id": "5A-rbntwUcnA"
      },
      "outputs": [],
      "source": [
        "# print(cbs_gemeente.head())\n",
        "print(cbs_gemeente.info())"
      ]
    },
    {
      "cell_type": "code",
      "execution_count": null,
      "id": "Y9CGKM5txnRL",
      "metadata": {
        "id": "Y9CGKM5txnRL"
      },
      "outputs": [],
      "source": [
        "# Deze code voert een specifieke taak uit\n",
        "print(joined_data.info())"
      ]
    },
    {
      "cell_type": "markdown",
      "id": "6pw1KdnxttcQ",
      "metadata": {
        "id": "6pw1KdnxttcQ"
      },
      "source": [
        "## Stap 7: Gemeente koppelen aan postcode 4 cijfers"
      ]
    },
    {
      "cell_type": "code",
      "execution_count": null,
      "id": "ifm50_J4ts2r",
      "metadata": {
        "id": "ifm50_J4ts2r"
      },
      "outputs": [],
      "source": [
        "# Deze code voert een specifieke taak uit\n",
        "cbs_gemeente['geometry_right'] = cbs_gemeente.geometry\n",
        "\n",
        "# Ruimtelijke join uitvoeren om de gemeentes te vinden die overlappen met postcodes\n",
        "joined_data = gpd.sjoin(merged_data, cbs_gemeente, how='left', predicate='intersects')\n",
        "\n",
        "# Bereken de overlappingsgebieden door een geometrische intersectie te maken tussen de postcodes en gemeentes\n",
        "joined_data['intersection'] = joined_data.geometry.intersection(joined_data['geometry_right'])\n",
        "\n",
        "# Bereken de oppervlakte van de intersectie\n",
        "joined_data['intersection_area'] = joined_data['intersection'].area\n",
        "\n",
        "# Groepeer per postcode en kies de gemeente met het grootste overlappingsgebied\n",
        "idx = joined_data.groupby(\n",
        "    ['POSTCODE4', 'PRODUCTSOORT', 'NETBEHEERDER', 'NETGEBIED', 'WOONPLAATS', 'LANDCODE', 'VERBRUIKSSEGMENT']\n",
        "    )['intersection_area'].idxmax()\n",
        "\n",
        "# Selecteer alleen de rijen met de grootste overlap per postcode\n",
        "largest_overlap = joined_data.loc[idx]\n",
        "\n",
        "# Rename geometry columns to have 'geometry' for the original geometry (geometry_left)\n",
        "largest_overlap = largest_overlap.rename(columns={'geometry_left': 'geometry'})\n",
        "\n",
        "# Behoud de gewenste kolommen\n",
        "result = largest_overlap[['POSTCODE4', 'PRODUCTSOORT', 'NETBEHEERDER', 'NETGEBIED', 'WOONPLAATS',\n",
        "                          'LANDCODE', 'VERBRUIKSSEGMENT', 'AANSLUITINGEN_TOTAAL', 'SJV_GEMIDDELD_GEM',\n",
        "                          'SJV_LAAG_TARIEF_PERC_GEM', 'LEVERINGSRICHTING_PERC_GEM', 'FYSIEKE_STATUS_PERC_GEM',\n",
        "                          'SOORT_AANSLUITING_PERC_GEM', 'SLIMME_METER_PERC_GEM', 'geometry',\n",
        "                          'gemeentecode', 'gemeentenaam']]"
      ]
    },
    {
      "cell_type": "markdown",
      "id": "RUDHMqW7vGug",
      "metadata": {
        "id": "RUDHMqW7vGug"
      },
      "source": [
        "#### Controleren"
      ]
    },
    {
      "cell_type": "code",
      "execution_count": null,
      "id": "zz5f_uTVvIFc",
      "metadata": {
        "id": "zz5f_uTVvIFc"
      },
      "outputs": [],
      "source": [
        "# Print the updated merged_data\n",
        "print(result.info())"
      ]
    },
    {
      "cell_type": "markdown",
      "id": "Y-hbFtKRT2p1",
      "metadata": {
        "id": "Y-hbFtKRT2p1"
      },
      "source": [
        "## Stap 8: Elektrische data en gas data splitsen en gemeente filteren"
      ]
    },
    {
      "cell_type": "code",
      "execution_count": null,
      "id": "itmSE7yhuZQI",
      "metadata": {
        "id": "itmSE7yhuZQI"
      },
      "outputs": [],
      "source": [
        "# Filter merged_data for Tilburg\n",
        "filtered_data = result[(result['gemeentecode'] == 'GM0855')]\n",
        "\n",
        "# Split into electricity and gas dataframes\n",
        "electricity_data = filtered_data[filtered_data['PRODUCTSOORT'] == 'ELK']\n",
        "gas_data = filtered_data[filtered_data['PRODUCTSOORT'] == 'GAS']\n",
        "\n",
        "# Convert to GeoDataFrames\n",
        "electricity_gdf = gpd.GeoDataFrame(electricity_data, geometry='geometry')\n",
        "gas_gdf = gpd.GeoDataFrame(gas_data, geometry='geometry')\n"
      ]
    },
    {
      "cell_type": "markdown",
      "id": "7spiCRA_zCuI",
      "metadata": {
        "id": "7spiCRA_zCuI"
      },
      "source": [
        "#### Controleer"
      ]
    },
    {
      "cell_type": "code",
      "execution_count": null,
      "id": "3m2g-l14zCW4",
      "metadata": {
        "id": "3m2g-l14zCW4"
      },
      "outputs": [],
      "source": [
        "# Print the updated merged_data\n",
        "print(electricity_gdf.info())\n",
        "print(gas_gdf.info())"
      ]
    },
    {
      "cell_type": "markdown",
      "id": "F_axYgHZu742",
      "metadata": {
        "id": "F_axYgHZu742"
      },
      "source": [
        "## Stap 9: Geodata output naar gpkg bestand"
      ]
    },
    {
      "cell_type": "code",
      "execution_count": null,
      "id": "EcfecCVyvARO",
      "metadata": {
        "id": "EcfecCVyvARO"
      },
      "outputs": [],
      "source": [
        "# Create a GeoPackage file\n",
        "output_filename = 'netbeheerder_data.gpkg'\n",
        "\n",
        "# Write the GeoDataFrames to the GeoPackage file\n",
        "electricity_gdf.to_file(output_filename, layer='electricity', driver='GPKG')\n",
        "gas_gdf.to_file(output_filename, layer='gas', driver='GPKG')\n",
        "\n",
        "print(f\"GeoPackage file '{output_filename}' created successfully.\")"
      ]
    }
  ],
  "metadata": {
    "colab": {
      "collapsed_sections": [
        "hRlBJBpBzbKm",
        "7Ogm81yU0Wfh",
        "t7NOe_s50Z7h"
      ],
      "provenance": [],
      "include_colab_link": true
    },
    "kernelspec": {
      "display_name": "Python 3",
      "name": "python3"
    },
    "language_info": {
      "name": "python"
    }
  },
  "nbformat": 4,
  "nbformat_minor": 5
}