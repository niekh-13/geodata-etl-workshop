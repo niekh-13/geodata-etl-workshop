{
  "cells": [
    {
      "cell_type": "markdown",
      "metadata": {
        "id": "view-in-github",
        "colab_type": "text"
      },
      "source": [
        "<a href=\"https://colab.research.google.com/github/niekh-13/geodata-etl-workshop/blob/main/Introductie_GeoPandas_Workshop.ipynb\" target=\"_parent\"><img src=\"https://colab.research.google.com/assets/colab-badge.svg\" alt=\"Open In Colab\"/></a>"
      ]
    },
    {
      "cell_type": "markdown",
      "id": "da30464b",
      "metadata": {
        "id": "da30464b"
      },
      "source": [
        "# Introductie Pandas en GeoPandas: eenvoudige ETL scripting"
      ]
    },
    {
      "cell_type": "markdown",
      "id": "71f75912",
      "metadata": {
        "id": "71f75912"
      },
      "source": [
        "In deze workshop voor Kaartviewer inspiratie dagen 2024 leer je de basis van Pandas en GeoPandas kennen door gebruik te maken van open data van Nederlandse netbeheerders en CBS."
      ]
    },
    {
      "cell_type": "code",
      "execution_count": null,
      "id": "d344c7a1",
      "metadata": {
        "id": "d344c7a1"
      },
      "outputs": [],
      "source": [
        "%%capture\n",
        "# Install necessary packages\n",
        "!pip install pandas geopandas ipython-extensions shapely"
      ]
    },
    {
      "cell_type": "code",
      "source": [
        "%%capture\n",
        "\n",
        "import requests\n",
        "import zipfile\n",
        "import os"
      ],
      "metadata": {
        "id": "nLDDoHEvzjgZ"
      },
      "id": "nLDDoHEvzjgZ",
      "execution_count": null,
      "outputs": []
    },
    {
      "cell_type": "markdown",
      "id": "9ec4feef",
      "metadata": {
        "id": "9ec4feef"
      },
      "source": [
        "## Stap 1: Data downloaden van gekozen netbeheerder"
      ]
    },
    {
      "cell_type": "markdown",
      "id": "135d22b1",
      "metadata": {
        "id": "135d22b1"
      },
      "source": [
        "### Kies één van de netbeheerders en download hun dataset."
      ]
    },
    {
      "cell_type": "markdown",
      "source": [
        "\n",
        "#### Liander\n",
        "\n"
      ],
      "metadata": {
        "id": "hRlBJBpBzbKm"
      },
      "id": "hRlBJBpBzbKm"
    },
    {
      "cell_type": "code",
      "source": [
        "# Download Liander\n",
        "url = \"https://www.liander.nl/-/media/files/open-data/kleinverbruikdata/kleinverbruiksgegevens-2024.zip\"\n",
        "response = requests.get(url)\n",
        "delimiter = ';'\n",
        "\n",
        "# Get filenames and paths for Liander\n",
        "filename = 'Liander_kleinverbruiksgegevens_20240101.csv'\n",
        "zip_path = url.split(\"/\")[-1]\n",
        "\n",
        "# Write response content in to zipfile\n",
        "with open(zip_path, \"wb\") as f:\n",
        "  f.write(response.content)\n",
        "\n",
        "# Extract the csv file from zip file\n",
        "with zipfile.ZipFile(zip_path, 'r') as zip_ref:\n",
        "  zip_ref.extractall(\".\")\n",
        "\n",
        "print(f\"{filename} is downloaded\")"
      ],
      "metadata": {
        "colab": {
          "base_uri": "https://localhost:8080/"
        },
        "id": "EPm9p1CWzH91",
        "outputId": "095cea93-16c1-4b76-d3b0-04a679a93c9f"
      },
      "id": "EPm9p1CWzH91",
      "execution_count": null,
      "outputs": [
        {
          "output_type": "stream",
          "name": "stdout",
          "text": [
            "Liander_kleinverbruiksgegevens_20240101.csv is downloaded\n"
          ]
        }
      ]
    },
    {
      "cell_type": "markdown",
      "source": [
        "#### Enexis\n"
      ],
      "metadata": {
        "id": "V5__OfnT0Gxl"
      },
      "id": "V5__OfnT0Gxl"
    },
    {
      "cell_type": "code",
      "source": [
        "# Download Enexis\n",
        "url = \"https://enxp433-oda01.s3.eu-west-1.amazonaws.com/kv/Enexis_kleinverbruiksgegevens_01012024.csv\"\n",
        "response = requests.get(url)\n",
        "delimiter = ';'\n",
        "\n",
        "# Get filename for Enexis\n",
        "filename = url.split(\"/\")[-1]\n",
        "\n",
        "# Write response content in to csv file\n",
        "with open(filename, \"wb\") as f:\n",
        "  f.write(response.content)\n",
        "\n",
        "print(f\"{filename} is downloaded\")\n"
      ],
      "metadata": {
        "colab": {
          "base_uri": "https://localhost:8080/"
        },
        "id": "rU5NvAtozMiE",
        "outputId": "70193d6a-2bc1-4d6c-9b1e-9aa3167239d9"
      },
      "id": "rU5NvAtozMiE",
      "execution_count": null,
      "outputs": [
        {
          "output_type": "stream",
          "name": "stdout",
          "text": [
            "Enexis_kleinverbruiksgegevens_01012024.csv is downloaded\n"
          ]
        }
      ]
    },
    {
      "cell_type": "markdown",
      "source": [
        "#### Stedin"
      ],
      "metadata": {
        "id": "7Ogm81yU0Wfh"
      },
      "id": "7Ogm81yU0Wfh"
    },
    {
      "cell_type": "code",
      "source": [
        "!wget https://www.stedin.net/-/media/project/online/files/zakelijk/open-data/stedin-kleinverbruikgegevens-2024.csv\n",
        "\n",
        "delimiter = '\\t'"
      ],
      "metadata": {
        "colab": {
          "base_uri": "https://localhost:8080/"
        },
        "id": "n4pKvHkjWdn1",
        "outputId": "2262e844-6b9d-4e56-d5c3-afb51b5eec02"
      },
      "id": "n4pKvHkjWdn1",
      "execution_count": null,
      "outputs": [
        {
          "output_type": "stream",
          "name": "stdout",
          "text": [
            "--2024-09-13 12:28:04--  https://www.stedin.net/-/media/project/online/files/zakelijk/open-data/stedin-kleinverbruikgegevens-2024.csv\n",
            "Resolving www.stedin.net (www.stedin.net)... 20.101.166.0\n",
            "Connecting to www.stedin.net (www.stedin.net)|20.101.166.0|:443... connected.\n",
            "HTTP request sent, awaiting response... 200 OK\n",
            "Length: 23869452 (23M) [text/csv]\n",
            "Saving to: ‘stedin-kleinverbruikgegevens-2024.csv’\n",
            "\n",
            "stedin-kleinverbrui 100%[===================>]  22.76M  16.9MB/s    in 1.3s    \n",
            "\n",
            "2024-09-13 12:28:06 (16.9 MB/s) - ‘stedin-kleinverbruikgegevens-2024.csv’ saved [23869452/23869452]\n",
            "\n"
          ]
        }
      ]
    },
    {
      "cell_type": "markdown",
      "source": [
        "#### Coteq"
      ],
      "metadata": {
        "id": "t7NOe_s50Z7h"
      },
      "id": "t7NOe_s50Z7h"
    },
    {
      "cell_type": "code",
      "source": [
        "# Download Coteq\n",
        "url = \"https://d3a07q56iliqjn.cloudfront.net/web-uploads/Documenten/Open-data/CoteqNetbeheer_kleinverbruik_01012024.csv\"\n",
        "response = requests.get(url)\n",
        "delimiter = ';'\n",
        "\n",
        "# Get filename for Coteq\n",
        "filename = url.split(\"/\")[-1]\n",
        "\n",
        "# Write response content in to csv file\n",
        "with open(filename, \"wb\") as f:\n",
        "  f.write(response.content)\n",
        "\n",
        "print(f\"{filename} is downloaded\")"
      ],
      "metadata": {
        "colab": {
          "base_uri": "https://localhost:8080/"
        },
        "id": "hEVBCI2vzQ8o",
        "outputId": "728ab77b-883c-453f-9e38-fb49d0e2446b"
      },
      "id": "hEVBCI2vzQ8o",
      "execution_count": null,
      "outputs": [
        {
          "output_type": "stream",
          "name": "stdout",
          "text": [
            "CoteqNetbeheer_kleinverbruik_01012024.csv is downloaded\n"
          ]
        }
      ]
    },
    {
      "cell_type": "markdown",
      "source": [
        "\n",
        "## Stap 2: Netbeheer data in pandas laden"
      ],
      "metadata": {
        "id": "658jPS6w1z_E"
      },
      "id": "658jPS6w1z_E"
    },
    {
      "cell_type": "code",
      "source": [
        "import pandas as pd\n",
        "\n",
        "columns = [\n",
        "    \"NETBEHEERDER\", \"NETGEBIED\", \"STRAATNAAM\", \"POSTCODE_VAN\", \"POSTCODE_TOT\",\n",
        "    \"WOONPLAATS\", \"LANDCODE\", \"PRODUCTSOORT\", \"VERBRUIKSSEGMENT\", \"AANSLUITINGEN_AANTAL\",\n",
        "    \"LEVERINGSRICHTING_PERC\", \"FYSIEKE_STATUS_PERC\", \"SOORT_AANSLUITING_PERC\",\n",
        "    \"SOORT_AANSLUITING\", \"SJV_GEMIDDELD\", \"SJV_LAAG_TARIEF_PERC\", \"SLIMME_METER_PERC\"\n",
        "]\n",
        "\n",
        "# Inlezen van netbeheerder data met pandas\n",
        "data = pd.read_csv(filename, sep=delimiter, dtype=str, names=columns, skiprows=1)\n",
        "\n",
        "# Data van netbeheerder uniform maken voor pandas\n",
        "data = data.map(lambda x: x.replace(',', '.') if isinstance(x, str) else x)"
      ],
      "metadata": {
        "id": "KBLktIUy1qfY"
      },
      "id": "KBLktIUy1qfY",
      "execution_count": null,
      "outputs": []
    },
    {
      "cell_type": "markdown",
      "source": [
        "#### Controleer data"
      ],
      "metadata": {
        "id": "KanRBWQhcnNU"
      },
      "id": "KanRBWQhcnNU"
    },
    {
      "cell_type": "code",
      "source": [
        "print(data.head())\n",
        "# print(data.info())\n",
        "# print(data.describe())"
      ],
      "metadata": {
        "colab": {
          "base_uri": "https://localhost:8080/"
        },
        "id": "_UIc6hN_cohI",
        "outputId": "931f6484-47d3-4b70-d133-6d59fbc2a057"
      },
      "id": "_UIc6hN_cohI",
      "execution_count": null,
      "outputs": [
        {
          "output_type": "stream",
          "name": "stdout",
          "text": [
            "  NETBEHEERDER NETGEBIED STRAATNAAM POSTCODE_VAN POSTCODE_TOT WOONPLAATS  \\\n",
            "0  Enexis B.V.    ENEXIS    Sasdijk      4251 AA      4251 AA  WERKENDAM   \n",
            "1  Enexis B.V.    ENEXIS    Sasdijk      4251 AA      4251 AA  WERKENDAM   \n",
            "2  Enexis B.V.    ENEXIS    Sasdijk      4251 AB      4251 AB  WERKENDAM   \n",
            "3  Enexis B.V.    ENEXIS    Sasdijk      4251 AB      4251 AB  WERKENDAM   \n",
            "4  Enexis B.V.    ENEXIS    Sasdijk      4251 AC      4251 AC  WERKENDAM   \n",
            "\n",
            "  LANDCODE PRODUCTSOORT VERBRUIKSSEGMENT AANSLUITINGEN_AANTAL  \\\n",
            "0       NL          ELK              KVB                   41   \n",
            "1       NL          GAS              KVB                   40   \n",
            "2       NL          ELK              KVB                   15   \n",
            "3       NL          GAS              KVB                   14   \n",
            "4       NL          ELK              KVB                   11   \n",
            "\n",
            "  LEVERINGSRICHTING_PERC FYSIEKE_STATUS_PERC SOORT_AANSLUITING_PERC  \\\n",
            "0                  87.80                 100                  51.22   \n",
            "1                    100                 100                  77.50   \n",
            "2                     60                 100                  66.67   \n",
            "3                    100                 100                  92.86   \n",
            "4                  72.73                 100                  36.36   \n",
            "\n",
            "  SOORT_AANSLUITING SJV_GEMIDDELD SJV_LAAG_TARIEF_PERC SLIMME_METER_PERC  \n",
            "0              3x25       4927.83                39.15             82.93  \n",
            "1                G4       1155.05                    0               NaN  \n",
            "2              3x25       3785.13                51.27             86.67  \n",
            "3                G4       1475.29                    0               NaN  \n",
            "4              1x25       2237.36                36.58             72.73  \n"
          ]
        }
      ]
    },
    {
      "cell_type": "markdown",
      "source": [
        "#### Data aggereren naar Postcode4"
      ],
      "metadata": {
        "id": "muniSPUeGkk7"
      },
      "id": "muniSPUeGkk7"
    },
    {
      "cell_type": "code",
      "source": [
        "# Stap 1: Postcode4 afleiden\n",
        "data['POSTCODE4'] = data['POSTCODE_TOT'].str[:4]\n",
        "\n",
        "# Zorg dat AANSLUITINGEN_AANTAL en andere numerieke kolommen numeriek zijn\n",
        "data['POSTCODE4'] = pd.to_numeric(data['POSTCODE4'], errors='coerce')\n",
        "data['AANSLUITINGEN_AANTAL'] = pd.to_numeric(data['AANSLUITINGEN_AANTAL'], errors='coerce')\n",
        "data['SJV_GEMIDDELD'] = pd.to_numeric(data['SJV_GEMIDDELD'], errors='coerce')\n",
        "data['SJV_LAAG_TARIEF_PERC'] = pd.to_numeric(data['SJV_LAAG_TARIEF_PERC'], errors='coerce')\n",
        "data['LEVERINGSRICHTING_PERC'] = pd.to_numeric(data['LEVERINGSRICHTING_PERC'], errors='coerce')\n",
        "data['FYSIEKE_STATUS_PERC'] = pd.to_numeric(data['FYSIEKE_STATUS_PERC'], errors='coerce')\n",
        "data['SOORT_AANSLUITING_PERC'] = pd.to_numeric(data['SOORT_AANSLUITING_PERC'], errors='coerce')\n",
        "data['SLIMME_METER_PERC'] = pd.to_numeric(data['SLIMME_METER_PERC'], errors='coerce')\n",
        "\n",
        "# Stap 2: Functie om gewogen gemiddelde te berekenen\n",
        "def weighted_average(df, col, weight_col):\n",
        "    return (df[col] * df[weight_col]).sum() / df[weight_col].sum()\n",
        "\n",
        "# Stap 3: Groeperen op de gewenste kolommen\n",
        "grouped_data = data.groupby(\n",
        "    ['POSTCODE4', 'PRODUCTSOORT', 'NETBEHEERDER', 'NETGEBIED', 'WOONPLAATS', 'LANDCODE', 'VERBRUIKSSEGMENT']\n",
        ").apply(lambda x: pd.Series({\n",
        "    'AANSLUITINGEN_TOTAAL': x['AANSLUITINGEN_AANTAL'].sum(),\n",
        "    'SJV_GEMIDDELD_GEM': weighted_average(x, 'SJV_GEMIDDELD', 'AANSLUITINGEN_AANTAL'),\n",
        "    'SJV_LAAG_TARIEF_PERC_GEM': weighted_average(x, 'SJV_LAAG_TARIEF_PERC', 'AANSLUITINGEN_AANTAL'),\n",
        "    'LEVERINGSRICHTING_PERC_GEM': weighted_average(x, 'LEVERINGSRICHTING_PERC', 'AANSLUITINGEN_AANTAL'),\n",
        "    'FYSIEKE_STATUS_PERC_GEM': weighted_average(x, 'FYSIEKE_STATUS_PERC', 'AANSLUITINGEN_AANTAL'),\n",
        "    'SOORT_AANSLUITING_PERC_GEM': weighted_average(x, 'SOORT_AANSLUITING_PERC', 'AANSLUITINGEN_AANTAL'),\n",
        "    'SLIMME_METER_PERC_GEM': weighted_average(x, 'SLIMME_METER_PERC', 'AANSLUITINGEN_AANTAL'),\n",
        "})).reset_index()"
      ],
      "metadata": {
        "id": "qu3SJ8BLGq5k"
      },
      "id": "qu3SJ8BLGq5k",
      "execution_count": null,
      "outputs": []
    },
    {
      "cell_type": "code",
      "source": [
        "# Stap 4: Bekijk de gegroepeerde data\n",
        "# print(grouped_data.head())\n",
        "print(grouped_data.info())"
      ],
      "metadata": {
        "colab": {
          "base_uri": "https://localhost:8080/"
        },
        "id": "4IcB2iN0InYy",
        "outputId": "0d1f3349-99f8-47bd-ba19-60b94a90c8ed"
      },
      "id": "4IcB2iN0InYy",
      "execution_count": null,
      "outputs": [
        {
          "output_type": "stream",
          "name": "stdout",
          "text": [
            "<class 'pandas.core.frame.DataFrame'>\n",
            "RangeIndex: 3963 entries, 0 to 3962\n",
            "Data columns (total 14 columns):\n",
            " #   Column                      Non-Null Count  Dtype  \n",
            "---  ------                      --------------  -----  \n",
            " 0   POSTCODE4                   3963 non-null   int64  \n",
            " 1   PRODUCTSOORT                3963 non-null   object \n",
            " 2   NETBEHEERDER                3963 non-null   object \n",
            " 3   NETGEBIED                   3963 non-null   object \n",
            " 4   WOONPLAATS                  3963 non-null   object \n",
            " 5   LANDCODE                    3963 non-null   object \n",
            " 6   VERBRUIKSSEGMENT            3963 non-null   object \n",
            " 7   AANSLUITINGEN_TOTAAL        3963 non-null   float64\n",
            " 8   SJV_GEMIDDELD_GEM           3963 non-null   float64\n",
            " 9   SJV_LAAG_TARIEF_PERC_GEM    3963 non-null   float64\n",
            " 10  LEVERINGSRICHTING_PERC_GEM  3963 non-null   float64\n",
            " 11  FYSIEKE_STATUS_PERC_GEM     3963 non-null   float64\n",
            " 12  SOORT_AANSLUITING_PERC_GEM  3963 non-null   float64\n",
            " 13  SLIMME_METER_PERC_GEM       3963 non-null   float64\n",
            "dtypes: float64(7), int64(1), object(6)\n",
            "memory usage: 433.6+ KB\n",
            "None\n"
          ]
        }
      ]
    },
    {
      "cell_type": "markdown",
      "id": "022f3521",
      "metadata": {
        "id": "022f3521"
      },
      "source": [
        "## Stap 3: CBS Postcode Data downloaden"
      ]
    },
    {
      "cell_type": "code",
      "execution_count": null,
      "id": "6a6dcfbd",
      "metadata": {
        "colab": {
          "base_uri": "https://localhost:8080/"
        },
        "id": "6a6dcfbd",
        "outputId": "e64638ed-88ac-44d1-e388-6694d8259e36"
      },
      "outputs": [
        {
          "output_type": "stream",
          "name": "stdout",
          "text": [
            "CBS_Postcode data is gedownload en uitgepakt\n"
          ]
        }
      ],
      "source": [
        "# Make variables for download\n",
        "pc4_url = \"https://download.cbs.nl/postcode/2024-cbs_pc4_2023_v1.zip\"\n",
        "pc4_dirname = \"CBS_Postcode\" # Name of the directory\n",
        "\n",
        "# Download CBS Postcode data\n",
        "response = requests.get(pc4_url)\n",
        "\n",
        "# Get filename for CBS Postcode\n",
        "filename = pc4_url.split(\"/\")[-1]\n",
        "\n",
        "# Write response content in to zip file\n",
        "with open(filename, \"wb\") as f:\n",
        "    f.write(response.content)\n",
        "\n",
        "# Extract the files from zip file\n",
        "with zipfile.ZipFile(filename, 'r') as zip_ref:\n",
        "    zip_ref.extractall(f\"./{pc4_dirname}\")\n",
        "\n",
        "print(f\"{pc4_dirname} data is gedownload en uitgepakt\")"
      ]
    },
    {
      "cell_type": "markdown",
      "source": [
        "## Stap 4: CBS Postcode data inlezen"
      ],
      "metadata": {
        "id": "zb_iaV2uMYKX"
      },
      "id": "zb_iaV2uMYKX"
    },
    {
      "cell_type": "code",
      "source": [
        "import geopandas as gpd"
      ],
      "metadata": {
        "id": "0rN95i0yEPlE"
      },
      "id": "0rN95i0yEPlE",
      "execution_count": null,
      "outputs": []
    },
    {
      "cell_type": "code",
      "source": [
        "# Bestandspad naar het GeoPackage-bestand\n",
        "cbs_postcode_file = \"CBS_Postcode/cbs_pc4_2023_v1.gpkg\"\n",
        "\n",
        "# CBS Postcode data inlezen\n",
        "cbs_postcode = gpd.read_file(cbs_postcode_file, layer='cbs_pc4_2023')"
      ],
      "metadata": {
        "id": "pY1xe6DPEKzl"
      },
      "id": "pY1xe6DPEKzl",
      "execution_count": null,
      "outputs": []
    },
    {
      "cell_type": "code",
      "source": [
        "# Alleen de kolommen 'postcode6' en 'geometry' selecteren\n",
        "cbs_postcode = cbs_postcode[['postcode', 'geometry']]"
      ],
      "metadata": {
        "id": "BD0orLv0Fu8U"
      },
      "id": "BD0orLv0Fu8U",
      "execution_count": null,
      "outputs": []
    },
    {
      "cell_type": "markdown",
      "source": [
        "#### Controleer data"
      ],
      "metadata": {
        "id": "7MtaXwJMMfde"
      },
      "id": "7MtaXwJMMfde"
    },
    {
      "cell_type": "code",
      "source": [
        "# print(cbs_postcode.head())\n",
        "print(cbs_postcode.info())\n",
        "# print(cbs_postcode.describe())"
      ],
      "metadata": {
        "id": "NYDaJVbVMe5y",
        "colab": {
          "base_uri": "https://localhost:8080/"
        },
        "outputId": "df87ab46-7f4e-46d7-c749-b74f73d3e71b"
      },
      "id": "NYDaJVbVMe5y",
      "execution_count": null,
      "outputs": [
        {
          "output_type": "stream",
          "name": "stdout",
          "text": [
            "<class 'geopandas.geodataframe.GeoDataFrame'>\n",
            "RangeIndex: 4070 entries, 0 to 4069\n",
            "Data columns (total 2 columns):\n",
            " #   Column    Non-Null Count  Dtype   \n",
            "---  ------    --------------  -----   \n",
            " 0   postcode  4070 non-null   int64   \n",
            " 1   geometry  4070 non-null   geometry\n",
            "dtypes: geometry(1), int64(1)\n",
            "memory usage: 63.7 KB\n",
            "None\n"
          ]
        }
      ]
    },
    {
      "cell_type": "markdown",
      "source": [
        "## Stap 5: CBS Postcode Data koppelen aan netbeheer data\n"
      ],
      "metadata": {
        "id": "vchWCPidLrmG"
      },
      "id": "vchWCPidLrmG"
    },
    {
      "cell_type": "code",
      "source": [
        "# Merging the datasets\n",
        "merged_data = pd.merge(grouped_data, cbs_postcode, left_on=\"POSTCODE4\", right_on=\"postcode\", how=\"left\")\n",
        "merged_data = merged_data.drop(columns=[\"postcode\"])\n",
        "merged_data = gpd.GeoDataFrame(merged_data, geometry='geometry')"
      ],
      "metadata": {
        "id": "N79Ox7bMLQnK"
      },
      "id": "N79Ox7bMLQnK",
      "execution_count": null,
      "outputs": []
    },
    {
      "cell_type": "markdown",
      "source": [
        "#### Controleer data"
      ],
      "metadata": {
        "id": "_XvLwmawTgDJ"
      },
      "id": "_XvLwmawTgDJ"
    },
    {
      "cell_type": "code",
      "source": [
        "# print(merged_data.head())\n",
        "print(merged_data.info())"
      ],
      "metadata": {
        "colab": {
          "base_uri": "https://localhost:8080/"
        },
        "id": "-KyEcCoqJloR",
        "outputId": "43806d84-81fd-4b65-e342-4ca607cf4154"
      },
      "id": "-KyEcCoqJloR",
      "execution_count": null,
      "outputs": [
        {
          "output_type": "stream",
          "name": "stdout",
          "text": [
            "<class 'geopandas.geodataframe.GeoDataFrame'>\n",
            "RangeIndex: 3963 entries, 0 to 3962\n",
            "Data columns (total 15 columns):\n",
            " #   Column                      Non-Null Count  Dtype   \n",
            "---  ------                      --------------  -----   \n",
            " 0   POSTCODE4                   3963 non-null   int64   \n",
            " 1   PRODUCTSOORT                3963 non-null   object  \n",
            " 2   NETBEHEERDER                3963 non-null   object  \n",
            " 3   NETGEBIED                   3963 non-null   object  \n",
            " 4   WOONPLAATS                  3963 non-null   object  \n",
            " 5   LANDCODE                    3963 non-null   object  \n",
            " 6   VERBRUIKSSEGMENT            3963 non-null   object  \n",
            " 7   AANSLUITINGEN_TOTAAL        3963 non-null   float64 \n",
            " 8   SJV_GEMIDDELD_GEM           3963 non-null   float64 \n",
            " 9   SJV_LAAG_TARIEF_PERC_GEM    3963 non-null   float64 \n",
            " 10  LEVERINGSRICHTING_PERC_GEM  3963 non-null   float64 \n",
            " 11  FYSIEKE_STATUS_PERC_GEM     3963 non-null   float64 \n",
            " 12  SOORT_AANSLUITING_PERC_GEM  3963 non-null   float64 \n",
            " 13  SLIMME_METER_PERC_GEM       3963 non-null   float64 \n",
            " 14  geometry                    3963 non-null   geometry\n",
            "dtypes: float64(7), geometry(1), int64(1), object(6)\n",
            "memory usage: 464.5+ KB\n",
            "None\n"
          ]
        }
      ]
    },
    {
      "cell_type": "markdown",
      "source": [
        "## Stap 6: CBS wijkbuurten kaart data downloaden voor gemeenten"
      ],
      "metadata": {
        "id": "WLTGOaEdUFVU"
      },
      "id": "WLTGOaEdUFVU"
    },
    {
      "cell_type": "code",
      "source": [
        "# Make variables for download\n",
        "cbv_url = \"https://download.cbs.nl/regionale-kaarten/wijkbuurtkaart_2023_v1.zip\"\n",
        "cbs_name = \"CBS_wijkbuurtkaart\" # Name of the directory\n",
        "\n",
        "# Download CBS Wijken data\n",
        "response = requests.get(cbv_url)\n",
        "\n",
        "# Get filename for Enexis\n",
        "filename = cbv_url.split(\"/\")[-1]\n",
        "\n",
        "# Write response content in to zip file\n",
        "with open(filename, \"wb\") as f:\n",
        "    f.write(response.content)\n",
        "\n",
        "# Extract the files from zip file\n",
        "with zipfile.ZipFile(filename, 'r') as zip_ref:\n",
        "    zip_ref.extractall(f\"./{cbs_name}\")\n",
        "\n",
        "print(f\"{cbs_name} data is gedownload en uitgepakt\")"
      ],
      "metadata": {
        "colab": {
          "base_uri": "https://localhost:8080/"
        },
        "id": "nA8j9QUCUW6o",
        "outputId": "196acb25-b3ed-4aa2-df49-52c047f446b3"
      },
      "id": "nA8j9QUCUW6o",
      "execution_count": null,
      "outputs": [
        {
          "output_type": "stream",
          "name": "stdout",
          "text": [
            "CBS_wijkbuurtkaart data is gedownload en uitgepakt\n"
          ]
        }
      ]
    },
    {
      "cell_type": "code",
      "source": [
        "# CBS Wijken en Buurten data inlezen\n",
        "cbs_wijkenbuurten_file = \"CBS_wijkbuurtkaart/wijkenbuurten_2023_v1.gpkg\"\n",
        "cbs_gemeente = gpd.read_file(cbs_wijkenbuurten_file, layer=\"gemeenten\")\n",
        "\n",
        "cbs_gemeente = cbs_gemeente[['gemeentecode', 'gemeentenaam', 'geometry']]"
      ],
      "metadata": {
        "id": "DoDhoudfUbfA"
      },
      "id": "DoDhoudfUbfA",
      "execution_count": null,
      "outputs": []
    },
    {
      "cell_type": "markdown",
      "source": [
        "#### Controleer data"
      ],
      "metadata": {
        "id": "PinTBuR1UdJ8"
      },
      "id": "PinTBuR1UdJ8"
    },
    {
      "cell_type": "code",
      "source": [
        "# print(cbs_gemeente.head())\n",
        "print(cbs_gemeente.info())"
      ],
      "metadata": {
        "colab": {
          "base_uri": "https://localhost:8080/"
        },
        "id": "5A-rbntwUcnA",
        "outputId": "72bb66a3-07d4-4be8-95ea-b993e9fd054b"
      },
      "id": "5A-rbntwUcnA",
      "execution_count": null,
      "outputs": [
        {
          "output_type": "stream",
          "name": "stdout",
          "text": [
            "<class 'geopandas.geodataframe.GeoDataFrame'>\n",
            "RangeIndex: 424 entries, 0 to 423\n",
            "Data columns (total 3 columns):\n",
            " #   Column        Non-Null Count  Dtype   \n",
            "---  ------        --------------  -----   \n",
            " 0   gemeentecode  424 non-null    object  \n",
            " 1   gemeentenaam  424 non-null    object  \n",
            " 2   geometry      424 non-null    geometry\n",
            "dtypes: geometry(1), object(2)\n",
            "memory usage: 10.1+ KB\n",
            "None\n"
          ]
        }
      ]
    },
    {
      "cell_type": "code",
      "source": [
        "print(joined_data.info())"
      ],
      "metadata": {
        "colab": {
          "base_uri": "https://localhost:8080/"
        },
        "id": "Y9CGKM5txnRL",
        "outputId": "d77a4c36-1100-46c4-b60c-fb7787535a18"
      },
      "id": "Y9CGKM5txnRL",
      "execution_count": null,
      "outputs": [
        {
          "output_type": "stream",
          "name": "stdout",
          "text": [
            "<class 'geopandas.geodataframe.GeoDataFrame'>\n",
            "Index: 8531 entries, 0 to 3962\n",
            "Data columns (total 18 columns):\n",
            " #   Column                      Non-Null Count  Dtype   \n",
            "---  ------                      --------------  -----   \n",
            " 0   POSTCODE4                   8531 non-null   int64   \n",
            " 1   PRODUCTSOORT                8531 non-null   object  \n",
            " 2   NETBEHEERDER                8531 non-null   object  \n",
            " 3   NETGEBIED                   8531 non-null   object  \n",
            " 4   WOONPLAATS                  8531 non-null   object  \n",
            " 5   LANDCODE                    8531 non-null   object  \n",
            " 6   VERBRUIKSSEGMENT            8531 non-null   object  \n",
            " 7   AANSLUITINGEN_TOTAAL        8531 non-null   float64 \n",
            " 8   SJV_GEMIDDELD_GEM           8531 non-null   float64 \n",
            " 9   SJV_LAAG_TARIEF_PERC_GEM    8531 non-null   float64 \n",
            " 10  LEVERINGSRICHTING_PERC_GEM  8531 non-null   float64 \n",
            " 11  FYSIEKE_STATUS_PERC_GEM     8531 non-null   float64 \n",
            " 12  SOORT_AANSLUITING_PERC_GEM  8531 non-null   float64 \n",
            " 13  SLIMME_METER_PERC_GEM       8531 non-null   float64 \n",
            " 14  geometry                    8531 non-null   geometry\n",
            " 15  index_right                 8531 non-null   int64   \n",
            " 16  gemeentecode                8531 non-null   object  \n",
            " 17  gemeentenaam                8531 non-null   object  \n",
            "dtypes: float64(7), geometry(1), int64(2), object(8)\n",
            "memory usage: 1.2+ MB\n",
            "None\n"
          ]
        }
      ]
    },
    {
      "cell_type": "markdown",
      "source": [
        "## Stap 7: Gemeente koppelen aan postcode 4 cijfers"
      ],
      "metadata": {
        "id": "6pw1KdnxttcQ"
      },
      "id": "6pw1KdnxttcQ"
    },
    {
      "cell_type": "code",
      "source": [
        "cbs_gemeente['geometry_right'] = cbs_gemeente.geometry\n",
        "\n",
        "# Ruimtelijke join uitvoeren om de gemeentes te vinden die overlappen met postcodes\n",
        "joined_data = gpd.sjoin(merged_data, cbs_gemeente, how='left', predicate='intersects')\n",
        "\n",
        "# Bereken de overlappingsgebieden door een geometrische intersectie te maken tussen de postcodes en gemeentes\n",
        "joined_data['intersection'] = joined_data.geometry.intersection(joined_data['geometry_right'])\n",
        "\n",
        "# Bereken de oppervlakte van de intersectie\n",
        "joined_data['intersection_area'] = joined_data['intersection'].area\n",
        "\n",
        "# Groepeer per postcode en kies de gemeente met het grootste overlappingsgebied\n",
        "idx = joined_data.groupby(\n",
        "    ['POSTCODE4', 'PRODUCTSOORT', 'NETBEHEERDER', 'NETGEBIED', 'WOONPLAATS', 'LANDCODE', 'VERBRUIKSSEGMENT']\n",
        "    )['intersection_area'].idxmax()\n",
        "\n",
        "# Selecteer alleen de rijen met de grootste overlap per postcode\n",
        "largest_overlap = joined_data.loc[idx]\n",
        "\n",
        "# Rename geometry columns to have 'geometry' for the original geometry (geometry_left)\n",
        "largest_overlap = largest_overlap.rename(columns={'geometry_left': 'geometry'})\n",
        "\n",
        "# Behoud de gewenste kolommen\n",
        "result = largest_overlap[['POSTCODE4', 'PRODUCTSOORT', 'NETBEHEERDER', 'NETGEBIED', 'WOONPLAATS',\n",
        "                          'LANDCODE', 'VERBRUIKSSEGMENT', 'AANSLUITINGEN_TOTAAL', 'SJV_GEMIDDELD_GEM',\n",
        "                          'SJV_LAAG_TARIEF_PERC_GEM', 'LEVERINGSRICHTING_PERC_GEM', 'FYSIEKE_STATUS_PERC_GEM',\n",
        "                          'SOORT_AANSLUITING_PERC_GEM', 'SLIMME_METER_PERC_GEM', 'geometry',\n",
        "                          'gemeentecode', 'gemeentenaam']]"
      ],
      "metadata": {
        "id": "ifm50_J4ts2r"
      },
      "id": "ifm50_J4ts2r",
      "execution_count": null,
      "outputs": []
    },
    {
      "cell_type": "markdown",
      "source": [
        "#### Controleren"
      ],
      "metadata": {
        "id": "RUDHMqW7vGug"
      },
      "id": "RUDHMqW7vGug"
    },
    {
      "cell_type": "code",
      "source": [
        "# Print the updated merged_data\n",
        "print(result.info())"
      ],
      "metadata": {
        "colab": {
          "base_uri": "https://localhost:8080/"
        },
        "id": "zz5f_uTVvIFc",
        "outputId": "0f8a7670-7ec0-4273-af9f-87510384a358"
      },
      "id": "zz5f_uTVvIFc",
      "execution_count": null,
      "outputs": [
        {
          "output_type": "stream",
          "name": "stdout",
          "text": [
            "<class 'geopandas.geodataframe.GeoDataFrame'>\n",
            "Index: 8531 entries, 0 to 3962\n",
            "Data columns (total 17 columns):\n",
            " #   Column                      Non-Null Count  Dtype   \n",
            "---  ------                      --------------  -----   \n",
            " 0   POSTCODE4                   8531 non-null   int64   \n",
            " 1   PRODUCTSOORT                8531 non-null   object  \n",
            " 2   NETBEHEERDER                8531 non-null   object  \n",
            " 3   NETGEBIED                   8531 non-null   object  \n",
            " 4   WOONPLAATS                  8531 non-null   object  \n",
            " 5   LANDCODE                    8531 non-null   object  \n",
            " 6   VERBRUIKSSEGMENT            8531 non-null   object  \n",
            " 7   AANSLUITINGEN_TOTAAL        8531 non-null   float64 \n",
            " 8   SJV_GEMIDDELD_GEM           8531 non-null   float64 \n",
            " 9   SJV_LAAG_TARIEF_PERC_GEM    8531 non-null   float64 \n",
            " 10  LEVERINGSRICHTING_PERC_GEM  8531 non-null   float64 \n",
            " 11  FYSIEKE_STATUS_PERC_GEM     8531 non-null   float64 \n",
            " 12  SOORT_AANSLUITING_PERC_GEM  8531 non-null   float64 \n",
            " 13  SLIMME_METER_PERC_GEM       8531 non-null   float64 \n",
            " 14  geometry                    8531 non-null   geometry\n",
            " 15  gemeentecode                8531 non-null   object  \n",
            " 16  gemeentenaam                8531 non-null   object  \n",
            "dtypes: float64(7), geometry(1), int64(1), object(8)\n",
            "memory usage: 1.2+ MB\n",
            "None\n"
          ]
        }
      ]
    },
    {
      "cell_type": "markdown",
      "source": [
        "## Stap 8: Elektrische data en gas data splitsen en gemeente filteren"
      ],
      "metadata": {
        "id": "Y-hbFtKRT2p1"
      },
      "id": "Y-hbFtKRT2p1"
    },
    {
      "cell_type": "code",
      "source": [
        "# Filter merged_data for Tilburg\n",
        "filtered_data = result[(result['gemeentecode'] == 'GM0855')]\n",
        "\n",
        "# Split into electricity and gas dataframes\n",
        "electricity_data = filtered_data[filtered_data['PRODUCTSOORT'] == 'ELK']\n",
        "gas_data = filtered_data[filtered_data['PRODUCTSOORT'] == 'GAS']\n",
        "\n",
        "# Convert to GeoDataFrames\n",
        "electricity_gdf = gpd.GeoDataFrame(electricity_data, geometry='geometry')\n",
        "gas_gdf = gpd.GeoDataFrame(gas_data, geometry='geometry')\n"
      ],
      "metadata": {
        "id": "itmSE7yhuZQI"
      },
      "id": "itmSE7yhuZQI",
      "execution_count": null,
      "outputs": []
    },
    {
      "cell_type": "markdown",
      "source": [
        "#### Controleer"
      ],
      "metadata": {
        "id": "7spiCRA_zCuI"
      },
      "id": "7spiCRA_zCuI"
    },
    {
      "cell_type": "code",
      "source": [
        "# Print the updated merged_data\n",
        "print(electricity_gdf.info())\n",
        "print(gas_gdf.info())"
      ],
      "metadata": {
        "colab": {
          "base_uri": "https://localhost:8080/"
        },
        "id": "3m2g-l14zCW4",
        "outputId": "d77965c6-d966-4a30-9867-98de0b4dadac"
      },
      "id": "3m2g-l14zCW4",
      "execution_count": null,
      "outputs": [
        {
          "output_type": "stream",
          "name": "stdout",
          "text": [
            "<class 'geopandas.geodataframe.GeoDataFrame'>\n",
            "Index: 57 entries, 382 to 668\n",
            "Data columns (total 17 columns):\n",
            " #   Column                      Non-Null Count  Dtype   \n",
            "---  ------                      --------------  -----   \n",
            " 0   POSTCODE4                   57 non-null     int64   \n",
            " 1   PRODUCTSOORT                57 non-null     object  \n",
            " 2   NETBEHEERDER                57 non-null     object  \n",
            " 3   NETGEBIED                   57 non-null     object  \n",
            " 4   WOONPLAATS                  57 non-null     object  \n",
            " 5   LANDCODE                    57 non-null     object  \n",
            " 6   VERBRUIKSSEGMENT            57 non-null     object  \n",
            " 7   AANSLUITINGEN_TOTAAL        57 non-null     float64 \n",
            " 8   SJV_GEMIDDELD_GEM           57 non-null     float64 \n",
            " 9   SJV_LAAG_TARIEF_PERC_GEM    57 non-null     float64 \n",
            " 10  LEVERINGSRICHTING_PERC_GEM  57 non-null     float64 \n",
            " 11  FYSIEKE_STATUS_PERC_GEM     57 non-null     float64 \n",
            " 12  SOORT_AANSLUITING_PERC_GEM  57 non-null     float64 \n",
            " 13  SLIMME_METER_PERC_GEM       57 non-null     float64 \n",
            " 14  geometry                    57 non-null     geometry\n",
            " 15  gemeentecode                57 non-null     object  \n",
            " 16  gemeentenaam                57 non-null     object  \n",
            "dtypes: float64(7), geometry(1), int64(1), object(8)\n",
            "memory usage: 8.0+ KB\n",
            "None\n",
            "<class 'geopandas.geodataframe.GeoDataFrame'>\n",
            "Index: 55 entries, 383 to 670\n",
            "Data columns (total 17 columns):\n",
            " #   Column                      Non-Null Count  Dtype   \n",
            "---  ------                      --------------  -----   \n",
            " 0   POSTCODE4                   55 non-null     int64   \n",
            " 1   PRODUCTSOORT                55 non-null     object  \n",
            " 2   NETBEHEERDER                55 non-null     object  \n",
            " 3   NETGEBIED                   55 non-null     object  \n",
            " 4   WOONPLAATS                  55 non-null     object  \n",
            " 5   LANDCODE                    55 non-null     object  \n",
            " 6   VERBRUIKSSEGMENT            55 non-null     object  \n",
            " 7   AANSLUITINGEN_TOTAAL        55 non-null     float64 \n",
            " 8   SJV_GEMIDDELD_GEM           55 non-null     float64 \n",
            " 9   SJV_LAAG_TARIEF_PERC_GEM    55 non-null     float64 \n",
            " 10  LEVERINGSRICHTING_PERC_GEM  55 non-null     float64 \n",
            " 11  FYSIEKE_STATUS_PERC_GEM     55 non-null     float64 \n",
            " 12  SOORT_AANSLUITING_PERC_GEM  55 non-null     float64 \n",
            " 13  SLIMME_METER_PERC_GEM       55 non-null     float64 \n",
            " 14  geometry                    55 non-null     geometry\n",
            " 15  gemeentecode                55 non-null     object  \n",
            " 16  gemeentenaam                55 non-null     object  \n",
            "dtypes: float64(7), geometry(1), int64(1), object(8)\n",
            "memory usage: 7.7+ KB\n",
            "None\n"
          ]
        }
      ]
    },
    {
      "cell_type": "markdown",
      "source": [
        "## Stap 9: Geodata output naar gpkg bestand"
      ],
      "metadata": {
        "id": "F_axYgHZu742"
      },
      "id": "F_axYgHZu742"
    },
    {
      "cell_type": "code",
      "source": [
        "# Create a GeoPackage file\n",
        "output_filename = 'netbeheerder_data.gpkg'\n",
        "\n",
        "# Write the GeoDataFrames to the GeoPackage file\n",
        "electricity_gdf.to_file(output_filename, layer='electricity', driver='GPKG')\n",
        "gas_gdf.to_file(output_filename, layer='gas', driver='GPKG')\n",
        "\n",
        "print(f\"GeoPackage file '{output_filename}' created successfully.\")"
      ],
      "metadata": {
        "colab": {
          "base_uri": "https://localhost:8080/"
        },
        "id": "EcfecCVyvARO",
        "outputId": "22b96c7b-1958-4c5c-dd94-8a553cb9c1d9"
      },
      "id": "EcfecCVyvARO",
      "execution_count": null,
      "outputs": [
        {
          "output_type": "stream",
          "name": "stdout",
          "text": [
            "GeoPackage file 'netbeheerder_data.gpkg' created successfully.\n"
          ]
        }
      ]
    }
  ],
  "metadata": {
    "colab": {
      "provenance": [],
      "collapsed_sections": [
        "hRlBJBpBzbKm",
        "7Ogm81yU0Wfh",
        "t7NOe_s50Z7h"
      ],
      "include_colab_link": true
    },
    "language_info": {
      "name": "python"
    },
    "kernelspec": {
      "name": "python3",
      "display_name": "Python 3"
    }
  },
  "nbformat": 4,
  "nbformat_minor": 5
}