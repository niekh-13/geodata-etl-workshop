{
  "cells": [
    {
      "cell_type": "markdown",
      "metadata": {
        "id": "view-in-github",
        "colab_type": "text"
      },
      "source": [
        "<a href=\"https://colab.research.google.com/github/niekh-13/geodata-etl-workshop/blob/main/Introductie_GeoPandas_Workshop2.ipynb\" target=\"_parent\"><img src=\"https://colab.research.google.com/assets/colab-badge.svg\" alt=\"Open In Colab\"/></a>"
      ]
    },
    {
      "cell_type": "markdown",
      "id": "da30464b",
      "metadata": {
        "id": "da30464b"
      },
      "source": [
        "# Introductie Pandas en GeoPandas: eenvoudige ETL scripting"
      ]
    },
    {
      "cell_type": "markdown",
      "id": "71f75912",
      "metadata": {
        "id": "71f75912"
      },
      "source": [
        "In deze workshop voor Kaartviewer inspiratie dagen 2024 leer je de basis van Pandas en GeoPandas kennen door gebruik te maken van open data van Nederlandse netbeheerders en CBS."
      ]
    },
    {
      "cell_type": "code",
      "execution_count": 1,
      "id": "d344c7a1",
      "metadata": {
        "id": "d344c7a1"
      },
      "outputs": [],
      "source": [
        "%%capture\n",
        "\n",
        "# Install necessary packages\n",
        "!pip install pandas geopandas shapely OWSlib"
      ]
    },
    {
      "cell_type": "code",
      "execution_count": 2,
      "id": "nLDDoHEvzjgZ",
      "metadata": {
        "id": "nLDDoHEvzjgZ"
      },
      "outputs": [],
      "source": [
        "%%capture\n",
        "\n",
        "# Importeren van packages\n",
        "import requests\n",
        "import zipfile\n",
        "import os\n",
        "import io\n",
        "from owslib.wfs import WebFeatureService"
      ]
    },
    {
      "cell_type": "markdown",
      "id": "9ec4feef",
      "metadata": {
        "id": "9ec4feef"
      },
      "source": [
        "## Stap 1: Data downloaden van gekozen netbeheerder"
      ]
    },
    {
      "cell_type": "markdown",
      "id": "135d22b1",
      "metadata": {
        "id": "135d22b1"
      },
      "source": [
        "### Kies één van de netbeheerders en download hun dataset."
      ]
    },
    {
      "cell_type": "markdown",
      "id": "hRlBJBpBzbKm",
      "metadata": {
        "id": "hRlBJBpBzbKm"
      },
      "source": [
        "\n",
        "#### Liander\n",
        "\n"
      ]
    },
    {
      "cell_type": "code",
      "execution_count": null,
      "id": "EPm9p1CWzH91",
      "metadata": {
        "id": "EPm9p1CWzH91"
      },
      "outputs": [],
      "source": [
        "# Download Liander\n",
        "url = \"https://www.liander.nl/-/media/files/open-data/kleinverbruikdata/kleinverbruiksgegevens-2024.zip\"\n",
        "response = requests.get(url)\n",
        "delimiter = ';'\n",
        "\n",
        "# Get filenames and paths for Liander\n",
        "filename = 'Liander_kleinverbruiksgegevens_20240101.csv'\n",
        "zip_path = url.split(\"/\")[-1]\n",
        "\n",
        "# Write response content in to zipfile\n",
        "with open(zip_path, \"wb\") as f:\n",
        "  f.write(response.content)\n",
        "\n",
        "# Extract the csv file from zip file\n",
        "with zipfile.ZipFile(zip_path, 'r') as zip_ref:\n",
        "  zip_ref.extractall(\".\")\n",
        "\n",
        "print(f\"{filename} is downloaded\")"
      ]
    },
    {
      "cell_type": "markdown",
      "id": "V5__OfnT0Gxl",
      "metadata": {
        "id": "V5__OfnT0Gxl"
      },
      "source": [
        "#### Enexis\n"
      ]
    },
    {
      "cell_type": "code",
      "execution_count": 3,
      "id": "rU5NvAtozMiE",
      "metadata": {
        "colab": {
          "base_uri": "https://localhost:8080/"
        },
        "id": "rU5NvAtozMiE",
        "outputId": "960f5e95-f9e4-4962-a8cc-84022784fc19"
      },
      "outputs": [
        {
          "output_type": "stream",
          "name": "stdout",
          "text": [
            "Enexis_kleinverbruiksgegevens_01012024.csv is downloaded\n"
          ]
        }
      ],
      "source": [
        "# Download Enexis\n",
        "url = \"https://enxp433-oda01.s3.eu-west-1.amazonaws.com/kv/Enexis_kleinverbruiksgegevens_01012024.csv\"\n",
        "response = requests.get(url)\n",
        "delimiter = ';'\n",
        "\n",
        "# Get filename for Enexis\n",
        "filename = url.split(\"/\")[-1]\n",
        "\n",
        "# Write response content in to csv file\n",
        "with open(filename, \"wb\") as f:\n",
        "  f.write(response.content)\n",
        "\n",
        "print(f\"{filename} is downloaded\")\n"
      ]
    },
    {
      "cell_type": "markdown",
      "id": "7Ogm81yU0Wfh",
      "metadata": {
        "id": "7Ogm81yU0Wfh"
      },
      "source": [
        "#### Stedin"
      ]
    },
    {
      "cell_type": "code",
      "execution_count": null,
      "id": "n4pKvHkjWdn1",
      "metadata": {
        "id": "n4pKvHkjWdn1"
      },
      "outputs": [],
      "source": [
        "# Deze code voert een specifieke taak uit\n",
        "!wget https://www.stedin.net/-/media/project/online/files/zakelijk/open-data/stedin-kleinverbruikgegevens-2024.csv\n",
        "\n",
        "delimiter = '\\t'"
      ]
    },
    {
      "cell_type": "markdown",
      "id": "t7NOe_s50Z7h",
      "metadata": {
        "id": "t7NOe_s50Z7h"
      },
      "source": [
        "#### Coteq"
      ]
    },
    {
      "cell_type": "code",
      "execution_count": null,
      "id": "hEVBCI2vzQ8o",
      "metadata": {
        "id": "hEVBCI2vzQ8o"
      },
      "outputs": [],
      "source": [
        "# Download Coteq\n",
        "url = \"https://d3a07q56iliqjn.cloudfront.net/web-uploads/Documenten/Open-data/CoteqNetbeheer_kleinverbruik_01012024.csv\"\n",
        "response = requests.get(url)\n",
        "delimiter = ';'\n",
        "\n",
        "# Get filename for Coteq\n",
        "filename = url.split(\"/\")[-1]\n",
        "\n",
        "# Write response content in to csv file\n",
        "with open(filename, \"wb\") as f:\n",
        "  f.write(response.content)\n",
        "\n",
        "print(f\"{filename} is downloaded\")"
      ]
    },
    {
      "cell_type": "markdown",
      "id": "658jPS6w1z_E",
      "metadata": {
        "id": "658jPS6w1z_E"
      },
      "source": [
        "\n",
        "## Stap 2: Netbeheer data in pandas laden"
      ]
    },
    {
      "cell_type": "code",
      "execution_count": 4,
      "id": "KBLktIUy1qfY",
      "metadata": {
        "id": "KBLktIUy1qfY"
      },
      "outputs": [],
      "source": [
        "# Deze code voert een specifieke taak uit\n",
        "import pandas as pd\n",
        "\n",
        "columns = [\n",
        "    \"NETBEHEERDER\", \"NETGEBIED\", \"STRAATNAAM\", \"POSTCODE_VAN\", \"POSTCODE_TOT\",\n",
        "    \"WOONPLAATS\", \"LANDCODE\", \"PRODUCTSOORT\", \"VERBRUIKSSEGMENT\", \"AANSLUITINGEN_AANTAL\",\n",
        "    \"LEVERINGSRICHTING_PERC\", \"FYSIEKE_STATUS_PERC\", \"SOORT_AANSLUITING_PERC\",\n",
        "    \"SOORT_AANSLUITING\", \"SJV_GEMIDDELD\", \"SJV_LAAG_TARIEF_PERC\", \"SLIMME_METER_PERC\"\n",
        "]\n",
        "\n",
        "# Inlezen van netbeheerder data met pandas\n",
        "data = pd.read_csv(filename, sep=delimiter, dtype=str, names=columns, skiprows=1)\n",
        "\n",
        "# Data van netbeheerder uniform maken voor pandas\n",
        "data = data.map(lambda x: x.replace(',', '.') if isinstance(x, str) else x)"
      ]
    },
    {
      "cell_type": "markdown",
      "id": "KanRBWQhcnNU",
      "metadata": {
        "id": "KanRBWQhcnNU"
      },
      "source": [
        "#### Controleer data"
      ]
    },
    {
      "cell_type": "code",
      "execution_count": 5,
      "id": "_UIc6hN_cohI",
      "metadata": {
        "colab": {
          "base_uri": "https://localhost:8080/"
        },
        "id": "_UIc6hN_cohI",
        "outputId": "86bbed6b-09b8-41bf-d8aa-cdbd1b8094cc"
      },
      "outputs": [
        {
          "output_type": "stream",
          "name": "stdout",
          "text": [
            "<class 'pandas.core.frame.DataFrame'>\n",
            "RangeIndex: 235952 entries, 0 to 235951\n",
            "Data columns (total 17 columns):\n",
            " #   Column                  Non-Null Count   Dtype \n",
            "---  ------                  --------------   ----- \n",
            " 0   NETBEHEERDER            235952 non-null  object\n",
            " 1   NETGEBIED               235952 non-null  object\n",
            " 2   STRAATNAAM              235952 non-null  object\n",
            " 3   POSTCODE_VAN            235952 non-null  object\n",
            " 4   POSTCODE_TOT            235952 non-null  object\n",
            " 5   WOONPLAATS              235952 non-null  object\n",
            " 6   LANDCODE                235952 non-null  object\n",
            " 7   PRODUCTSOORT            235952 non-null  object\n",
            " 8   VERBRUIKSSEGMENT        235952 non-null  object\n",
            " 9   AANSLUITINGEN_AANTAL    235952 non-null  object\n",
            " 10  LEVERINGSRICHTING_PERC  233735 non-null  object\n",
            " 11  FYSIEKE_STATUS_PERC     235952 non-null  object\n",
            " 12  SOORT_AANSLUITING_PERC  235952 non-null  object\n",
            " 13  SOORT_AANSLUITING       235952 non-null  object\n",
            " 14  SJV_GEMIDDELD           235952 non-null  object\n",
            " 15  SJV_LAAG_TARIEF_PERC    235952 non-null  object\n",
            " 16  SLIMME_METER_PERC       126392 non-null  object\n",
            "dtypes: object(17)\n",
            "memory usage: 30.6+ MB\n",
            "None\n"
          ]
        }
      ],
      "source": [
        "# Deze code voert een specifieke taak uit\n",
        "print(data.info())\n",
        "# print(data.describe())"
      ]
    },
    {
      "cell_type": "markdown",
      "id": "muniSPUeGkk7",
      "metadata": {
        "id": "muniSPUeGkk7"
      },
      "source": [
        "#### Data aggereren naar Postcode5"
      ]
    },
    {
      "cell_type": "code",
      "execution_count": 6,
      "id": "qu3SJ8BLGq5k",
      "metadata": {
        "id": "qu3SJ8BLGq5k"
      },
      "outputs": [],
      "source": [
        "# Stap 1: Postcode5 afleiden\n",
        "data['POSTCODE5'] = data['POSTCODE_TOT'].str.replace(' ', '').str[:5]\n",
        "\n",
        "\n",
        "# Zorg dat AANSLUITINGEN_AANTAL en andere numerieke kolommen numeriek zijn\n",
        "data['AANSLUITINGEN_AANTAL'] = pd.to_numeric(data['AANSLUITINGEN_AANTAL'], errors='coerce')\n",
        "data['SJV_GEMIDDELD'] = pd.to_numeric(data['SJV_GEMIDDELD'], errors='coerce')\n",
        "data['SJV_LAAG_TARIEF_PERC'] = pd.to_numeric(data['SJV_LAAG_TARIEF_PERC'], errors='coerce')\n",
        "data['LEVERINGSRICHTING_PERC'] = pd.to_numeric(data['LEVERINGSRICHTING_PERC'], errors='coerce')\n",
        "data['FYSIEKE_STATUS_PERC'] = pd.to_numeric(data['FYSIEKE_STATUS_PERC'], errors='coerce')\n",
        "data['SOORT_AANSLUITING_PERC'] = pd.to_numeric(data['SOORT_AANSLUITING_PERC'], errors='coerce')\n",
        "data['SLIMME_METER_PERC'] = pd.to_numeric(data['SLIMME_METER_PERC'], errors='coerce')\n",
        "\n",
        "# # Stap 2: Functie om gewogen gemiddelde te berekenen\n",
        "def weighted_average(df, col, weight_col):\n",
        "    return df[col].sum() / df[weight_col].sum()\n",
        "\n",
        "# # Stap 3: Groeperen op de gewenste kolommen en berekeningen uitvoeren\n",
        "grouped_data = data.groupby(by=['POSTCODE5', 'PRODUCTSOORT', 'NETBEHEERDER', 'NETGEBIED', 'WOONPLAATS', 'LANDCODE', 'VERBRUIKSSEGMENT']\n",
        ").apply(\n",
        "    lambda x: pd.Series({\n",
        "    'AANSLUITINGEN_TOTAAL': x['AANSLUITINGEN_AANTAL'].sum(),\n",
        "    'SJV_GEMIDDELD_PC5': weighted_average(x, 'SJV_GEMIDDELD', 'AANSLUITINGEN_AANTAL'),\n",
        "    'SJV_LAAG_TARIEF_PERC_PC5': weighted_average(x, 'SJV_LAAG_TARIEF_PERC', 'AANSLUITINGEN_AANTAL'),\n",
        "    'LEVERINGSRICHTING_PERC_PC5': weighted_average(x, 'LEVERINGSRICHTING_PERC', 'AANSLUITINGEN_AANTAL'),\n",
        "    'FYSIEKE_STATUS_PERC_PC5': weighted_average(x, 'FYSIEKE_STATUS_PERC', 'AANSLUITINGEN_AANTAL'),\n",
        "    'SOORT_AANSLUITING_PERC_PC5': weighted_average(x, 'SOORT_AANSLUITING_PERC', 'AANSLUITINGEN_AANTAL'),\n",
        "    'SLIMME_METER_PERC_PC5': weighted_average(x, 'SLIMME_METER_PERC', 'AANSLUITINGEN_AANTAL'),\n",
        "})).reset_index()"
      ]
    },
    {
      "cell_type": "code",
      "execution_count": 7,
      "id": "4IcB2iN0InYy",
      "metadata": {
        "colab": {
          "base_uri": "https://localhost:8080/"
        },
        "id": "4IcB2iN0InYy",
        "outputId": "08da943e-6803-4b13-d725-06afa97bff31"
      },
      "outputs": [
        {
          "output_type": "stream",
          "name": "stdout",
          "text": [
            "<class 'pandas.core.frame.DataFrame'>\n",
            "RangeIndex: 22354 entries, 0 to 22353\n",
            "Data columns (total 14 columns):\n",
            " #   Column                      Non-Null Count  Dtype  \n",
            "---  ------                      --------------  -----  \n",
            " 0   POSTCODE5                   22354 non-null  object \n",
            " 1   PRODUCTSOORT                22354 non-null  object \n",
            " 2   NETBEHEERDER                22354 non-null  object \n",
            " 3   NETGEBIED                   22354 non-null  object \n",
            " 4   WOONPLAATS                  22354 non-null  object \n",
            " 5   LANDCODE                    22354 non-null  object \n",
            " 6   VERBRUIKSSEGMENT            22354 non-null  object \n",
            " 7   AANSLUITINGEN_TOTAAL        22354 non-null  float64\n",
            " 8   SJV_GEMIDDELD_PC5           22354 non-null  float64\n",
            " 9   SJV_LAAG_TARIEF_PERC_PC5    22354 non-null  float64\n",
            " 10  LEVERINGSRICHTING_PERC_PC5  22354 non-null  float64\n",
            " 11  FYSIEKE_STATUS_PERC_PC5     22354 non-null  float64\n",
            " 12  SOORT_AANSLUITING_PERC_PC5  22354 non-null  float64\n",
            " 13  SLIMME_METER_PERC_PC5       22354 non-null  float64\n",
            "dtypes: float64(7), object(7)\n",
            "memory usage: 2.4+ MB\n",
            "None\n"
          ]
        }
      ],
      "source": [
        "# Stap 4: Bekijk de gegroepeerde data\n",
        "print(grouped_data.info())"
      ]
    },
    {
      "cell_type": "markdown",
      "id": "022f3521",
      "metadata": {
        "id": "022f3521"
      },
      "source": [
        "## Stap 3: CBS Postcode Data downloaden"
      ]
    },
    {
      "cell_type": "code",
      "execution_count": 8,
      "id": "6a6dcfbd",
      "metadata": {
        "colab": {
          "base_uri": "https://localhost:8080/"
        },
        "id": "6a6dcfbd",
        "outputId": "6339919c-4cb7-4f16-db17-7d9454d2967e"
      },
      "outputs": [
        {
          "output_type": "stream",
          "name": "stdout",
          "text": [
            "CBS_Postcode data is gedownload en uitgepakt\n"
          ]
        }
      ],
      "source": [
        "# Make variables for download\n",
        "pc5_url = \"https://download.cbs.nl/postcode/2024-cbs_pc5_2023_v1.zip\"\n",
        "pc5_dirname = \"CBS_Postcode\" # Name of the directory\n",
        "\n",
        "# Download CBS Postcode data\n",
        "response = requests.get(pc5_url)\n",
        "\n",
        "# Get filename for CBS Postcode\n",
        "filename = pc5_url.split(\"/\")[-1]\n",
        "\n",
        "# Write response content in to zip file\n",
        "with open(filename, \"wb\") as f:\n",
        "    f.write(response.content)\n",
        "\n",
        "# Extract the files from zip file\n",
        "with zipfile.ZipFile(filename, 'r') as zip_ref:\n",
        "    zip_ref.extractall(f\"./{pc5_dirname}\")\n",
        "\n",
        "print(f\"{pc5_dirname} data is gedownload en uitgepakt\")"
      ]
    },
    {
      "cell_type": "markdown",
      "id": "zb_iaV2uMYKX",
      "metadata": {
        "id": "zb_iaV2uMYKX"
      },
      "source": [
        "## Stap 4: CBS Postcode data inlezen"
      ]
    },
    {
      "cell_type": "code",
      "execution_count": 10,
      "id": "0rN95i0yEPlE",
      "metadata": {
        "id": "0rN95i0yEPlE"
      },
      "outputs": [],
      "source": [
        "# Deze code voert een specifieke taak uit\n",
        "import geopandas as gpd"
      ]
    },
    {
      "cell_type": "code",
      "execution_count": 11,
      "id": "pY1xe6DPEKzl",
      "metadata": {
        "id": "pY1xe6DPEKzl"
      },
      "outputs": [],
      "source": [
        "# Bestandspad naar het GeoPackage-bestand\n",
        "cbs_postcode_file = \"CBS_Postcode/cbs_pc5_2023_v1.gpkg\"\n",
        "\n",
        "# CBS Postcode data inlezen\n",
        "cbs_postcode = gpd.read_file(cbs_postcode_file, layer='cbs_pc5_2023')"
      ]
    },
    {
      "cell_type": "code",
      "execution_count": 12,
      "id": "BD0orLv0Fu8U",
      "metadata": {
        "id": "BD0orLv0Fu8U"
      },
      "outputs": [],
      "source": [
        "# Alleen de kolommen 'postcode' en 'geometry' selecteren\n",
        "cbs_postcode = cbs_postcode[['postcode', 'geometry']]"
      ]
    },
    {
      "cell_type": "markdown",
      "id": "7MtaXwJMMfde",
      "metadata": {
        "id": "7MtaXwJMMfde"
      },
      "source": [
        "#### Controleer data"
      ]
    },
    {
      "cell_type": "code",
      "execution_count": 13,
      "id": "NYDaJVbVMe5y",
      "metadata": {
        "colab": {
          "base_uri": "https://localhost:8080/"
        },
        "id": "NYDaJVbVMe5y",
        "outputId": "b245e8db-7275-46b2-c527-a44765b8ed1d"
      },
      "outputs": [
        {
          "output_type": "stream",
          "name": "stdout",
          "text": [
            "  postcode                                           geometry\n",
            "0    1011A  MULTIPOLYGON (((122304.194 487357.434, 122317....\n",
            "1    1011B  MULTIPOLYGON (((122326.226 487335.976, 122348....\n",
            "2    1011C  MULTIPOLYGON (((122119.317 487245.362, 122125....\n",
            "3    1011D  MULTIPOLYGON (((122511.139 487596.872, 122508....\n",
            "4    1011E  MULTIPOLYGON (((122051.444 487196.664, 122058....\n"
          ]
        }
      ],
      "source": [
        "# print(cbs_postcode.head())\n",
        "print(cbs_postcode.head())\n",
        "# print(cbs_postcode.describe())"
      ]
    },
    {
      "cell_type": "markdown",
      "id": "vchWCPidLrmG",
      "metadata": {
        "id": "vchWCPidLrmG"
      },
      "source": [
        "## Stap 5: CBS Postcode Data koppelen aan netbeheer data\n"
      ]
    },
    {
      "cell_type": "code",
      "execution_count": 14,
      "id": "N79Ox7bMLQnK",
      "metadata": {
        "id": "N79Ox7bMLQnK"
      },
      "outputs": [],
      "source": [
        "# Merging the datasets\n",
        "merged_data = pd.merge(grouped_data, cbs_postcode, left_on=\"POSTCODE5\", right_on=\"postcode\", how=\"left\")\n",
        "merged_data = merged_data.drop(columns=[\"postcode\"])\n",
        "merged_data = gpd.GeoDataFrame(merged_data, geometry='geometry')"
      ]
    },
    {
      "cell_type": "markdown",
      "id": "_XvLwmawTgDJ",
      "metadata": {
        "id": "_XvLwmawTgDJ"
      },
      "source": [
        "#### Controleer data"
      ]
    },
    {
      "cell_type": "code",
      "execution_count": 15,
      "id": "-KyEcCoqJloR",
      "metadata": {
        "colab": {
          "base_uri": "https://localhost:8080/"
        },
        "id": "-KyEcCoqJloR",
        "outputId": "919ddedb-fe17-44b4-a9a3-b85312a19c27"
      },
      "outputs": [
        {
          "output_type": "stream",
          "name": "stdout",
          "text": [
            "<class 'geopandas.geodataframe.GeoDataFrame'>\n",
            "RangeIndex: 22354 entries, 0 to 22353\n",
            "Data columns (total 15 columns):\n",
            " #   Column                      Non-Null Count  Dtype   \n",
            "---  ------                      --------------  -----   \n",
            " 0   POSTCODE5                   22354 non-null  object  \n",
            " 1   PRODUCTSOORT                22354 non-null  object  \n",
            " 2   NETBEHEERDER                22354 non-null  object  \n",
            " 3   NETGEBIED                   22354 non-null  object  \n",
            " 4   WOONPLAATS                  22354 non-null  object  \n",
            " 5   LANDCODE                    22354 non-null  object  \n",
            " 6   VERBRUIKSSEGMENT            22354 non-null  object  \n",
            " 7   AANSLUITINGEN_TOTAAL        22354 non-null  float64 \n",
            " 8   SJV_GEMIDDELD_PC5           22354 non-null  float64 \n",
            " 9   SJV_LAAG_TARIEF_PERC_PC5    22354 non-null  float64 \n",
            " 10  LEVERINGSRICHTING_PERC_PC5  22354 non-null  float64 \n",
            " 11  FYSIEKE_STATUS_PERC_PC5     22354 non-null  float64 \n",
            " 12  SOORT_AANSLUITING_PERC_PC5  22354 non-null  float64 \n",
            " 13  SLIMME_METER_PERC_PC5       22354 non-null  float64 \n",
            " 14  geometry                    22342 non-null  geometry\n",
            "dtypes: float64(7), geometry(1), object(7)\n",
            "memory usage: 2.6+ MB\n",
            "None\n"
          ]
        }
      ],
      "source": [
        "# print(merged_data.head())\n",
        "print(merged_data.info())"
      ]
    },
    {
      "cell_type": "markdown",
      "id": "WLTGOaEdUFVU",
      "metadata": {
        "id": "WLTGOaEdUFVU"
      },
      "source": [
        "## Stap 6: CBS wijkbuurten kaart data downloaden voor gemeenten"
      ]
    },
    {
      "cell_type": "code",
      "execution_count": 16,
      "id": "nA8j9QUCUW6o",
      "metadata": {
        "colab": {
          "base_uri": "https://localhost:8080/"
        },
        "id": "nA8j9QUCUW6o",
        "outputId": "0fe2e281-aef6-4e15-9edf-c15641c6e047"
      },
      "outputs": [
        {
          "output_type": "stream",
          "name": "stdout",
          "text": [
            "Data succesvol opgehaald!\n"
          ]
        }
      ],
      "source": [
        "import geopandas as gpd\n",
        "import requests\n",
        "from owslib.wfs import WebFeatureService\n",
        "\n",
        "# WFS URL\n",
        "wfs_url = 'https://service.pdok.nl/cbs/wijkenbuurten/2023/wfs/v1_0'\n",
        "\n",
        "# Stel de parameters voor het GET-verzoek\n",
        "params = {\n",
        "    'service': 'WFS',\n",
        "    'version': '2.0.0',\n",
        "    'request': 'GetFeature',\n",
        "    'typeName': 'gemeenten',\n",
        "    'outputFormat': 'json',\n",
        "    'PropertyName': 'gemeentenaam,gemeentecode'\n",
        "}\n",
        "\n",
        "# Stel de headers voor het GET-verzoek\n",
        "headers = {\n",
        "    'Accept-Encoding': 'gzip'\n",
        "}\n",
        "\n",
        "# Maak een GET-verzoek met compressie\n",
        "r = requests.get(wfs_url, params=params, headers=headers)\n",
        "\n",
        "# Controleer of het verzoek succesvol was\n",
        "if r.status_code == 200:\n",
        "    print(\"Data succesvol opgehaald!\")\n",
        "\n",
        "    # Zet de JSON-data om naar een GeoDataFrame\n",
        "    cbs_gemeente = gpd.read_file(io.BytesIO(r.content))\n",
        "\n",
        "    # Filter de nodige kolommen\n",
        "    # cbs_gemeente = cbs_gemeente[['gemeentecode', 'gemeentenaam', 'geometry']]\n",
        "else:\n",
        "    print(f\"Fout bij het ophalen van de data: {r.status_code}\")\n",
        "    print(r.text)\n"
      ]
    },
    {
      "cell_type": "markdown",
      "id": "PinTBuR1UdJ8",
      "metadata": {
        "id": "PinTBuR1UdJ8"
      },
      "source": [
        "#### Controleer data"
      ]
    },
    {
      "cell_type": "code",
      "execution_count": 33,
      "id": "5A-rbntwUcnA",
      "metadata": {
        "colab": {
          "base_uri": "https://localhost:8080/"
        },
        "id": "5A-rbntwUcnA",
        "outputId": "6a32c823-1784-4097-ed99-b7dc492c7b18"
      },
      "outputs": [
        {
          "output_type": "stream",
          "name": "stdout",
          "text": [
            "<class 'geopandas.geodataframe.GeoDataFrame'>\n",
            "RangeIndex: 424 entries, 0 to 423\n",
            "Data columns (total 4 columns):\n",
            " #   Column          Non-Null Count  Dtype   \n",
            "---  ------          --------------  -----   \n",
            " 0   gemeentecode    424 non-null    object  \n",
            " 1   gemeentenaam    424 non-null    object  \n",
            " 2   geometry        424 non-null    geometry\n",
            " 3   geometry_right  424 non-null    geometry\n",
            "dtypes: geometry(2), object(2)\n",
            "memory usage: 13.4+ KB\n",
            "None\n"
          ]
        }
      ],
      "source": [
        "# print(cbs_gemeente.head())\n",
        "print(cbs_gemeente.info())"
      ]
    },
    {
      "cell_type": "markdown",
      "id": "6pw1KdnxttcQ",
      "metadata": {
        "id": "6pw1KdnxttcQ"
      },
      "source": [
        "## Stap 7: Gemeente koppelen aan postcode 5 cijfers"
      ]
    },
    {
      "cell_type": "code",
      "source": [
        "# Deze code voert een specifieke taak uit\n",
        "cbs_gemeente['geometry_right'] = cbs_gemeente.loc[:, 'geometry']\n",
        "\n",
        "# Ruimtelijke join uitvoeren om de gemeentes te vinden die overlappen met postcodes\n",
        "joined_data = gpd.sjoin(merged_data, cbs_gemeente, predicate='intersects')"
      ],
      "metadata": {
        "id": "90xXoAt6qhEr"
      },
      "id": "90xXoAt6qhEr",
      "execution_count": 34,
      "outputs": []
    },
    {
      "cell_type": "code",
      "source": [
        "# display all columns\n",
        "pd.set_option('display.max_columns', None)\n",
        "print(joined_data.info())"
      ],
      "metadata": {
        "colab": {
          "base_uri": "https://localhost:8080/"
        },
        "id": "kec62vaWqimS",
        "outputId": "1af3037b-0bda-470c-f127-7d948cb2b1a1"
      },
      "id": "kec62vaWqimS",
      "execution_count": 35,
      "outputs": [
        {
          "output_type": "stream",
          "name": "stdout",
          "text": [
            "<class 'geopandas.geodataframe.GeoDataFrame'>\n",
            "Index: 28290 entries, 0 to 22353\n",
            "Data columns (total 19 columns):\n",
            " #   Column                      Non-Null Count  Dtype   \n",
            "---  ------                      --------------  -----   \n",
            " 0   POSTCODE5                   28290 non-null  object  \n",
            " 1   PRODUCTSOORT                28290 non-null  object  \n",
            " 2   NETBEHEERDER                28290 non-null  object  \n",
            " 3   NETGEBIED                   28290 non-null  object  \n",
            " 4   WOONPLAATS                  28290 non-null  object  \n",
            " 5   LANDCODE                    28290 non-null  object  \n",
            " 6   VERBRUIKSSEGMENT            28290 non-null  object  \n",
            " 7   AANSLUITINGEN_TOTAAL        28290 non-null  float64 \n",
            " 8   SJV_GEMIDDELD_PC5           28290 non-null  float64 \n",
            " 9   SJV_LAAG_TARIEF_PERC_PC5    28290 non-null  float64 \n",
            " 10  LEVERINGSRICHTING_PERC_PC5  28290 non-null  float64 \n",
            " 11  FYSIEKE_STATUS_PERC_PC5     28290 non-null  float64 \n",
            " 12  SOORT_AANSLUITING_PERC_PC5  28290 non-null  float64 \n",
            " 13  SLIMME_METER_PERC_PC5       28290 non-null  float64 \n",
            " 14  geometry                    28290 non-null  geometry\n",
            " 15  index_right                 28290 non-null  int64   \n",
            " 16  gemeentecode                28290 non-null  object  \n",
            " 17  gemeentenaam                28290 non-null  object  \n",
            " 18  geometry_right              28290 non-null  geometry\n",
            "dtypes: float64(7), geometry(2), int64(1), object(9)\n",
            "memory usage: 4.3+ MB\n",
            "None\n"
          ]
        }
      ]
    },
    {
      "cell_type": "code",
      "source": [
        "# display all columns\n",
        "pd.set_option('display.max_columns', None)\n",
        "print(joined_data)"
      ],
      "metadata": {
        "colab": {
          "base_uri": "https://localhost:8080/"
        },
        "id": "pkYzO5zqpeLT",
        "outputId": "d34e4325-f20f-4f2e-a74e-8446d3154a54"
      },
      "id": "pkYzO5zqpeLT",
      "execution_count": 36,
      "outputs": [
        {
          "output_type": "stream",
          "name": "stdout",
          "text": [
            "      POSTCODE5 PRODUCTSOORT NETBEHEERDER NETGEBIED WOONPLAATS LANDCODE  \\\n",
            "0         4251A          ELK  Enexis B.V.    ENEXIS  WERKENDAM       NL   \n",
            "1         4251A          GAS  Enexis B.V.    ENEXIS  WERKENDAM       NL   \n",
            "2         4251B          ELK  Enexis B.V.    ENEXIS  WERKENDAM       NL   \n",
            "3         4251B          GAS  Enexis B.V.    ENEXIS  WERKENDAM       NL   \n",
            "4         4251C          ELK  Enexis B.V.    ENEXIS  WERKENDAM       NL   \n",
            "...         ...          ...          ...       ...        ...      ...   \n",
            "22351     9999X          ELK  Enexis B.V.    ENEXIS  STITSWERD       NL   \n",
            "22352     9999X          GAS  Enexis B.V.    ENEXIS  ROTTUM GN       NL   \n",
            "22352     9999X          GAS  Enexis B.V.    ENEXIS  ROTTUM GN       NL   \n",
            "22353     9999X          GAS  Enexis B.V.    ENEXIS  STITSWERD       NL   \n",
            "22353     9999X          GAS  Enexis B.V.    ENEXIS  STITSWERD       NL   \n",
            "\n",
            "      VERBRUIKSSEGMENT  AANSLUITINGEN_TOTAAL  SJV_GEMIDDELD_PC5  \\\n",
            "0                  KVB                 247.0         209.520850   \n",
            "1                  KVB                 236.0          63.530000   \n",
            "2                  KVB                 310.0         181.356097   \n",
            "3                  KVB                 252.0          58.392500   \n",
            "4                  KVB                 352.0         308.459489   \n",
            "...                ...                   ...                ...   \n",
            "22351              KVB                  36.0         254.997222   \n",
            "22352              KVB                  12.0         249.375000   \n",
            "22352              KVB                  12.0         249.375000   \n",
            "22353              KVB                  33.0         101.974848   \n",
            "22353              KVB                  33.0         101.974848   \n",
            "\n",
            "       SJV_LAAG_TARIEF_PERC_PC5  LEVERINGSRICHTING_PERC_PC5  \\\n",
            "0                      2.491903                    4.432794   \n",
            "1                      0.000000                    5.508475   \n",
            "2                      2.628258                    3.973774   \n",
            "3                      0.000000                    5.555556   \n",
            "4                      2.230085                    4.450341   \n",
            "...                         ...                         ...   \n",
            "22351                  1.971944                    1.984167   \n",
            "22352                  0.000000                    8.333333   \n",
            "22352                  0.000000                    8.333333   \n",
            "22353                  0.000000                    6.060606   \n",
            "22353                  0.000000                    6.060606   \n",
            "\n",
            "       FYSIEKE_STATUS_PERC_PC5  SOORT_AANSLUITING_PERC_PC5  \\\n",
            "0                     5.263158                    2.562794   \n",
            "1                     5.508475                    5.125551   \n",
            "2                     5.483871                    2.964290   \n",
            "3                     5.555556                    5.273016   \n",
            "4                     5.113636                    2.608636   \n",
            "...                        ...                         ...   \n",
            "22351                 5.555556                    3.200833   \n",
            "22352                 8.333333                    6.250000   \n",
            "22352                 8.333333                    6.250000   \n",
            "22353                 6.060606                    5.525152   \n",
            "22353                 6.060606                    5.525152   \n",
            "\n",
            "       SLIMME_METER_PERC_PC5  \\\n",
            "0                   4.714332   \n",
            "1                   0.000000   \n",
            "2                   5.101129   \n",
            "3                   0.000000   \n",
            "4                   4.623352   \n",
            "...                      ...   \n",
            "22351               4.285556   \n",
            "22352               0.000000   \n",
            "22352               0.000000   \n",
            "22353               0.000000   \n",
            "22353               0.000000   \n",
            "\n",
            "                                                geometry  index_right  \\\n",
            "0      MULTIPOLYGON (((120554.774 424907.412, 120551....          411   \n",
            "1      MULTIPOLYGON (((120554.774 424907.412, 120551....          411   \n",
            "2      MULTIPOLYGON (((120793.109 424596.956, 120784....          411   \n",
            "3      MULTIPOLYGON (((120793.109 424596.956, 120784....          411   \n",
            "4      MULTIPOLYGON (((121198.923 424945.049, 121198....          411   \n",
            "...                                                  ...          ...   \n",
            "22351  MULTIPOLYGON (((234985.046 595758.69, 234965.2...          415   \n",
            "22352  MULTIPOLYGON (((234985.046 595758.69, 234965.2...          419   \n",
            "22352  MULTIPOLYGON (((234985.046 595758.69, 234965.2...          415   \n",
            "22353  MULTIPOLYGON (((234985.046 595758.69, 234965.2...          419   \n",
            "22353  MULTIPOLYGON (((234985.046 595758.69, 234965.2...          415   \n",
            "\n",
            "      gemeentecode  gemeentenaam  \\\n",
            "0           GM1959        Altena   \n",
            "1           GM1959        Altena   \n",
            "2           GM1959        Altena   \n",
            "3           GM1959        Altena   \n",
            "4           GM1959        Altena   \n",
            "...            ...           ...   \n",
            "22351       GM1966  Het Hogeland   \n",
            "22352       GM1979     Eemsdelta   \n",
            "22352       GM1966  Het Hogeland   \n",
            "22353       GM1979     Eemsdelta   \n",
            "22353       GM1966  Het Hogeland   \n",
            "\n",
            "                                          geometry_right  \n",
            "0      MULTIPOLYGON (((127929.562 425871.494, 128008....  \n",
            "1      MULTIPOLYGON (((127929.562 425871.494, 128008....  \n",
            "2      MULTIPOLYGON (((127929.562 425871.494, 128008....  \n",
            "3      MULTIPOLYGON (((127929.562 425871.494, 128008....  \n",
            "4      MULTIPOLYGON (((127929.562 425871.494, 128008....  \n",
            "...                                                  ...  \n",
            "22351  MULTIPOLYGON (((209846.459 597910.738, 209846....  \n",
            "22352  MULTIPOLYGON (((260500 593863.956, 260495.074 ...  \n",
            "22352  MULTIPOLYGON (((209846.459 597910.738, 209846....  \n",
            "22353  MULTIPOLYGON (((260500 593863.956, 260495.074 ...  \n",
            "22353  MULTIPOLYGON (((209846.459 597910.738, 209846....  \n",
            "\n",
            "[28290 rows x 19 columns]\n"
          ]
        }
      ]
    },
    {
      "cell_type": "code",
      "source": [
        "# Bereken de overlappingsgebieden door een geometrische intersectie te maken tussen de postcodes en gemeentes\n",
        "joined_data['intersection'] = joined_data.geometry_right.intersection(joined_data['geometry'])\n",
        "\n",
        "# Bereken de oppervlakte van de intersectie\n",
        "joined_data['intersection_area'] = joined_data['intersection'].area\n",
        "\n",
        "joined_data.reset_index(drop=True, inplace=True)"
      ],
      "metadata": {
        "id": "Gf-kqFYDtkSF"
      },
      "id": "Gf-kqFYDtkSF",
      "execution_count": 51,
      "outputs": []
    },
    {
      "cell_type": "code",
      "source": [
        "# prompt: i want to show the duplciatied rows of column [POSTCODE5] in dataframe joined_data\n",
        "\n",
        "duplicate_rows = result[result.duplicated(subset=['POSTCODE5', 'PRODUCTSOORT'], keep=False)]\n",
        "print(duplicate_rows)\n"
      ],
      "metadata": {
        "colab": {
          "base_uri": "https://localhost:8080/"
        },
        "id": "EwQ3brgyuBlx",
        "outputId": "2a133699-9b47-4684-eb3c-83ac324775e9"
      },
      "id": "EwQ3brgyuBlx",
      "execution_count": 53,
      "outputs": [
        {
          "output_type": "stream",
          "name": "stdout",
          "text": [
            "Empty GeoDataFrame\n",
            "Columns: [POSTCODE5, PRODUCTSOORT, NETBEHEERDER, NETGEBIED, WOONPLAATS, LANDCODE, VERBRUIKSSEGMENT, AANSLUITINGEN_TOTAAL, SJV_GEMIDDELD_PC5, SJV_LAAG_TARIEF_PERC_PC5, LEVERINGSRICHTING_PERC_PC5, FYSIEKE_STATUS_PERC_PC5, SOORT_AANSLUITING_PERC_PC5, SLIMME_METER_PERC_PC5, geometry, gemeentecode, gemeentenaam]\n",
            "Index: []\n"
          ]
        }
      ]
    },
    {
      "cell_type": "code",
      "source": [
        "# Groepeer per postcode en kies de gemeente met het grootste overlappingsgebied\n",
        "idx = joined_data.groupby(\n",
        "    ['POSTCODE5', 'PRODUCTSOORT']\n",
        "    )['intersection_area'].idxmax()\n",
        "\n",
        "# Selecteer alleen de rijen met de grootste overlap per postcode\n",
        "largest_overlap = joined_data.loc[idx]\n",
        "\n",
        "# Rename geometry columns to have 'geometry' for the original geometry (geometry_left)\n",
        "largest_overlap = largest_overlap.rename(columns={'geometry_left': 'geometry'})\n",
        "\n",
        "# Behoud de gewenste kolommen\n",
        "result = largest_overlap[['POSTCODE5', 'PRODUCTSOORT', 'NETBEHEERDER', 'NETGEBIED', 'WOONPLAATS',\n",
        "                          'LANDCODE', 'VERBRUIKSSEGMENT', 'AANSLUITINGEN_TOTAAL', 'SJV_GEMIDDELD_PC5',\n",
        "                          'SJV_LAAG_TARIEF_PERC_PC5', 'LEVERINGSRICHTING_PERC_PC5', 'FYSIEKE_STATUS_PERC_PC5',\n",
        "                          'SOORT_AANSLUITING_PERC_PC5', 'SLIMME_METER_PERC_PC5', 'geometry',\n",
        "                          'gemeentecode', 'gemeentenaam']]"
      ],
      "metadata": {
        "id": "ENNoQKjWpRrT"
      },
      "id": "ENNoQKjWpRrT",
      "execution_count": 52,
      "outputs": []
    },
    {
      "cell_type": "markdown",
      "id": "38e0cbc4",
      "metadata": {
        "id": "38e0cbc4"
      },
      "source": [
        "#### Filter gemeente"
      ]
    },
    {
      "cell_type": "code",
      "execution_count": 54,
      "id": "a14a35e9",
      "metadata": {
        "id": "a14a35e9"
      },
      "outputs": [],
      "source": [
        "# Filter merged_data met de gemeente naar keuze\n",
        "result = result[(result['gemeentecode'] == 'GM0988')].copy()"
      ]
    },
    {
      "cell_type": "markdown",
      "id": "RUDHMqW7vGug",
      "metadata": {
        "id": "RUDHMqW7vGug"
      },
      "source": [
        "#### Controleren"
      ]
    },
    {
      "cell_type": "code",
      "execution_count": 55,
      "id": "zz5f_uTVvIFc",
      "metadata": {
        "colab": {
          "base_uri": "https://localhost:8080/"
        },
        "id": "zz5f_uTVvIFc",
        "outputId": "159a9c4b-3995-4e42-a934-396e4e89dbf9"
      },
      "outputs": [
        {
          "output_type": "stream",
          "name": "stdout",
          "text": [
            "<class 'geopandas.geodataframe.GeoDataFrame'>\n",
            "Index: 176 entries, 12954 to 13477\n",
            "Data columns (total 17 columns):\n",
            " #   Column                      Non-Null Count  Dtype   \n",
            "---  ------                      --------------  -----   \n",
            " 0   POSTCODE5                   176 non-null    object  \n",
            " 1   PRODUCTSOORT                176 non-null    object  \n",
            " 2   NETBEHEERDER                176 non-null    object  \n",
            " 3   NETGEBIED                   176 non-null    object  \n",
            " 4   WOONPLAATS                  176 non-null    object  \n",
            " 5   LANDCODE                    176 non-null    object  \n",
            " 6   VERBRUIKSSEGMENT            176 non-null    object  \n",
            " 7   AANSLUITINGEN_TOTAAL        176 non-null    float64 \n",
            " 8   SJV_GEMIDDELD_PC5           176 non-null    float64 \n",
            " 9   SJV_LAAG_TARIEF_PERC_PC5    176 non-null    float64 \n",
            " 10  LEVERINGSRICHTING_PERC_PC5  176 non-null    float64 \n",
            " 11  FYSIEKE_STATUS_PERC_PC5     176 non-null    float64 \n",
            " 12  SOORT_AANSLUITING_PERC_PC5  176 non-null    float64 \n",
            " 13  SLIMME_METER_PERC_PC5       176 non-null    float64 \n",
            " 14  geometry                    176 non-null    geometry\n",
            " 15  gemeentecode                176 non-null    object  \n",
            " 16  gemeentenaam                176 non-null    object  \n",
            "dtypes: float64(7), geometry(1), object(9)\n",
            "memory usage: 24.8+ KB\n",
            "None\n"
          ]
        }
      ],
      "source": [
        "# Print the updated merged_data\n",
        "print(result.info())"
      ]
    },
    {
      "cell_type": "markdown",
      "id": "Y-hbFtKRT2p1",
      "metadata": {
        "id": "Y-hbFtKRT2p1"
      },
      "source": [
        "## Stap 8: Elektrische data en gas data splitsen en gemeente filteren"
      ]
    },
    {
      "cell_type": "code",
      "execution_count": 56,
      "id": "itmSE7yhuZQI",
      "metadata": {
        "id": "itmSE7yhuZQI"
      },
      "outputs": [],
      "source": [
        "# Split into electricity and gas dataframes\n",
        "electricity_data = result[result['PRODUCTSOORT'] == 'ELK']\n",
        "gas_data = result[result['PRODUCTSOORT'] == 'GAS']\n",
        "\n",
        "# Convert to GeoDataFrames\n",
        "electricity_gdf = gpd.GeoDataFrame(electricity_data, geometry='geometry')\n",
        "gas_gdf = gpd.GeoDataFrame(gas_data, geometry='geometry')\n"
      ]
    },
    {
      "cell_type": "markdown",
      "id": "7spiCRA_zCuI",
      "metadata": {
        "id": "7spiCRA_zCuI"
      },
      "source": [
        "#### Controleer"
      ]
    },
    {
      "cell_type": "code",
      "execution_count": null,
      "id": "3m2g-l14zCW4",
      "metadata": {
        "colab": {
          "base_uri": "https://localhost:8080/"
        },
        "id": "3m2g-l14zCW4",
        "outputId": "aa980205-c1ab-4dc8-fb23-23179ff4e430"
      },
      "outputs": [
        {
          "name": "stdout",
          "output_type": "stream",
          "text": [
            "<class 'geopandas.geodataframe.GeoDataFrame'>\n",
            "Index: 20909 entries, 331 to 331\n",
            "Data columns (total 17 columns):\n",
            " #   Column                      Non-Null Count  Dtype   \n",
            "---  ------                      --------------  -----   \n",
            " 0   POSTCODE5                   20909 non-null  object  \n",
            " 1   PRODUCTSOORT                20909 non-null  object  \n",
            " 2   NETBEHEERDER                20909 non-null  object  \n",
            " 3   NETGEBIED                   20909 non-null  object  \n",
            " 4   WOONPLAATS                  20909 non-null  object  \n",
            " 5   LANDCODE                    20909 non-null  object  \n",
            " 6   VERBRUIKSSEGMENT            20909 non-null  object  \n",
            " 7   AANSLUITINGEN_TOTAAL        20909 non-null  float64 \n",
            " 8   SJV_GEMIDDELD_PC5           20909 non-null  float64 \n",
            " 9   SJV_LAAG_TARIEF_PERC_PC5    20909 non-null  float64 \n",
            " 10  LEVERINGSRICHTING_PERC_PC5  20909 non-null  float64 \n",
            " 11  FYSIEKE_STATUS_PERC_PC5     20909 non-null  float64 \n",
            " 12  SOORT_AANSLUITING_PERC_PC5  20909 non-null  float64 \n",
            " 13  SLIMME_METER_PERC_PC5       20909 non-null  float64 \n",
            " 14  geometry                    20909 non-null  geometry\n",
            " 15  gemeentecode                20909 non-null  object  \n",
            " 16  gemeentenaam                20909 non-null  object  \n",
            "dtypes: float64(7), geometry(1), object(9)\n",
            "memory usage: 2.9+ MB\n",
            "None\n",
            "<class 'geopandas.geodataframe.GeoDataFrame'>\n",
            "Index: 20300 entries, 331 to 331\n",
            "Data columns (total 17 columns):\n",
            " #   Column                      Non-Null Count  Dtype   \n",
            "---  ------                      --------------  -----   \n",
            " 0   POSTCODE5                   20300 non-null  object  \n",
            " 1   PRODUCTSOORT                20300 non-null  object  \n",
            " 2   NETBEHEERDER                20300 non-null  object  \n",
            " 3   NETGEBIED                   20300 non-null  object  \n",
            " 4   WOONPLAATS                  20300 non-null  object  \n",
            " 5   LANDCODE                    20300 non-null  object  \n",
            " 6   VERBRUIKSSEGMENT            20300 non-null  object  \n",
            " 7   AANSLUITINGEN_TOTAAL        20300 non-null  float64 \n",
            " 8   SJV_GEMIDDELD_PC5           20300 non-null  float64 \n",
            " 9   SJV_LAAG_TARIEF_PERC_PC5    20300 non-null  float64 \n",
            " 10  LEVERINGSRICHTING_PERC_PC5  20300 non-null  float64 \n",
            " 11  FYSIEKE_STATUS_PERC_PC5     20300 non-null  float64 \n",
            " 12  SOORT_AANSLUITING_PERC_PC5  20300 non-null  float64 \n",
            " 13  SLIMME_METER_PERC_PC5       20300 non-null  float64 \n",
            " 14  geometry                    20300 non-null  geometry\n",
            " 15  gemeentecode                20300 non-null  object  \n",
            " 16  gemeentenaam                20300 non-null  object  \n",
            "dtypes: float64(7), geometry(1), object(9)\n",
            "memory usage: 2.8+ MB\n",
            "None\n"
          ]
        }
      ],
      "source": [
        "# Print the updated merged_data\n",
        "print(electricity_gdf.info())\n",
        "print(gas_gdf.info())"
      ]
    },
    {
      "cell_type": "markdown",
      "id": "F_axYgHZu742",
      "metadata": {
        "id": "F_axYgHZu742"
      },
      "source": [
        "## Stap 9: Geodata output naar gpkg bestand"
      ]
    },
    {
      "cell_type": "code",
      "execution_count": 57,
      "id": "EcfecCVyvARO",
      "metadata": {
        "colab": {
          "base_uri": "https://localhost:8080/"
        },
        "id": "EcfecCVyvARO",
        "outputId": "348c3b78-f315-4717-d286-69c5b427aa45"
      },
      "outputs": [
        {
          "output_type": "stream",
          "name": "stdout",
          "text": [
            "GeoPackage file 'netbeheerder_data.gpkg' created successfully.\n"
          ]
        }
      ],
      "source": [
        "# Create a GeoPackage file\n",
        "output_filename = 'netbeheerder_data.gpkg'\n",
        "\n",
        "# Write the GeoDataFrames to the GeoPackage file\n",
        "electricity_gdf.to_file(output_filename, layer='electricity', driver='GPKG')\n",
        "gas_gdf.to_file(output_filename, layer='gas', driver='GPKG')\n",
        "\n",
        "print(f\"GeoPackage file '{output_filename}' created successfully.\")"
      ]
    },
    {
      "cell_type": "code",
      "source": [
        "!ls -lh"
      ],
      "metadata": {
        "colab": {
          "base_uri": "https://localhost:8080/"
        },
        "id": "Qr4mfDrFs8Sc",
        "outputId": "7666c5a1-9d29-4bd9-eda3-94c35f3613a4"
      },
      "id": "Qr4mfDrFs8Sc",
      "execution_count": 58,
      "outputs": [
        {
          "output_type": "stream",
          "name": "stdout",
          "text": [
            "total 72M\n",
            "-rw-r--r-- 1 root root  47M Sep 26 09:15 2024-cbs_pc5_2023_v1.zip\n",
            "drwxr-xr-x 2 root root 4.0K Sep 26 09:15 CBS_Postcode\n",
            "-rw-r--r-- 1 root root  24M Sep 26 09:14 Enexis_kleinverbruiksgegevens_01012024.csv\n",
            "-rw-r--r-- 1 root root 1.1M Sep 26 09:55 netbeheerder_data.gpkg\n",
            "drwxr-xr-x 1 root root 4.0K Sep 24 13:23 sample_data\n"
          ]
        }
      ]
    }
  ],
  "metadata": {
    "colab": {
      "collapsed_sections": [
        "hRlBJBpBzbKm",
        "7Ogm81yU0Wfh",
        "t7NOe_s50Z7h"
      ],
      "provenance": [],
      "include_colab_link": true
    },
    "kernelspec": {
      "display_name": "Python 3.11.0 64-bit",
      "language": "python",
      "name": "python3"
    },
    "language_info": {
      "codemirror_mode": {
        "name": "ipython",
        "version": 3
      },
      "file_extension": ".py",
      "mimetype": "text/x-python",
      "name": "python",
      "nbconvert_exporter": "python",
      "pygments_lexer": "ipython3",
      "version": "3.11.0"
    },
    "vscode": {
      "interpreter": {
        "hash": "62d7c45b608c8f25a25b43e6d3bc9acf6c426a1b6aa739c22bf731be503f4da5"
      }
    }
  },
  "nbformat": 4,
  "nbformat_minor": 5
}