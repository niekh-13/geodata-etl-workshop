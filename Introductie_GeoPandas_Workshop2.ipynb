{
  "cells": [
    {
      "cell_type": "markdown",
      "id": "da30464b",
      "metadata": {
        "id": "da30464b"
      },
      "source": [
        "# Introductie Pandas en GeoPandas: eenvoudige ETL scripting"
      ]
    },
    {
      "cell_type": "markdown",
      "id": "71f75912",
      "metadata": {
        "id": "71f75912"
      },
      "source": [
        "In deze workshop voor Kaartviewer inspiratie dagen 2024 leer je de basis van Pandas en GeoPandas kennen door gebruik te maken van open data van Nederlandse netbeheerders en CBS."
      ]
    },
    {
      "cell_type": "code",
      "execution_count": 24,
      "id": "d344c7a1",
      "metadata": {
        "id": "d344c7a1",
        "colab": {
          "base_uri": "https://localhost:8080/"
        },
        "outputId": "7f036aba-7cee-4f67-d391-f8981e7bab32"
      },
      "outputs": [
        {
          "output_type": "stream",
          "name": "stdout",
          "text": [
            "Requirement already satisfied: pandas in /usr/local/lib/python3.10/dist-packages (2.1.4)\n",
            "Requirement already satisfied: geopandas in /usr/local/lib/python3.10/dist-packages (0.14.4)\n",
            "Requirement already satisfied: shapely in /usr/local/lib/python3.10/dist-packages (2.0.6)\n",
            "Collecting OWSlib\n",
            "  Using cached OWSLib-0.31.0-py2.py3-none-any.whl.metadata (6.7 kB)\n",
            "Requirement already satisfied: numpy<2,>=1.22.4 in /usr/local/lib/python3.10/dist-packages (from pandas) (1.26.4)\n",
            "Requirement already satisfied: python-dateutil>=2.8.2 in /usr/local/lib/python3.10/dist-packages (from pandas) (2.8.2)\n",
            "Requirement already satisfied: pytz>=2020.1 in /usr/local/lib/python3.10/dist-packages (from pandas) (2024.2)\n",
            "Requirement already satisfied: tzdata>=2022.1 in /usr/local/lib/python3.10/dist-packages (from pandas) (2024.1)\n",
            "Requirement already satisfied: fiona>=1.8.21 in /usr/local/lib/python3.10/dist-packages (from geopandas) (1.10.0)\n",
            "Requirement already satisfied: packaging in /usr/local/lib/python3.10/dist-packages (from geopandas) (24.1)\n",
            "Requirement already satisfied: pyproj>=3.3.0 in /usr/local/lib/python3.10/dist-packages (from geopandas) (3.6.1)\n",
            "Requirement already satisfied: lxml in /usr/local/lib/python3.10/dist-packages (from OWSlib) (4.9.4)\n",
            "Requirement already satisfied: pyyaml in /usr/local/lib/python3.10/dist-packages (from OWSlib) (6.0.2)\n",
            "Requirement already satisfied: requests>=1.0 in /usr/local/lib/python3.10/dist-packages (from OWSlib) (2.32.3)\n",
            "Requirement already satisfied: attrs>=19.2.0 in /usr/local/lib/python3.10/dist-packages (from fiona>=1.8.21->geopandas) (24.2.0)\n",
            "Requirement already satisfied: certifi in /usr/local/lib/python3.10/dist-packages (from fiona>=1.8.21->geopandas) (2024.8.30)\n",
            "Requirement already satisfied: click~=8.0 in /usr/local/lib/python3.10/dist-packages (from fiona>=1.8.21->geopandas) (8.1.7)\n",
            "Requirement already satisfied: click-plugins>=1.0 in /usr/local/lib/python3.10/dist-packages (from fiona>=1.8.21->geopandas) (1.1.1)\n",
            "Requirement already satisfied: cligj>=0.5 in /usr/local/lib/python3.10/dist-packages (from fiona>=1.8.21->geopandas) (0.7.2)\n",
            "Requirement already satisfied: six>=1.5 in /usr/local/lib/python3.10/dist-packages (from python-dateutil>=2.8.2->pandas) (1.16.0)\n",
            "Requirement already satisfied: charset-normalizer<4,>=2 in /usr/local/lib/python3.10/dist-packages (from requests>=1.0->OWSlib) (3.3.2)\n",
            "Requirement already satisfied: idna<4,>=2.5 in /usr/local/lib/python3.10/dist-packages (from requests>=1.0->OWSlib) (3.8)\n",
            "Requirement already satisfied: urllib3<3,>=1.21.1 in /usr/local/lib/python3.10/dist-packages (from requests>=1.0->OWSlib) (2.0.7)\n",
            "Downloading OWSLib-0.31.0-py2.py3-none-any.whl (233 kB)\n",
            "\u001b[2K   \u001b[90m━━━━━━━━━━━━━━━━━━━━━━━━━━━━━━━━━━━━━━━━\u001b[0m \u001b[32m233.1/233.1 kB\u001b[0m \u001b[31m4.0 MB/s\u001b[0m eta \u001b[36m0:00:00\u001b[0m\n",
            "\u001b[?25hInstalling collected packages: OWSlib\n",
            "Successfully installed OWSlib-0.31.0\n"
          ]
        }
      ],
      "source": [
        "# Deze code voert een specifieke taak uit\n",
        "#%%capture\n",
        "# Install necessary packages\n",
        "!pip install pandas geopandas shapely OWSlib"
      ]
    },
    {
      "cell_type": "code",
      "execution_count": 25,
      "id": "nLDDoHEvzjgZ",
      "metadata": {
        "id": "nLDDoHEvzjgZ"
      },
      "outputs": [],
      "source": [
        "# Deze code voert een specifieke taak uit\n",
        "%%capture\n",
        "\n",
        "import requests\n",
        "import zipfile\n",
        "import os\n",
        "import io\n",
        "from owslib.wfs import WebFeatureService"
      ]
    },
    {
      "cell_type": "markdown",
      "id": "9ec4feef",
      "metadata": {
        "id": "9ec4feef"
      },
      "source": [
        "## Stap 1: Data downloaden van gekozen netbeheerder"
      ]
    },
    {
      "cell_type": "markdown",
      "id": "135d22b1",
      "metadata": {
        "id": "135d22b1"
      },
      "source": [
        "### Kies één van de netbeheerders en download hun dataset."
      ]
    },
    {
      "cell_type": "markdown",
      "id": "hRlBJBpBzbKm",
      "metadata": {
        "id": "hRlBJBpBzbKm"
      },
      "source": [
        "\n",
        "#### Liander\n",
        "\n"
      ]
    },
    {
      "cell_type": "code",
      "execution_count": null,
      "id": "EPm9p1CWzH91",
      "metadata": {
        "id": "EPm9p1CWzH91"
      },
      "outputs": [],
      "source": [
        "# Download Liander\n",
        "url = \"https://www.liander.nl/-/media/files/open-data/kleinverbruikdata/kleinverbruiksgegevens-2024.zip\"\n",
        "response = requests.get(url)\n",
        "delimiter = ';'\n",
        "\n",
        "# Get filenames and paths for Liander\n",
        "filename = 'Liander_kleinverbruiksgegevens_20240101.csv'\n",
        "zip_path = url.split(\"/\")[-1]\n",
        "\n",
        "# Write response content in to zipfile\n",
        "with open(zip_path, \"wb\") as f:\n",
        "  f.write(response.content)\n",
        "\n",
        "# Extract the csv file from zip file\n",
        "with zipfile.ZipFile(zip_path, 'r') as zip_ref:\n",
        "  zip_ref.extractall(\".\")\n",
        "\n",
        "print(f\"{filename} is downloaded\")"
      ]
    },
    {
      "cell_type": "markdown",
      "id": "V5__OfnT0Gxl",
      "metadata": {
        "id": "V5__OfnT0Gxl"
      },
      "source": [
        "#### Enexis\n"
      ]
    },
    {
      "cell_type": "code",
      "execution_count": 3,
      "id": "rU5NvAtozMiE",
      "metadata": {
        "id": "rU5NvAtozMiE",
        "outputId": "70b49250-0c61-4123-b8ec-036dc163c75d",
        "colab": {
          "base_uri": "https://localhost:8080/"
        }
      },
      "outputs": [
        {
          "output_type": "stream",
          "name": "stdout",
          "text": [
            "Enexis_kleinverbruiksgegevens_01012024.csv is downloaded\n"
          ]
        }
      ],
      "source": [
        "# Download Enexis\n",
        "url = \"https://enxp433-oda01.s3.eu-west-1.amazonaws.com/kv/Enexis_kleinverbruiksgegevens_01012024.csv\"\n",
        "response = requests.get(url)\n",
        "delimiter = ';'\n",
        "\n",
        "# Get filename for Enexis\n",
        "filename = url.split(\"/\")[-1]\n",
        "\n",
        "# Write response content in to csv file\n",
        "with open(filename, \"wb\") as f:\n",
        "  f.write(response.content)\n",
        "\n",
        "print(f\"{filename} is downloaded\")\n"
      ]
    },
    {
      "cell_type": "code",
      "source": [
        "!ls -lh"
      ],
      "metadata": {
        "id": "zEW-07G4C1lk",
        "outputId": "d25cfdfc-2efe-441d-fa52-440c7794daaf",
        "colab": {
          "base_uri": "https://localhost:8080/"
        }
      },
      "id": "zEW-07G4C1lk",
      "execution_count": 4,
      "outputs": [
        {
          "output_type": "stream",
          "name": "stdout",
          "text": [
            "total 24M\n",
            "-rw-r--r-- 1 root root  24M Sep 17 10:51 Enexis_kleinverbruiksgegevens_01012024.csv\n",
            "drwxr-xr-x 1 root root 4.0K Sep 13 13:22 sample_data\n"
          ]
        }
      ]
    },
    {
      "cell_type": "markdown",
      "id": "7Ogm81yU0Wfh",
      "metadata": {
        "id": "7Ogm81yU0Wfh"
      },
      "source": [
        "#### Stedin"
      ]
    },
    {
      "cell_type": "code",
      "execution_count": null,
      "id": "n4pKvHkjWdn1",
      "metadata": {
        "id": "n4pKvHkjWdn1"
      },
      "outputs": [],
      "source": [
        "# Deze code voert een specifieke taak uit\n",
        "!wget https://www.stedin.net/-/media/project/online/files/zakelijk/open-data/stedin-kleinverbruikgegevens-2024.csv\n",
        "\n",
        "delimiter = '\\t'"
      ]
    },
    {
      "cell_type": "markdown",
      "id": "t7NOe_s50Z7h",
      "metadata": {
        "id": "t7NOe_s50Z7h"
      },
      "source": [
        "#### Coteq"
      ]
    },
    {
      "cell_type": "code",
      "execution_count": null,
      "id": "hEVBCI2vzQ8o",
      "metadata": {
        "id": "hEVBCI2vzQ8o"
      },
      "outputs": [],
      "source": [
        "# Download Coteq\n",
        "url = \"https://d3a07q56iliqjn.cloudfront.net/web-uploads/Documenten/Open-data/CoteqNetbeheer_kleinverbruik_01012024.csv\"\n",
        "response = requests.get(url)\n",
        "delimiter = ';'\n",
        "\n",
        "# Get filename for Coteq\n",
        "filename = url.split(\"/\")[-1]\n",
        "\n",
        "# Write response content in to csv file\n",
        "with open(filename, \"wb\") as f:\n",
        "  f.write(response.content)\n",
        "\n",
        "print(f\"{filename} is downloaded\")"
      ]
    },
    {
      "cell_type": "markdown",
      "id": "658jPS6w1z_E",
      "metadata": {
        "id": "658jPS6w1z_E"
      },
      "source": [
        "\n",
        "## Stap 2: Netbeheer data in pandas laden"
      ]
    },
    {
      "cell_type": "code",
      "execution_count": 5,
      "id": "KBLktIUy1qfY",
      "metadata": {
        "id": "KBLktIUy1qfY"
      },
      "outputs": [],
      "source": [
        "# Deze code voert een specifieke taak uit\n",
        "import pandas as pd\n",
        "\n",
        "columns = [\n",
        "    \"NETBEHEERDER\", \"NETGEBIED\", \"STRAATNAAM\", \"POSTCODE_VAN\", \"POSTCODE_TOT\",\n",
        "    \"WOONPLAATS\", \"LANDCODE\", \"PRODUCTSOORT\", \"VERBRUIKSSEGMENT\", \"AANSLUITINGEN_AANTAL\",\n",
        "    \"LEVERINGSRICHTING_PERC\", \"FYSIEKE_STATUS_PERC\", \"SOORT_AANSLUITING_PERC\",\n",
        "    \"SOORT_AANSLUITING\", \"SJV_GEMIDDELD\", \"SJV_LAAG_TARIEF_PERC\", \"SLIMME_METER_PERC\"\n",
        "]\n",
        "\n",
        "# Inlezen van netbeheerder data met pandas\n",
        "data = pd.read_csv(filename, sep=delimiter, dtype=str, names=columns, skiprows=1)\n",
        "\n",
        "# Data van netbeheerder uniform maken voor pandas\n",
        "data = data.map(lambda x: x.replace(',', '.') if isinstance(x, str) else x)"
      ]
    },
    {
      "cell_type": "markdown",
      "id": "KanRBWQhcnNU",
      "metadata": {
        "id": "KanRBWQhcnNU"
      },
      "source": [
        "#### Controleer data"
      ]
    },
    {
      "cell_type": "code",
      "execution_count": 6,
      "id": "_UIc6hN_cohI",
      "metadata": {
        "id": "_UIc6hN_cohI",
        "outputId": "7ec4e4e1-9352-4bb5-af2c-6844c217557f",
        "colab": {
          "base_uri": "https://localhost:8080/"
        }
      },
      "outputs": [
        {
          "output_type": "stream",
          "name": "stdout",
          "text": [
            "<class 'pandas.core.frame.DataFrame'>\n",
            "RangeIndex: 235952 entries, 0 to 235951\n",
            "Data columns (total 17 columns):\n",
            " #   Column                  Non-Null Count   Dtype \n",
            "---  ------                  --------------   ----- \n",
            " 0   NETBEHEERDER            235952 non-null  object\n",
            " 1   NETGEBIED               235952 non-null  object\n",
            " 2   STRAATNAAM              235952 non-null  object\n",
            " 3   POSTCODE_VAN            235952 non-null  object\n",
            " 4   POSTCODE_TOT            235952 non-null  object\n",
            " 5   WOONPLAATS              235952 non-null  object\n",
            " 6   LANDCODE                235952 non-null  object\n",
            " 7   PRODUCTSOORT            235952 non-null  object\n",
            " 8   VERBRUIKSSEGMENT        235952 non-null  object\n",
            " 9   AANSLUITINGEN_AANTAL    235952 non-null  object\n",
            " 10  LEVERINGSRICHTING_PERC  233735 non-null  object\n",
            " 11  FYSIEKE_STATUS_PERC     235952 non-null  object\n",
            " 12  SOORT_AANSLUITING_PERC  235952 non-null  object\n",
            " 13  SOORT_AANSLUITING       235952 non-null  object\n",
            " 14  SJV_GEMIDDELD           235952 non-null  object\n",
            " 15  SJV_LAAG_TARIEF_PERC    235952 non-null  object\n",
            " 16  SLIMME_METER_PERC       126392 non-null  object\n",
            "dtypes: object(17)\n",
            "memory usage: 30.6+ MB\n",
            "None\n"
          ]
        }
      ],
      "source": [
        "# Deze code voert een specifieke taak uit\n",
        "# print(data.head())\n",
        "print(data.info())\n",
        "# print(data.describe())"
      ]
    },
    {
      "cell_type": "markdown",
      "id": "muniSPUeGkk7",
      "metadata": {
        "id": "muniSPUeGkk7"
      },
      "source": [
        "#### Data aggereren naar Postcode4"
      ]
    },
    {
      "cell_type": "code",
      "execution_count": 7,
      "id": "qu3SJ8BLGq5k",
      "metadata": {
        "id": "qu3SJ8BLGq5k"
      },
      "outputs": [],
      "source": [
        "# Stap 1: Postcode4 afleiden\n",
        "data['POSTCODE4'] = data['POSTCODE_TOT'].str[:4]\n",
        "\n",
        "# Zorg dat AANSLUITINGEN_AANTAL en andere numerieke kolommen numeriek zijn\n",
        "data['POSTCODE4'] = pd.to_numeric(data['POSTCODE4'], errors='coerce')\n",
        "data['AANSLUITINGEN_AANTAL'] = pd.to_numeric(data['AANSLUITINGEN_AANTAL'], errors='coerce')\n",
        "data['SJV_GEMIDDELD'] = pd.to_numeric(data['SJV_GEMIDDELD'], errors='coerce')\n",
        "data['SJV_LAAG_TARIEF_PERC'] = pd.to_numeric(data['SJV_LAAG_TARIEF_PERC'], errors='coerce')\n",
        "data['LEVERINGSRICHTING_PERC'] = pd.to_numeric(data['LEVERINGSRICHTING_PERC'], errors='coerce')\n",
        "data['FYSIEKE_STATUS_PERC'] = pd.to_numeric(data['FYSIEKE_STATUS_PERC'], errors='coerce')\n",
        "data['SOORT_AANSLUITING_PERC'] = pd.to_numeric(data['SOORT_AANSLUITING_PERC'], errors='coerce')\n",
        "data['SLIMME_METER_PERC'] = pd.to_numeric(data['SLIMME_METER_PERC'], errors='coerce')\n",
        "\n",
        "# Stap 2: Functie om gewogen gemiddelde te berekenen\n",
        "def weighted_average(df, col, weight_col):\n",
        "    return (df[col] * df[weight_col]).sum() / df[weight_col].sum()\n",
        "\n",
        "# Stap 3: Groeperen op de gewenste kolommen\n",
        "grouped_data = data.groupby(\n",
        "    ['POSTCODE4', 'PRODUCTSOORT', 'NETBEHEERDER', 'NETGEBIED', 'WOONPLAATS', 'LANDCODE', 'VERBRUIKSSEGMENT']\n",
        ").apply(lambda x: pd.Series({\n",
        "    'AANSLUITINGEN_TOTAAL': x['AANSLUITINGEN_AANTAL'].sum(),\n",
        "    'SJV_GEMIDDELD_GEM': weighted_average(x, 'SJV_GEMIDDELD', 'AANSLUITINGEN_AANTAL'),\n",
        "    'SJV_LAAG_TARIEF_PERC_GEM': weighted_average(x, 'SJV_LAAG_TARIEF_PERC', 'AANSLUITINGEN_AANTAL'),\n",
        "    'LEVERINGSRICHTING_PERC_GEM': weighted_average(x, 'LEVERINGSRICHTING_PERC', 'AANSLUITINGEN_AANTAL'),\n",
        "    'FYSIEKE_STATUS_PERC_GEM': weighted_average(x, 'FYSIEKE_STATUS_PERC', 'AANSLUITINGEN_AANTAL'),\n",
        "    'SOORT_AANSLUITING_PERC_GEM': weighted_average(x, 'SOORT_AANSLUITING_PERC', 'AANSLUITINGEN_AANTAL'),\n",
        "    'SLIMME_METER_PERC_GEM': weighted_average(x, 'SLIMME_METER_PERC', 'AANSLUITINGEN_AANTAL'),\n",
        "})).reset_index()"
      ]
    },
    {
      "cell_type": "code",
      "execution_count": 8,
      "id": "4IcB2iN0InYy",
      "metadata": {
        "id": "4IcB2iN0InYy",
        "outputId": "b8eb58d4-4d37-4b2f-9396-8a93a6a22bce",
        "colab": {
          "base_uri": "https://localhost:8080/"
        }
      },
      "outputs": [
        {
          "output_type": "stream",
          "name": "stdout",
          "text": [
            "<class 'pandas.core.frame.DataFrame'>\n",
            "RangeIndex: 3963 entries, 0 to 3962\n",
            "Data columns (total 14 columns):\n",
            " #   Column                      Non-Null Count  Dtype  \n",
            "---  ------                      --------------  -----  \n",
            " 0   POSTCODE4                   3963 non-null   int64  \n",
            " 1   PRODUCTSOORT                3963 non-null   object \n",
            " 2   NETBEHEERDER                3963 non-null   object \n",
            " 3   NETGEBIED                   3963 non-null   object \n",
            " 4   WOONPLAATS                  3963 non-null   object \n",
            " 5   LANDCODE                    3963 non-null   object \n",
            " 6   VERBRUIKSSEGMENT            3963 non-null   object \n",
            " 7   AANSLUITINGEN_TOTAAL        3963 non-null   float64\n",
            " 8   SJV_GEMIDDELD_GEM           3963 non-null   float64\n",
            " 9   SJV_LAAG_TARIEF_PERC_GEM    3963 non-null   float64\n",
            " 10  LEVERINGSRICHTING_PERC_GEM  3963 non-null   float64\n",
            " 11  FYSIEKE_STATUS_PERC_GEM     3963 non-null   float64\n",
            " 12  SOORT_AANSLUITING_PERC_GEM  3963 non-null   float64\n",
            " 13  SLIMME_METER_PERC_GEM       3963 non-null   float64\n",
            "dtypes: float64(7), int64(1), object(6)\n",
            "memory usage: 433.6+ KB\n",
            "None\n"
          ]
        }
      ],
      "source": [
        "# Stap 4: Bekijk de gegroepeerde data\n",
        "# print(grouped_data.head())\n",
        "print(grouped_data.info())"
      ]
    },
    {
      "cell_type": "markdown",
      "id": "022f3521",
      "metadata": {
        "id": "022f3521"
      },
      "source": [
        "## Stap 3: CBS Postcode Data downloaden"
      ]
    },
    {
      "cell_type": "code",
      "execution_count": 9,
      "id": "6a6dcfbd",
      "metadata": {
        "id": "6a6dcfbd",
        "outputId": "1c5e89bb-716c-43de-8b21-5dce19bf3846",
        "colab": {
          "base_uri": "https://localhost:8080/"
        }
      },
      "outputs": [
        {
          "output_type": "stream",
          "name": "stdout",
          "text": [
            "CBS_Postcode data is gedownload en uitgepakt\n"
          ]
        }
      ],
      "source": [
        "# Make variables for download\n",
        "pc4_url = \"https://download.cbs.nl/postcode/2024-cbs_pc4_2023_v1.zip\"\n",
        "pc4_dirname = \"CBS_Postcode\" # Name of the directory\n",
        "\n",
        "# Download CBS Postcode data\n",
        "response = requests.get(pc4_url)\n",
        "\n",
        "# Get filename for CBS Postcode\n",
        "filename = pc4_url.split(\"/\")[-1]\n",
        "\n",
        "# Write response content in to zip file\n",
        "with open(filename, \"wb\") as f:\n",
        "    f.write(response.content)\n",
        "\n",
        "# Extract the files from zip file\n",
        "with zipfile.ZipFile(filename, 'r') as zip_ref:\n",
        "    zip_ref.extractall(f\"./{pc4_dirname}\")\n",
        "\n",
        "print(f\"{pc4_dirname} data is gedownload en uitgepakt\")"
      ]
    },
    {
      "cell_type": "markdown",
      "id": "zb_iaV2uMYKX",
      "metadata": {
        "id": "zb_iaV2uMYKX"
      },
      "source": [
        "## Stap 4: CBS Postcode data inlezen"
      ]
    },
    {
      "cell_type": "code",
      "execution_count": 10,
      "id": "0rN95i0yEPlE",
      "metadata": {
        "id": "0rN95i0yEPlE"
      },
      "outputs": [],
      "source": [
        "# Deze code voert een specifieke taak uit\n",
        "import geopandas as gpd"
      ]
    },
    {
      "cell_type": "code",
      "execution_count": 11,
      "id": "pY1xe6DPEKzl",
      "metadata": {
        "id": "pY1xe6DPEKzl"
      },
      "outputs": [],
      "source": [
        "# Bestandspad naar het GeoPackage-bestand\n",
        "cbs_postcode_file = \"CBS_Postcode/cbs_pc4_2023_v1.gpkg\"\n",
        "\n",
        "# CBS Postcode data inlezen\n",
        "cbs_postcode = gpd.read_file(cbs_postcode_file, layer='cbs_pc4_2023')"
      ]
    },
    {
      "cell_type": "code",
      "execution_count": 12,
      "id": "BD0orLv0Fu8U",
      "metadata": {
        "id": "BD0orLv0Fu8U"
      },
      "outputs": [],
      "source": [
        "# Alleen de kolommen 'postcode' en 'geometry' selecteren\n",
        "cbs_postcode = cbs_postcode[['postcode', 'geometry']]"
      ]
    },
    {
      "cell_type": "markdown",
      "id": "7MtaXwJMMfde",
      "metadata": {
        "id": "7MtaXwJMMfde"
      },
      "source": [
        "#### Controleer data"
      ]
    },
    {
      "cell_type": "code",
      "execution_count": 13,
      "id": "NYDaJVbVMe5y",
      "metadata": {
        "id": "NYDaJVbVMe5y",
        "outputId": "14361671-50e7-4a57-d59d-a0ba5be86a26",
        "colab": {
          "base_uri": "https://localhost:8080/"
        }
      },
      "outputs": [
        {
          "output_type": "stream",
          "name": "stdout",
          "text": [
            "<class 'geopandas.geodataframe.GeoDataFrame'>\n",
            "RangeIndex: 4070 entries, 0 to 4069\n",
            "Data columns (total 2 columns):\n",
            " #   Column    Non-Null Count  Dtype   \n",
            "---  ------    --------------  -----   \n",
            " 0   postcode  4070 non-null   int64   \n",
            " 1   geometry  4070 non-null   geometry\n",
            "dtypes: geometry(1), int64(1)\n",
            "memory usage: 63.7 KB\n",
            "None\n"
          ]
        }
      ],
      "source": [
        "# print(cbs_postcode.head())\n",
        "print(cbs_postcode.info())\n",
        "# print(cbs_postcode.describe())"
      ]
    },
    {
      "cell_type": "markdown",
      "id": "vchWCPidLrmG",
      "metadata": {
        "id": "vchWCPidLrmG"
      },
      "source": [
        "## Stap 5: CBS Postcode Data koppelen aan netbeheer data\n"
      ]
    },
    {
      "cell_type": "code",
      "execution_count": 14,
      "id": "N79Ox7bMLQnK",
      "metadata": {
        "id": "N79Ox7bMLQnK"
      },
      "outputs": [],
      "source": [
        "# Merging the datasets\n",
        "merged_data = pd.merge(grouped_data, cbs_postcode, left_on=\"POSTCODE4\", right_on=\"postcode\", how=\"left\")\n",
        "merged_data = merged_data.drop(columns=[\"postcode\"])\n",
        "merged_data = gpd.GeoDataFrame(merged_data, geometry='geometry')"
      ]
    },
    {
      "cell_type": "markdown",
      "id": "_XvLwmawTgDJ",
      "metadata": {
        "id": "_XvLwmawTgDJ"
      },
      "source": [
        "#### Controleer data"
      ]
    },
    {
      "cell_type": "code",
      "execution_count": 15,
      "id": "-KyEcCoqJloR",
      "metadata": {
        "id": "-KyEcCoqJloR",
        "outputId": "e5417e49-235b-4bbf-96ab-966b1db03889",
        "colab": {
          "base_uri": "https://localhost:8080/"
        }
      },
      "outputs": [
        {
          "output_type": "stream",
          "name": "stdout",
          "text": [
            "<class 'geopandas.geodataframe.GeoDataFrame'>\n",
            "RangeIndex: 3963 entries, 0 to 3962\n",
            "Data columns (total 15 columns):\n",
            " #   Column                      Non-Null Count  Dtype   \n",
            "---  ------                      --------------  -----   \n",
            " 0   POSTCODE4                   3963 non-null   int64   \n",
            " 1   PRODUCTSOORT                3963 non-null   object  \n",
            " 2   NETBEHEERDER                3963 non-null   object  \n",
            " 3   NETGEBIED                   3963 non-null   object  \n",
            " 4   WOONPLAATS                  3963 non-null   object  \n",
            " 5   LANDCODE                    3963 non-null   object  \n",
            " 6   VERBRUIKSSEGMENT            3963 non-null   object  \n",
            " 7   AANSLUITINGEN_TOTAAL        3963 non-null   float64 \n",
            " 8   SJV_GEMIDDELD_GEM           3963 non-null   float64 \n",
            " 9   SJV_LAAG_TARIEF_PERC_GEM    3963 non-null   float64 \n",
            " 10  LEVERINGSRICHTING_PERC_GEM  3963 non-null   float64 \n",
            " 11  FYSIEKE_STATUS_PERC_GEM     3963 non-null   float64 \n",
            " 12  SOORT_AANSLUITING_PERC_GEM  3963 non-null   float64 \n",
            " 13  SLIMME_METER_PERC_GEM       3963 non-null   float64 \n",
            " 14  geometry                    3963 non-null   geometry\n",
            "dtypes: float64(7), geometry(1), int64(1), object(6)\n",
            "memory usage: 464.5+ KB\n",
            "None\n"
          ]
        }
      ],
      "source": [
        "# print(merged_data.head())\n",
        "print(merged_data.info())"
      ]
    },
    {
      "cell_type": "markdown",
      "id": "WLTGOaEdUFVU",
      "metadata": {
        "id": "WLTGOaEdUFVU"
      },
      "source": [
        "## Stap 6: CBS wijkbuurten kaart data downloaden voor gemeenten"
      ]
    },
    {
      "cell_type": "code",
      "source": [
        "from owslib.wfs import WebFeatureService\n",
        "\n",
        "# URL for WFS backend\n",
        "url = 'https://service.pdok.nl/cbs/wijkenbuurten/2023/wfs/v1_0'\n",
        "\n",
        "# Initialize\n",
        "wfs = WebFeatureService(url=url)\n",
        "\n",
        "# Service provider\n",
        "print(wfs.identification.title)\n",
        "\n",
        "# Get WFS version\n",
        "print(wfs.version)\n",
        "\n",
        "# Available methods\n",
        "print([operation.name for operation in wfs.operations])\n",
        "\n",
        "# Available data layers\n",
        "print(list(wfs.contents))\n",
        "\n",
        "# Print all metadata of all layers\n",
        "for layer, meta in wfs.items():\n",
        "    print(meta.__dict__)"
      ],
      "metadata": {
        "id": "c8W9w-TxXFhi",
        "outputId": "57f49e74-a8a5-40a0-d808-a3ce13b9e59f",
        "colab": {
          "base_uri": "https://localhost:8080/",
          "height": 384
        }
      },
      "id": "c8W9w-TxXFhi",
      "execution_count": 16,
      "outputs": [
        {
          "output_type": "error",
          "ename": "ModuleNotFoundError",
          "evalue": "No module named 'owslib'",
          "traceback": [
            "\u001b[0;31m---------------------------------------------------------------------------\u001b[0m",
            "\u001b[0;31mModuleNotFoundError\u001b[0m                       Traceback (most recent call last)",
            "\u001b[0;32m<ipython-input-16-475f70e850db>\u001b[0m in \u001b[0;36m<cell line: 1>\u001b[0;34m()\u001b[0m\n\u001b[0;32m----> 1\u001b[0;31m \u001b[0;32mfrom\u001b[0m \u001b[0mowslib\u001b[0m\u001b[0;34m.\u001b[0m\u001b[0mwfs\u001b[0m \u001b[0;32mimport\u001b[0m \u001b[0mWebFeatureService\u001b[0m\u001b[0;34m\u001b[0m\u001b[0;34m\u001b[0m\u001b[0m\n\u001b[0m\u001b[1;32m      2\u001b[0m \u001b[0;34m\u001b[0m\u001b[0m\n\u001b[1;32m      3\u001b[0m \u001b[0;31m# URL for WFS backend\u001b[0m\u001b[0;34m\u001b[0m\u001b[0;34m\u001b[0m\u001b[0m\n\u001b[1;32m      4\u001b[0m \u001b[0murl\u001b[0m \u001b[0;34m=\u001b[0m \u001b[0;34m'https://service.pdok.nl/cbs/wijkenbuurten/2023/wfs/v1_0'\u001b[0m\u001b[0;34m\u001b[0m\u001b[0;34m\u001b[0m\u001b[0m\n\u001b[1;32m      5\u001b[0m \u001b[0;34m\u001b[0m\u001b[0m\n",
            "\u001b[0;31mModuleNotFoundError\u001b[0m: No module named 'owslib'",
            "",
            "\u001b[0;31m---------------------------------------------------------------------------\u001b[0;32m\nNOTE: If your import is failing due to a missing package, you can\nmanually install dependencies using either !pip or !apt.\n\nTo view examples of installing some common dependencies, click the\n\"Open Examples\" button below.\n\u001b[0;31m---------------------------------------------------------------------------\u001b[0m\n"
          ],
          "errorDetails": {
            "actions": [
              {
                "action": "open_url",
                "actionText": "Open Examples",
                "url": "/notebooks/snippets/importing_libraries.ipynb"
              }
            ]
          }
        }
      ]
    },
    {
      "cell_type": "code",
      "execution_count": 46,
      "id": "nA8j9QUCUW6o",
      "metadata": {
        "id": "nA8j9QUCUW6o",
        "outputId": "7df62d54-bd5a-47a3-d448-c84c70a04400",
        "colab": {
          "base_uri": "https://localhost:8080/"
        }
      },
      "outputs": [
        {
          "output_type": "stream",
          "name": "stdout",
          "text": [
            "Data succesvol opgehaald!\n"
          ]
        }
      ],
      "source": [
        "import geopandas as gpd\n",
        "import requests\n",
        "from owslib.wfs import WebFeatureService\n",
        "\n",
        "# WFS URL\n",
        "wfs_url = 'https://service.pdok.nl/cbs/wijkenbuurten/2023/wfs/v1_0'\n",
        "\n",
        "# Stel de parameters voor het GET-verzoek\n",
        "params = {\n",
        "    'service': 'WFS',\n",
        "    'version': '2.0.0',\n",
        "    'request': 'GetFeature',\n",
        "    'typeName': 'gemeenten',\n",
        "    'outputFormat': 'json',\n",
        "    'PropertyName': 'gemeentenaam,gemeentecode'\n",
        "}\n",
        "\n",
        "# Stel de headers voor het GET-verzoek\n",
        "headers = {\n",
        "    'Accept-Encoding': 'gzip'\n",
        "}\n",
        "\n",
        "# Maak een GET-verzoek met compressie\n",
        "r = requests.get(wfs_url, params=params, headers=headers)\n",
        "\n",
        "# Controleer of het verzoek succesvol was\n",
        "if r.status_code == 200:\n",
        "    print(\"Data succesvol opgehaald!\")\n",
        "\n",
        "    # Zet de JSON-data om naar een GeoDataFrame\n",
        "    cbs_gemeente = gpd.read_file(io.BytesIO(r.content))\n",
        "\n",
        "    # Filter de nodige kolommen\n",
        "    # cbs_gemeente = cbs_gemeente[['gemeentecode', 'gemeentenaam', 'geometry']]\n",
        "else:\n",
        "    print(f\"Fout bij het ophalen van de data: {r.status_code}\")\n",
        "    print(r.text)\n"
      ]
    },
    {
      "cell_type": "markdown",
      "id": "PinTBuR1UdJ8",
      "metadata": {
        "id": "PinTBuR1UdJ8"
      },
      "source": [
        "#### Controleer data"
      ]
    },
    {
      "cell_type": "code",
      "execution_count": 47,
      "id": "5A-rbntwUcnA",
      "metadata": {
        "id": "5A-rbntwUcnA",
        "outputId": "eeec7bca-b363-46d3-8504-dcd03949eb7c",
        "colab": {
          "base_uri": "https://localhost:8080/"
        }
      },
      "outputs": [
        {
          "output_type": "stream",
          "name": "stdout",
          "text": [
            "<class 'geopandas.geodataframe.GeoDataFrame'>\n",
            "RangeIndex: 424 entries, 0 to 423\n",
            "Data columns (total 3 columns):\n",
            " #   Column        Non-Null Count  Dtype   \n",
            "---  ------        --------------  -----   \n",
            " 0   gemeentecode  424 non-null    object  \n",
            " 1   gemeentenaam  424 non-null    object  \n",
            " 2   geometry      424 non-null    geometry\n",
            "dtypes: geometry(1), object(2)\n",
            "memory usage: 10.1+ KB\n",
            "None\n"
          ]
        }
      ],
      "source": [
        "# print(cbs_gemeente.head())\n",
        "print(cbs_gemeente.info())"
      ]
    },
    {
      "cell_type": "markdown",
      "id": "6pw1KdnxttcQ",
      "metadata": {
        "id": "6pw1KdnxttcQ"
      },
      "source": [
        "## Stap 7: Gemeente koppelen aan postcode 4 cijfers"
      ]
    },
    {
      "cell_type": "markdown",
      "source": [
        "Spatial join controleren"
      ],
      "metadata": {
        "id": "b0a4kchNPUOo"
      },
      "id": "b0a4kchNPUOo"
    },
    {
      "cell_type": "code",
      "execution_count": null,
      "id": "ifm50_J4ts2r",
      "metadata": {
        "id": "ifm50_J4ts2r"
      },
      "outputs": [],
      "source": [
        "# Deze code voert een specifieke taak uit\n",
        "cbs_gemeente['geometry_right'] = cbs_gemeente.geometry\n",
        "\n",
        "# Ruimtelijke join uitvoeren om de gemeentes te vinden die overlappen met postcodes\n",
        "joined_data = gpd.sjoin(merged_data, cbs_gemeente, how='left', predicate='intersects')\n",
        "\n",
        "# Bereken de overlappingsgebieden door een geometrische intersectie te maken tussen de postcodes en gemeentes\n",
        "joined_data['intersection'] = joined_data.geometry.intersection(joined_data['geometry_right'])\n",
        "\n",
        "# Bereken de oppervlakte van de intersectie\n",
        "joined_data['intersection_area'] = joined_data['intersection'].area\n",
        "\n",
        "# Groepeer per postcode en kies de gemeente met het grootste overlappingsgebied\n",
        "idx = joined_data.groupby(\n",
        "    ['POSTCODE4', 'PRODUCTSOORT', 'NETBEHEERDER', 'NETGEBIED', 'WOONPLAATS', 'LANDCODE', 'VERBRUIKSSEGMENT']\n",
        "    )['intersection_area'].idxmax()\n",
        "\n",
        "# Selecteer alleen de rijen met de grootste overlap per postcode\n",
        "largest_overlap = joined_data.loc[idx]\n",
        "\n",
        "# Rename geometry columns to have 'geometry' for the original geometry (geometry_left)\n",
        "largest_overlap = largest_overlap.rename(columns={'geometry_left': 'geometry'})\n",
        "\n",
        "# Behoud de gewenste kolommen\n",
        "result = largest_overlap[['POSTCODE4', 'PRODUCTSOORT', 'NETBEHEERDER', 'NETGEBIED', 'WOONPLAATS',\n",
        "                          'LANDCODE', 'VERBRUIKSSEGMENT', 'AANSLUITINGEN_TOTAAL', 'SJV_GEMIDDELD_GEM',\n",
        "                          'SJV_LAAG_TARIEF_PERC_GEM', 'LEVERINGSRICHTING_PERC_GEM', 'FYSIEKE_STATUS_PERC_GEM',\n",
        "                          'SOORT_AANSLUITING_PERC_GEM', 'SLIMME_METER_PERC_GEM', 'geometry',\n",
        "                          'gemeentecode', 'gemeentenaam']]"
      ]
    },
    {
      "cell_type": "markdown",
      "id": "RUDHMqW7vGug",
      "metadata": {
        "id": "RUDHMqW7vGug"
      },
      "source": [
        "#### Controleren"
      ]
    },
    {
      "cell_type": "code",
      "execution_count": null,
      "id": "zz5f_uTVvIFc",
      "metadata": {
        "id": "zz5f_uTVvIFc",
        "outputId": "625e6cca-3253-4ab2-d360-fce566ac6d1f",
        "colab": {
          "base_uri": "https://localhost:8080/"
        }
      },
      "outputs": [
        {
          "output_type": "stream",
          "name": "stdout",
          "text": [
            "<class 'geopandas.geodataframe.GeoDataFrame'>\n",
            "Index: 8531 entries, 0 to 3962\n",
            "Data columns (total 17 columns):\n",
            " #   Column                      Non-Null Count  Dtype   \n",
            "---  ------                      --------------  -----   \n",
            " 0   POSTCODE4                   8531 non-null   int64   \n",
            " 1   PRODUCTSOORT                8531 non-null   object  \n",
            " 2   NETBEHEERDER                8531 non-null   object  \n",
            " 3   NETGEBIED                   8531 non-null   object  \n",
            " 4   WOONPLAATS                  8531 non-null   object  \n",
            " 5   LANDCODE                    8531 non-null   object  \n",
            " 6   VERBRUIKSSEGMENT            8531 non-null   object  \n",
            " 7   AANSLUITINGEN_TOTAAL        8531 non-null   float64 \n",
            " 8   SJV_GEMIDDELD_GEM           8531 non-null   float64 \n",
            " 9   SJV_LAAG_TARIEF_PERC_GEM    8531 non-null   float64 \n",
            " 10  LEVERINGSRICHTING_PERC_GEM  8531 non-null   float64 \n",
            " 11  FYSIEKE_STATUS_PERC_GEM     8531 non-null   float64 \n",
            " 12  SOORT_AANSLUITING_PERC_GEM  8531 non-null   float64 \n",
            " 13  SLIMME_METER_PERC_GEM       8531 non-null   float64 \n",
            " 14  geometry                    8531 non-null   geometry\n",
            " 15  gemeentecode                8531 non-null   object  \n",
            " 16  gemeentenaam                8531 non-null   object  \n",
            "dtypes: float64(7), geometry(1), int64(1), object(8)\n",
            "memory usage: 1.2+ MB\n",
            "None\n"
          ]
        }
      ],
      "source": [
        "# Print the updated merged_data\n",
        "print(result.info())"
      ]
    },
    {
      "cell_type": "markdown",
      "id": "Y-hbFtKRT2p1",
      "metadata": {
        "id": "Y-hbFtKRT2p1"
      },
      "source": [
        "## Stap 8: Elektrische data en gas data splitsen en gemeente filteren"
      ]
    },
    {
      "cell_type": "code",
      "execution_count": null,
      "id": "itmSE7yhuZQI",
      "metadata": {
        "id": "itmSE7yhuZQI"
      },
      "outputs": [],
      "source": [
        "# Filter merged_data for Tilburg\n",
        "filtered_data = result[(result['gemeentecode'] == 'GM0984')]\n",
        "\n",
        "# Split into electricity and gas dataframes\n",
        "electricity_data = filtered_data[filtered_data['PRODUCTSOORT'] == 'ELK']\n",
        "gas_data = filtered_data[filtered_data['PRODUCTSOORT'] == 'GAS']\n",
        "\n",
        "# Convert to GeoDataFrames\n",
        "electricity_gdf = gpd.GeoDataFrame(electricity_data, geometry='geometry')\n",
        "gas_gdf = gpd.GeoDataFrame(gas_data, geometry='geometry')\n"
      ]
    },
    {
      "cell_type": "markdown",
      "id": "7spiCRA_zCuI",
      "metadata": {
        "id": "7spiCRA_zCuI"
      },
      "source": [
        "#### Controleer"
      ]
    },
    {
      "cell_type": "code",
      "execution_count": null,
      "id": "3m2g-l14zCW4",
      "metadata": {
        "id": "3m2g-l14zCW4",
        "outputId": "aa980205-c1ab-4dc8-fb23-23179ff4e430",
        "colab": {
          "base_uri": "https://localhost:8080/"
        }
      },
      "outputs": [
        {
          "output_type": "stream",
          "name": "stdout",
          "text": [
            "<class 'geopandas.geodataframe.GeoDataFrame'>\n",
            "Index: 50 entries, 1202 to 1425\n",
            "Data columns (total 17 columns):\n",
            " #   Column                      Non-Null Count  Dtype   \n",
            "---  ------                      --------------  -----   \n",
            " 0   POSTCODE4                   50 non-null     int64   \n",
            " 1   PRODUCTSOORT                50 non-null     object  \n",
            " 2   NETBEHEERDER                50 non-null     object  \n",
            " 3   NETGEBIED                   50 non-null     object  \n",
            " 4   WOONPLAATS                  50 non-null     object  \n",
            " 5   LANDCODE                    50 non-null     object  \n",
            " 6   VERBRUIKSSEGMENT            50 non-null     object  \n",
            " 7   AANSLUITINGEN_TOTAAL        50 non-null     float64 \n",
            " 8   SJV_GEMIDDELD_GEM           50 non-null     float64 \n",
            " 9   SJV_LAAG_TARIEF_PERC_GEM    50 non-null     float64 \n",
            " 10  LEVERINGSRICHTING_PERC_GEM  50 non-null     float64 \n",
            " 11  FYSIEKE_STATUS_PERC_GEM     50 non-null     float64 \n",
            " 12  SOORT_AANSLUITING_PERC_GEM  50 non-null     float64 \n",
            " 13  SLIMME_METER_PERC_GEM       50 non-null     float64 \n",
            " 14  geometry                    50 non-null     geometry\n",
            " 15  gemeentecode                50 non-null     object  \n",
            " 16  gemeentenaam                50 non-null     object  \n",
            "dtypes: float64(7), geometry(1), int64(1), object(8)\n",
            "memory usage: 7.0+ KB\n",
            "None\n",
            "<class 'geopandas.geodataframe.GeoDataFrame'>\n",
            "Index: 53 entries, 1203 to 1426\n",
            "Data columns (total 17 columns):\n",
            " #   Column                      Non-Null Count  Dtype   \n",
            "---  ------                      --------------  -----   \n",
            " 0   POSTCODE4                   53 non-null     int64   \n",
            " 1   PRODUCTSOORT                53 non-null     object  \n",
            " 2   NETBEHEERDER                53 non-null     object  \n",
            " 3   NETGEBIED                   53 non-null     object  \n",
            " 4   WOONPLAATS                  53 non-null     object  \n",
            " 5   LANDCODE                    53 non-null     object  \n",
            " 6   VERBRUIKSSEGMENT            53 non-null     object  \n",
            " 7   AANSLUITINGEN_TOTAAL        53 non-null     float64 \n",
            " 8   SJV_GEMIDDELD_GEM           53 non-null     float64 \n",
            " 9   SJV_LAAG_TARIEF_PERC_GEM    53 non-null     float64 \n",
            " 10  LEVERINGSRICHTING_PERC_GEM  53 non-null     float64 \n",
            " 11  FYSIEKE_STATUS_PERC_GEM     53 non-null     float64 \n",
            " 12  SOORT_AANSLUITING_PERC_GEM  53 non-null     float64 \n",
            " 13  SLIMME_METER_PERC_GEM       53 non-null     float64 \n",
            " 14  geometry                    53 non-null     geometry\n",
            " 15  gemeentecode                53 non-null     object  \n",
            " 16  gemeentenaam                53 non-null     object  \n",
            "dtypes: float64(7), geometry(1), int64(1), object(8)\n",
            "memory usage: 7.5+ KB\n",
            "None\n"
          ]
        }
      ],
      "source": [
        "# Print the updated merged_data\n",
        "print(electricity_gdf.info())\n",
        "print(gas_gdf.info())"
      ]
    },
    {
      "cell_type": "markdown",
      "id": "F_axYgHZu742",
      "metadata": {
        "id": "F_axYgHZu742"
      },
      "source": [
        "## Stap 9: Geodata output naar gpkg bestand"
      ]
    },
    {
      "cell_type": "code",
      "execution_count": null,
      "id": "EcfecCVyvARO",
      "metadata": {
        "id": "EcfecCVyvARO",
        "outputId": "55e0ddf9-86f3-4b74-d00d-142b3b09582b",
        "colab": {
          "base_uri": "https://localhost:8080/"
        }
      },
      "outputs": [
        {
          "output_type": "stream",
          "name": "stdout",
          "text": [
            "GeoPackage file 'netbeheerder_data.gpkg' created successfully.\n"
          ]
        }
      ],
      "source": [
        "# Create a GeoPackage file\n",
        "output_filename = 'netbeheerder_data.gpkg'\n",
        "\n",
        "# Write the GeoDataFrames to the GeoPackage file\n",
        "electricity_gdf.to_file(output_filename, layer='electricity', driver='GPKG')\n",
        "gas_gdf.to_file(output_filename, layer='gas', driver='GPKG')\n",
        "\n",
        "print(f\"GeoPackage file '{output_filename}' created successfully.\")"
      ]
    }
  ],
  "metadata": {
    "colab": {
      "collapsed_sections": [
        "hRlBJBpBzbKm",
        "7Ogm81yU0Wfh",
        "t7NOe_s50Z7h"
      ],
      "provenance": []
    },
    "kernelspec": {
      "display_name": "Python 3",
      "name": "python3"
    },
    "language_info": {
      "name": "python"
    }
  },
  "nbformat": 4,
  "nbformat_minor": 5
}