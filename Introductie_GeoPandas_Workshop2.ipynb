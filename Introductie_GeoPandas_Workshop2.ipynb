{
  "cells": [
    {
      "cell_type": "markdown",
      "metadata": {
        "id": "view-in-github",
        "colab_type": "text"
      },
      "source": [
        "<a href=\"https://colab.research.google.com/github/niekh-13/geodata-etl-workshop/blob/main/Introductie_GeoPandas_Workshop2.ipynb\" target=\"_parent\"><img src=\"https://colab.research.google.com/assets/colab-badge.svg\" alt=\"Open In Colab\"/></a>"
      ]
    },
    {
      "cell_type": "markdown",
      "id": "da30464b",
      "metadata": {
        "id": "da30464b"
      },
      "source": [
        "# Introductie Pandas en GeoPandas: eenvoudige ETL scripting"
      ]
    },
    {
      "cell_type": "markdown",
      "id": "71f75912",
      "metadata": {
        "id": "71f75912"
      },
      "source": [
        "In deze workshop voor Kaartviewer inspiratie dagen 2024 leer je de basis van Pandas en GeoPandas kennen door gebruik te maken van open data van Nederlandse netbeheerders en CBS."
      ]
    },
    {
      "cell_type": "code",
      "execution_count": 1,
      "id": "d344c7a1",
      "metadata": {
        "id": "d344c7a1"
      },
      "outputs": [],
      "source": [
        "%%capture\n",
        "\n",
        "# Install necessary packages\n",
        "!pip install pandas geopandas shapely OWSlib"
      ]
    },
    {
      "cell_type": "code",
      "execution_count": 2,
      "id": "nLDDoHEvzjgZ",
      "metadata": {
        "id": "nLDDoHEvzjgZ"
      },
      "outputs": [],
      "source": [
        "%%capture\n",
        "\n",
        "# Importeren van packages\n",
        "import requests\n",
        "import zipfile\n",
        "import os\n",
        "import io\n",
        "from owslib.wfs import WebFeatureService"
      ]
    },
    {
      "cell_type": "markdown",
      "id": "9ec4feef",
      "metadata": {
        "id": "9ec4feef"
      },
      "source": [
        "## Stap 1: Data downloaden van gekozen netbeheerder"
      ]
    },
    {
      "cell_type": "markdown",
      "id": "135d22b1",
      "metadata": {
        "id": "135d22b1"
      },
      "source": [
        "### Kies één van de netbeheerders en download hun dataset."
      ]
    },
    {
      "cell_type": "markdown",
      "id": "hRlBJBpBzbKm",
      "metadata": {
        "id": "hRlBJBpBzbKm"
      },
      "source": [
        "\n",
        "#### Liander\n",
        "\n"
      ]
    },
    {
      "cell_type": "code",
      "execution_count": null,
      "id": "EPm9p1CWzH91",
      "metadata": {
        "id": "EPm9p1CWzH91"
      },
      "outputs": [],
      "source": [
        "# Download Liander\n",
        "url = \"https://www.liander.nl/-/media/files/open-data/kleinverbruikdata/kleinverbruiksgegevens-2024.zip\"\n",
        "response = requests.get(url)\n",
        "delimiter = ';'\n",
        "\n",
        "# Get filenames and paths for Liander\n",
        "filename = 'Liander_kleinverbruiksgegevens_20240101.csv'\n",
        "zip_path = url.split(\"/\")[-1]\n",
        "\n",
        "# Write response content in to zipfile\n",
        "with open(zip_path, \"wb\") as f:\n",
        "  f.write(response.content)\n",
        "\n",
        "# Extract the csv file from zip file\n",
        "with zipfile.ZipFile(zip_path, 'r') as zip_ref:\n",
        "  zip_ref.extractall(\".\")\n",
        "\n",
        "print(f\"{filename} is downloaded\")"
      ]
    },
    {
      "cell_type": "markdown",
      "id": "V5__OfnT0Gxl",
      "metadata": {
        "id": "V5__OfnT0Gxl"
      },
      "source": [
        "#### Enexis\n"
      ]
    },
    {
      "cell_type": "code",
      "execution_count": 3,
      "id": "rU5NvAtozMiE",
      "metadata": {
        "colab": {
          "base_uri": "https://localhost:8080/"
        },
        "id": "rU5NvAtozMiE",
        "outputId": "2f9defee-e4d3-43d7-ad51-2489ae6b25bd"
      },
      "outputs": [
        {
          "output_type": "stream",
          "name": "stdout",
          "text": [
            "Enexis_kleinverbruiksgegevens_01012024.csv is downloaded\n"
          ]
        }
      ],
      "source": [
        "# Download Enexis\n",
        "url = \"https://enxp433-oda01.s3.eu-west-1.amazonaws.com/kv/Enexis_kleinverbruiksgegevens_01012024.csv\"\n",
        "response = requests.get(url)\n",
        "delimiter = ';'\n",
        "\n",
        "# Get filename for Enexis\n",
        "filename = url.split(\"/\")[-1]\n",
        "\n",
        "# Write response content in to csv file\n",
        "with open(filename, \"wb\") as f:\n",
        "  f.write(response.content)\n",
        "\n",
        "print(f\"{filename} is downloaded\")\n"
      ]
    },
    {
      "cell_type": "markdown",
      "id": "7Ogm81yU0Wfh",
      "metadata": {
        "id": "7Ogm81yU0Wfh"
      },
      "source": [
        "#### Stedin"
      ]
    },
    {
      "cell_type": "code",
      "execution_count": null,
      "id": "n4pKvHkjWdn1",
      "metadata": {
        "id": "n4pKvHkjWdn1"
      },
      "outputs": [],
      "source": [
        "# Deze code voert een specifieke taak uit\n",
        "!wget https://www.stedin.net/-/media/project/online/files/zakelijk/open-data/stedin-kleinverbruikgegevens-2024.csv\n",
        "\n",
        "delimiter = '\\t'"
      ]
    },
    {
      "cell_type": "markdown",
      "id": "t7NOe_s50Z7h",
      "metadata": {
        "id": "t7NOe_s50Z7h"
      },
      "source": [
        "#### Coteq"
      ]
    },
    {
      "cell_type": "code",
      "execution_count": null,
      "id": "hEVBCI2vzQ8o",
      "metadata": {
        "id": "hEVBCI2vzQ8o"
      },
      "outputs": [],
      "source": [
        "# Download Coteq\n",
        "url = \"https://d3a07q56iliqjn.cloudfront.net/web-uploads/Documenten/Open-data/CoteqNetbeheer_kleinverbruik_01012024.csv\"\n",
        "response = requests.get(url)\n",
        "delimiter = ';'\n",
        "\n",
        "# Get filename for Coteq\n",
        "filename = url.split(\"/\")[-1]\n",
        "\n",
        "# Write response content in to csv file\n",
        "with open(filename, \"wb\") as f:\n",
        "  f.write(response.content)\n",
        "\n",
        "print(f\"{filename} is downloaded\")"
      ]
    },
    {
      "cell_type": "markdown",
      "id": "658jPS6w1z_E",
      "metadata": {
        "id": "658jPS6w1z_E"
      },
      "source": [
        "\n",
        "## Stap 2: Netbeheer data in pandas laden"
      ]
    },
    {
      "cell_type": "code",
      "execution_count": 4,
      "id": "KBLktIUy1qfY",
      "metadata": {
        "id": "KBLktIUy1qfY"
      },
      "outputs": [],
      "source": [
        "# Deze code voert een specifieke taak uit\n",
        "import pandas as pd\n",
        "\n",
        "columns = [\n",
        "    \"NETBEHEERDER\", \"NETGEBIED\", \"STRAATNAAM\", \"POSTCODE_VAN\", \"POSTCODE_TOT\",\n",
        "    \"WOONPLAATS\", \"LANDCODE\", \"PRODUCTSOORT\", \"VERBRUIKSSEGMENT\", \"AANSLUITINGEN_AANTAL\",\n",
        "    \"LEVERINGSRICHTING_PERC\", \"FYSIEKE_STATUS_PERC\", \"SOORT_AANSLUITING_PERC\",\n",
        "    \"SOORT_AANSLUITING\", \"SJV_GEMIDDELD\", \"SJV_LAAG_TARIEF_PERC\", \"SLIMME_METER_PERC\"\n",
        "]\n",
        "\n",
        "# Inlezen van netbeheerder data met pandas\n",
        "data = pd.read_csv(filename, sep=delimiter, dtype=str, names=columns, skiprows=1)\n",
        "\n",
        "# Data van netbeheerder uniform maken voor pandas\n",
        "data = data.map(lambda x: x.replace(',', '.') if isinstance(x, str) else x)"
      ]
    },
    {
      "cell_type": "markdown",
      "id": "KanRBWQhcnNU",
      "metadata": {
        "id": "KanRBWQhcnNU"
      },
      "source": [
        "#### Controleer data"
      ]
    },
    {
      "cell_type": "code",
      "execution_count": 5,
      "id": "_UIc6hN_cohI",
      "metadata": {
        "colab": {
          "base_uri": "https://localhost:8080/"
        },
        "id": "_UIc6hN_cohI",
        "outputId": "c2945b88-a15d-4a82-fa26-e4bc71fc874e"
      },
      "outputs": [
        {
          "output_type": "stream",
          "name": "stdout",
          "text": [
            "<class 'pandas.core.frame.DataFrame'>\n",
            "RangeIndex: 235952 entries, 0 to 235951\n",
            "Data columns (total 17 columns):\n",
            " #   Column                  Non-Null Count   Dtype \n",
            "---  ------                  --------------   ----- \n",
            " 0   NETBEHEERDER            235952 non-null  object\n",
            " 1   NETGEBIED               235952 non-null  object\n",
            " 2   STRAATNAAM              235952 non-null  object\n",
            " 3   POSTCODE_VAN            235952 non-null  object\n",
            " 4   POSTCODE_TOT            235952 non-null  object\n",
            " 5   WOONPLAATS              235952 non-null  object\n",
            " 6   LANDCODE                235952 non-null  object\n",
            " 7   PRODUCTSOORT            235952 non-null  object\n",
            " 8   VERBRUIKSSEGMENT        235952 non-null  object\n",
            " 9   AANSLUITINGEN_AANTAL    235952 non-null  object\n",
            " 10  LEVERINGSRICHTING_PERC  233735 non-null  object\n",
            " 11  FYSIEKE_STATUS_PERC     235952 non-null  object\n",
            " 12  SOORT_AANSLUITING_PERC  235952 non-null  object\n",
            " 13  SOORT_AANSLUITING       235952 non-null  object\n",
            " 14  SJV_GEMIDDELD           235952 non-null  object\n",
            " 15  SJV_LAAG_TARIEF_PERC    235952 non-null  object\n",
            " 16  SLIMME_METER_PERC       126392 non-null  object\n",
            "dtypes: object(17)\n",
            "memory usage: 30.6+ MB\n",
            "None\n"
          ]
        }
      ],
      "source": [
        "# Deze code voert een specifieke taak uit\n",
        "print(data.info())\n",
        "# print(data.describe())"
      ]
    },
    {
      "cell_type": "markdown",
      "id": "muniSPUeGkk7",
      "metadata": {
        "id": "muniSPUeGkk7"
      },
      "source": [
        "#### Data aggereren naar Postcode5"
      ]
    },
    {
      "cell_type": "code",
      "execution_count": 6,
      "id": "qu3SJ8BLGq5k",
      "metadata": {
        "id": "qu3SJ8BLGq5k"
      },
      "outputs": [],
      "source": [
        "# Stap 1: Postcode5 afleiden\n",
        "data['POSTCODE5'] = data['POSTCODE_TOT'].str.replace(' ', '').str[:5]\n",
        "\n",
        "\n",
        "# Zorg dat AANSLUITINGEN_AANTAL en andere numerieke kolommen numeriek zijn\n",
        "data['AANSLUITINGEN_AANTAL'] = pd.to_numeric(data['AANSLUITINGEN_AANTAL'], errors='coerce')\n",
        "data['SJV_GEMIDDELD'] = pd.to_numeric(data['SJV_GEMIDDELD'], errors='coerce')\n",
        "data['SJV_LAAG_TARIEF_PERC'] = pd.to_numeric(data['SJV_LAAG_TARIEF_PERC'], errors='coerce')\n",
        "data['LEVERINGSRICHTING_PERC'] = pd.to_numeric(data['LEVERINGSRICHTING_PERC'], errors='coerce')\n",
        "data['FYSIEKE_STATUS_PERC'] = pd.to_numeric(data['FYSIEKE_STATUS_PERC'], errors='coerce')\n",
        "data['SOORT_AANSLUITING_PERC'] = pd.to_numeric(data['SOORT_AANSLUITING_PERC'], errors='coerce')\n",
        "data['SLIMME_METER_PERC'] = pd.to_numeric(data['SLIMME_METER_PERC'], errors='coerce')\n",
        "\n",
        "# # Stap 2: Functie om gewogen gemiddelde te berekenen\n",
        "def weighted_average(df, col, weight_col):\n",
        "    return df[col].sum() / df[weight_col].sum()\n",
        "\n",
        "# # Stap 3: Groeperen op de gewenste kolommen en berekeningen uitvoeren\n",
        "grouped_data = data.groupby(by=['POSTCODE5', 'PRODUCTSOORT', 'NETBEHEERDER', 'NETGEBIED', 'WOONPLAATS', 'LANDCODE', 'VERBRUIKSSEGMENT']\n",
        ").apply(\n",
        "    lambda x: pd.Series({\n",
        "    'AANSLUITINGEN_TOTAAL': x['AANSLUITINGEN_AANTAL'].sum(),\n",
        "    'SJV_GEMIDDELD_PC5': weighted_average(x, 'SJV_GEMIDDELD', 'AANSLUITINGEN_AANTAL'),\n",
        "    'SJV_LAAG_TARIEF_PERC_PC5': weighted_average(x, 'SJV_LAAG_TARIEF_PERC', 'AANSLUITINGEN_AANTAL'),\n",
        "    'LEVERINGSRICHTING_PERC_PC5': weighted_average(x, 'LEVERINGSRICHTING_PERC', 'AANSLUITINGEN_AANTAL'),\n",
        "    'FYSIEKE_STATUS_PERC_PC5': weighted_average(x, 'FYSIEKE_STATUS_PERC', 'AANSLUITINGEN_AANTAL'),\n",
        "    'SOORT_AANSLUITING_PERC_PC5': weighted_average(x, 'SOORT_AANSLUITING_PERC', 'AANSLUITINGEN_AANTAL'),\n",
        "    'SLIMME_METER_PERC_PC5': weighted_average(x, 'SLIMME_METER_PERC', 'AANSLUITINGEN_AANTAL'),\n",
        "})).reset_index()"
      ]
    },
    {
      "cell_type": "code",
      "execution_count": 7,
      "id": "4IcB2iN0InYy",
      "metadata": {
        "colab": {
          "base_uri": "https://localhost:8080/"
        },
        "id": "4IcB2iN0InYy",
        "outputId": "a85bd8f3-40cb-4bed-f5d0-1c7e54ffb3d4"
      },
      "outputs": [
        {
          "output_type": "stream",
          "name": "stdout",
          "text": [
            "<class 'pandas.core.frame.DataFrame'>\n",
            "RangeIndex: 22354 entries, 0 to 22353\n",
            "Data columns (total 14 columns):\n",
            " #   Column                      Non-Null Count  Dtype  \n",
            "---  ------                      --------------  -----  \n",
            " 0   POSTCODE5                   22354 non-null  object \n",
            " 1   PRODUCTSOORT                22354 non-null  object \n",
            " 2   NETBEHEERDER                22354 non-null  object \n",
            " 3   NETGEBIED                   22354 non-null  object \n",
            " 4   WOONPLAATS                  22354 non-null  object \n",
            " 5   LANDCODE                    22354 non-null  object \n",
            " 6   VERBRUIKSSEGMENT            22354 non-null  object \n",
            " 7   AANSLUITINGEN_TOTAAL        22354 non-null  float64\n",
            " 8   SJV_GEMIDDELD_PC5           22354 non-null  float64\n",
            " 9   SJV_LAAG_TARIEF_PERC_PC5    22354 non-null  float64\n",
            " 10  LEVERINGSRICHTING_PERC_PC5  22354 non-null  float64\n",
            " 11  FYSIEKE_STATUS_PERC_PC5     22354 non-null  float64\n",
            " 12  SOORT_AANSLUITING_PERC_PC5  22354 non-null  float64\n",
            " 13  SLIMME_METER_PERC_PC5       22354 non-null  float64\n",
            "dtypes: float64(7), object(7)\n",
            "memory usage: 2.4+ MB\n",
            "None\n"
          ]
        }
      ],
      "source": [
        "# Stap 4: Bekijk de gegroepeerde data\n",
        "print(grouped_data.info())"
      ]
    },
    {
      "cell_type": "markdown",
      "id": "022f3521",
      "metadata": {
        "id": "022f3521"
      },
      "source": [
        "## Stap 3: CBS Postcode Data downloaden"
      ]
    },
    {
      "cell_type": "code",
      "execution_count": 8,
      "id": "6a6dcfbd",
      "metadata": {
        "colab": {
          "base_uri": "https://localhost:8080/"
        },
        "id": "6a6dcfbd",
        "outputId": "d14f6d8b-d4ec-420a-e7f2-67792fdef085"
      },
      "outputs": [
        {
          "output_type": "stream",
          "name": "stdout",
          "text": [
            "CBS_Postcode data is gedownload en uitgepakt\n"
          ]
        }
      ],
      "source": [
        "# Make variables for download\n",
        "pc5_url = \"https://download.cbs.nl/postcode/2024-cbs_pc5_2023_v1.zip\"\n",
        "pc5_dirname = \"CBS_Postcode\" # Name of the directory\n",
        "\n",
        "# Download CBS Postcode data\n",
        "response = requests.get(pc5_url)\n",
        "\n",
        "# Get filename for CBS Postcode\n",
        "filename = pc5_url.split(\"/\")[-1]\n",
        "\n",
        "# Write response content in to zip file\n",
        "with open(filename, \"wb\") as f:\n",
        "    f.write(response.content)\n",
        "\n",
        "# Extract the files from zip file\n",
        "with zipfile.ZipFile(filename, 'r') as zip_ref:\n",
        "    zip_ref.extractall(f\"./{pc5_dirname}\")\n",
        "\n",
        "print(f\"{pc5_dirname} data is gedownload en uitgepakt\")"
      ]
    },
    {
      "cell_type": "markdown",
      "id": "zb_iaV2uMYKX",
      "metadata": {
        "id": "zb_iaV2uMYKX"
      },
      "source": [
        "## Stap 4: CBS Postcode data inlezen"
      ]
    },
    {
      "cell_type": "code",
      "execution_count": 9,
      "id": "0rN95i0yEPlE",
      "metadata": {
        "id": "0rN95i0yEPlE"
      },
      "outputs": [],
      "source": [
        "# Deze code voert een specifieke taak uit\n",
        "import geopandas as gpd"
      ]
    },
    {
      "cell_type": "code",
      "execution_count": 10,
      "id": "pY1xe6DPEKzl",
      "metadata": {
        "id": "pY1xe6DPEKzl"
      },
      "outputs": [],
      "source": [
        "# Bestandspad naar het GeoPackage-bestand\n",
        "cbs_postcode_file = \"CBS_Postcode/cbs_pc5_2023_v1.gpkg\"\n",
        "\n",
        "# CBS Postcode data inlezen\n",
        "cbs_postcode = gpd.read_file(cbs_postcode_file, layer='cbs_pc5_2023')"
      ]
    },
    {
      "cell_type": "code",
      "execution_count": 11,
      "id": "BD0orLv0Fu8U",
      "metadata": {
        "id": "BD0orLv0Fu8U"
      },
      "outputs": [],
      "source": [
        "# Alleen de kolommen 'postcode' en 'geometry' selecteren\n",
        "cbs_postcode = cbs_postcode[['postcode', 'geometry']]"
      ]
    },
    {
      "cell_type": "markdown",
      "id": "7MtaXwJMMfde",
      "metadata": {
        "id": "7MtaXwJMMfde"
      },
      "source": [
        "#### Controleer data"
      ]
    },
    {
      "cell_type": "code",
      "execution_count": 12,
      "id": "NYDaJVbVMe5y",
      "metadata": {
        "colab": {
          "base_uri": "https://localhost:8080/"
        },
        "id": "NYDaJVbVMe5y",
        "outputId": "a49f4ad5-19dd-480b-953d-4ad3c6a7211f"
      },
      "outputs": [
        {
          "output_type": "stream",
          "name": "stdout",
          "text": [
            "  postcode                                           geometry\n",
            "0    1011A  MULTIPOLYGON (((122304.194 487357.434, 122317....\n",
            "1    1011B  MULTIPOLYGON (((122326.226 487335.976, 122348....\n",
            "2    1011C  MULTIPOLYGON (((122119.317 487245.362, 122125....\n",
            "3    1011D  MULTIPOLYGON (((122511.139 487596.872, 122508....\n",
            "4    1011E  MULTIPOLYGON (((122051.444 487196.664, 122058....\n"
          ]
        }
      ],
      "source": [
        "# print(cbs_postcode.head())\n",
        "print(cbs_postcode.head())\n",
        "# print(cbs_postcode.describe())"
      ]
    },
    {
      "cell_type": "markdown",
      "id": "vchWCPidLrmG",
      "metadata": {
        "id": "vchWCPidLrmG"
      },
      "source": [
        "## Stap 5: CBS Postcode Data koppelen aan netbeheer data\n"
      ]
    },
    {
      "cell_type": "code",
      "execution_count": 13,
      "id": "N79Ox7bMLQnK",
      "metadata": {
        "id": "N79Ox7bMLQnK"
      },
      "outputs": [],
      "source": [
        "# Merging the datasets\n",
        "merged_data = pd.merge(grouped_data, cbs_postcode, left_on=\"POSTCODE5\", right_on=\"postcode\", how=\"left\")\n",
        "merged_data = merged_data.drop(columns=[\"postcode\"])\n",
        "merged_data = gpd.GeoDataFrame(merged_data, geometry='geometry')"
      ]
    },
    {
      "cell_type": "markdown",
      "id": "_XvLwmawTgDJ",
      "metadata": {
        "id": "_XvLwmawTgDJ"
      },
      "source": [
        "#### Controleer data"
      ]
    },
    {
      "cell_type": "code",
      "execution_count": 14,
      "id": "-KyEcCoqJloR",
      "metadata": {
        "colab": {
          "base_uri": "https://localhost:8080/"
        },
        "id": "-KyEcCoqJloR",
        "outputId": "eae4c68e-b06a-4b80-b6e6-415092ceb880"
      },
      "outputs": [
        {
          "output_type": "stream",
          "name": "stdout",
          "text": [
            "<class 'geopandas.geodataframe.GeoDataFrame'>\n",
            "RangeIndex: 22354 entries, 0 to 22353\n",
            "Data columns (total 15 columns):\n",
            " #   Column                      Non-Null Count  Dtype   \n",
            "---  ------                      --------------  -----   \n",
            " 0   POSTCODE5                   22354 non-null  object  \n",
            " 1   PRODUCTSOORT                22354 non-null  object  \n",
            " 2   NETBEHEERDER                22354 non-null  object  \n",
            " 3   NETGEBIED                   22354 non-null  object  \n",
            " 4   WOONPLAATS                  22354 non-null  object  \n",
            " 5   LANDCODE                    22354 non-null  object  \n",
            " 6   VERBRUIKSSEGMENT            22354 non-null  object  \n",
            " 7   AANSLUITINGEN_TOTAAL        22354 non-null  float64 \n",
            " 8   SJV_GEMIDDELD_PC5           22354 non-null  float64 \n",
            " 9   SJV_LAAG_TARIEF_PERC_PC5    22354 non-null  float64 \n",
            " 10  LEVERINGSRICHTING_PERC_PC5  22354 non-null  float64 \n",
            " 11  FYSIEKE_STATUS_PERC_PC5     22354 non-null  float64 \n",
            " 12  SOORT_AANSLUITING_PERC_PC5  22354 non-null  float64 \n",
            " 13  SLIMME_METER_PERC_PC5       22354 non-null  float64 \n",
            " 14  geometry                    22342 non-null  geometry\n",
            "dtypes: float64(7), geometry(1), object(7)\n",
            "memory usage: 2.6+ MB\n",
            "None\n"
          ]
        }
      ],
      "source": [
        "# print(merged_data.head())\n",
        "print(merged_data.info())"
      ]
    },
    {
      "cell_type": "code",
      "source": [
        "print(merged_data.head())"
      ],
      "metadata": {
        "colab": {
          "base_uri": "https://localhost:8080/"
        },
        "id": "BNB1XcYDqST2",
        "outputId": "63baa576-f621-47cd-a7cd-c43febb7310d"
      },
      "id": "BNB1XcYDqST2",
      "execution_count": 27,
      "outputs": [
        {
          "output_type": "stream",
          "name": "stdout",
          "text": [
            "  POSTCODE5 PRODUCTSOORT NETBEHEERDER NETGEBIED WOONPLAATS LANDCODE  \\\n",
            "0     4251A          ELK  Enexis B.V.    ENEXIS  WERKENDAM       NL   \n",
            "1     4251A          GAS  Enexis B.V.    ENEXIS  WERKENDAM       NL   \n",
            "2     4251B          ELK  Enexis B.V.    ENEXIS  WERKENDAM       NL   \n",
            "3     4251B          GAS  Enexis B.V.    ENEXIS  WERKENDAM       NL   \n",
            "4     4251C          ELK  Enexis B.V.    ENEXIS  WERKENDAM       NL   \n",
            "\n",
            "  VERBRUIKSSEGMENT  AANSLUITINGEN_TOTAAL  SJV_GEMIDDELD_PC5  \\\n",
            "0              KVB                 247.0         209.520850   \n",
            "1              KVB                 236.0          63.530000   \n",
            "2              KVB                 310.0         181.356097   \n",
            "3              KVB                 252.0          58.392500   \n",
            "4              KVB                 352.0         308.459489   \n",
            "\n",
            "   SJV_LAAG_TARIEF_PERC_PC5  LEVERINGSRICHTING_PERC_PC5  \\\n",
            "0                  2.491903                    4.432794   \n",
            "1                  0.000000                    5.508475   \n",
            "2                  2.628258                    3.973774   \n",
            "3                  0.000000                    5.555556   \n",
            "4                  2.230085                    4.450341   \n",
            "\n",
            "   FYSIEKE_STATUS_PERC_PC5  SOORT_AANSLUITING_PERC_PC5  SLIMME_METER_PERC_PC5  \\\n",
            "0                 5.263158                    2.562794               4.714332   \n",
            "1                 5.508475                    5.125551               0.000000   \n",
            "2                 5.483871                    2.964290               5.101129   \n",
            "3                 5.555556                    5.273016               0.000000   \n",
            "4                 5.113636                    2.608636               4.623352   \n",
            "\n",
            "                                            geometry  \n",
            "0  MULTIPOLYGON (((120554.774 424907.412, 120551....  \n",
            "1  MULTIPOLYGON (((120554.774 424907.412, 120551....  \n",
            "2  MULTIPOLYGON (((120793.109 424596.956, 120784....  \n",
            "3  MULTIPOLYGON (((120793.109 424596.956, 120784....  \n",
            "4  MULTIPOLYGON (((121198.923 424945.049, 121198....  \n"
          ]
        }
      ]
    },
    {
      "cell_type": "markdown",
      "id": "WLTGOaEdUFVU",
      "metadata": {
        "id": "WLTGOaEdUFVU"
      },
      "source": [
        "## Stap 6: CBS wijkbuurten kaart data downloaden voor gemeenten"
      ]
    },
    {
      "cell_type": "code",
      "execution_count": 15,
      "id": "nA8j9QUCUW6o",
      "metadata": {
        "colab": {
          "base_uri": "https://localhost:8080/"
        },
        "id": "nA8j9QUCUW6o",
        "outputId": "ca9cbeef-5dea-4c93-e2f3-7c10227ae938"
      },
      "outputs": [
        {
          "output_type": "stream",
          "name": "stdout",
          "text": [
            "Data succesvol opgehaald!\n"
          ]
        }
      ],
      "source": [
        "import geopandas as gpd\n",
        "import requests\n",
        "from owslib.wfs import WebFeatureService\n",
        "\n",
        "# WFS URL\n",
        "wfs_url = 'https://service.pdok.nl/cbs/wijkenbuurten/2023/wfs/v1_0'\n",
        "\n",
        "# Stel de parameters voor het GET-verzoek\n",
        "params = {\n",
        "    'service': 'WFS',\n",
        "    'version': '2.0.0',\n",
        "    'request': 'GetFeature',\n",
        "    'typeName': 'gemeenten',\n",
        "    'outputFormat': 'json',\n",
        "    'PropertyName': 'gemeentenaam,gemeentecode'\n",
        "}\n",
        "\n",
        "# Stel de headers voor het GET-verzoek\n",
        "headers = {\n",
        "    'Accept-Encoding': 'gzip'\n",
        "}\n",
        "\n",
        "# Maak een GET-verzoek met compressie\n",
        "r = requests.get(wfs_url, params=params, headers=headers)\n",
        "\n",
        "# Controleer of het verzoek succesvol was\n",
        "if r.status_code == 200:\n",
        "    print(\"Data succesvol opgehaald!\")\n",
        "\n",
        "    # Zet de JSON-data om naar een GeoDataFrame\n",
        "    cbs_gemeente = gpd.read_file(io.BytesIO(r.content))\n",
        "\n",
        "    # Filter de nodige kolommen\n",
        "    # cbs_gemeente = cbs_gemeente[['gemeentecode', 'gemeentenaam', 'geometry']]\n",
        "else:\n",
        "    print(f\"Fout bij het ophalen van de data: {r.status_code}\")\n",
        "    print(r.text)\n"
      ]
    },
    {
      "cell_type": "markdown",
      "id": "PinTBuR1UdJ8",
      "metadata": {
        "id": "PinTBuR1UdJ8"
      },
      "source": [
        "#### Controleer data"
      ]
    },
    {
      "cell_type": "code",
      "execution_count": 16,
      "id": "5A-rbntwUcnA",
      "metadata": {
        "colab": {
          "base_uri": "https://localhost:8080/"
        },
        "id": "5A-rbntwUcnA",
        "outputId": "61123bf4-ecb1-4f10-d7ab-3d3e6a4bcf94"
      },
      "outputs": [
        {
          "output_type": "stream",
          "name": "stdout",
          "text": [
            "<class 'geopandas.geodataframe.GeoDataFrame'>\n",
            "RangeIndex: 424 entries, 0 to 423\n",
            "Data columns (total 3 columns):\n",
            " #   Column        Non-Null Count  Dtype   \n",
            "---  ------        --------------  -----   \n",
            " 0   gemeentecode  424 non-null    object  \n",
            " 1   gemeentenaam  424 non-null    object  \n",
            " 2   geometry      424 non-null    geometry\n",
            "dtypes: geometry(1), object(2)\n",
            "memory usage: 10.1+ KB\n",
            "None\n"
          ]
        }
      ],
      "source": [
        "# print(cbs_gemeente.head())\n",
        "print(cbs_gemeente.info())"
      ]
    },
    {
      "cell_type": "markdown",
      "id": "38e0cbc4",
      "metadata": {
        "id": "38e0cbc4"
      },
      "source": [
        "#### Filter gemeente"
      ]
    },
    {
      "cell_type": "code",
      "execution_count": 50,
      "id": "a14a35e9",
      "metadata": {
        "id": "a14a35e9"
      },
      "outputs": [],
      "source": [
        "# Filter merged_data for Tilburg\n",
        "weert_gemeente = cbs_gemeente[(cbs_gemeente['gemeentecode'] == 'GM0988')].copy()"
      ]
    },
    {
      "cell_type": "markdown",
      "id": "6pw1KdnxttcQ",
      "metadata": {
        "id": "6pw1KdnxttcQ"
      },
      "source": [
        "## Stap 7: Gemeente koppelen aan postcode 5 cijfers"
      ]
    },
    {
      "cell_type": "code",
      "source": [
        "weert_gemeente.sindex.valid_query_predicates"
      ],
      "metadata": {
        "colab": {
          "base_uri": "https://localhost:8080/"
        },
        "id": "r7QrARVntRkT",
        "outputId": "f37c73eb-0836-4633-abc7-ee641409ff16"
      },
      "id": "r7QrARVntRkT",
      "execution_count": 63,
      "outputs": [
        {
          "output_type": "execute_result",
          "data": {
            "text/plain": [
              "{None,\n",
              " 'contains',\n",
              " 'contains_properly',\n",
              " 'covered_by',\n",
              " 'covers',\n",
              " 'crosses',\n",
              " 'dwithin',\n",
              " 'intersects',\n",
              " 'overlaps',\n",
              " 'touches',\n",
              " 'within'}"
            ]
          },
          "metadata": {},
          "execution_count": 63
        }
      ]
    },
    {
      "cell_type": "code",
      "source": [
        "# Deze code voert een specifieke taak uit\n",
        "weert_gemeente['geometry_right'] = weert_gemeente.loc[:, 'geometry']\n",
        "\n",
        "# Ruimtelijke join uitvoeren om de gemeentes te vinden die overlappen met postcodes\n",
        "joined_data = gpd.sjoin(merged_data, weert_gemeente, predicate='covered_by')"
      ],
      "metadata": {
        "id": "90xXoAt6qhEr"
      },
      "id": "90xXoAt6qhEr",
      "execution_count": 71,
      "outputs": []
    },
    {
      "cell_type": "code",
      "source": [
        "# display all columns\n",
        "pd.set_option('display.max_columns', None)\n",
        "print(joined_data.info())"
      ],
      "metadata": {
        "colab": {
          "base_uri": "https://localhost:8080/"
        },
        "id": "kec62vaWqimS",
        "outputId": "7e081e26-2eed-4d13-c398-663da042b85a"
      },
      "id": "kec62vaWqimS",
      "execution_count": 68,
      "outputs": [
        {
          "output_type": "stream",
          "name": "stdout",
          "text": [
            "<class 'geopandas.geodataframe.GeoDataFrame'>\n",
            "Index: 142 entries, 10326 to 10730\n",
            "Data columns (total 20 columns):\n",
            " #   Column                      Non-Null Count  Dtype   \n",
            "---  ------                      --------------  -----   \n",
            " 0   POSTCODE5                   142 non-null    object  \n",
            " 1   PRODUCTSOORT                142 non-null    object  \n",
            " 2   NETBEHEERDER                142 non-null    object  \n",
            " 3   NETGEBIED                   142 non-null    object  \n",
            " 4   WOONPLAATS                  142 non-null    object  \n",
            " 5   LANDCODE                    142 non-null    object  \n",
            " 6   VERBRUIKSSEGMENT            142 non-null    object  \n",
            " 7   AANSLUITINGEN_TOTAAL        142 non-null    float64 \n",
            " 8   SJV_GEMIDDELD_PC5           142 non-null    float64 \n",
            " 9   SJV_LAAG_TARIEF_PERC_PC5    142 non-null    float64 \n",
            " 10  LEVERINGSRICHTING_PERC_PC5  142 non-null    float64 \n",
            " 11  FYSIEKE_STATUS_PERC_PC5     142 non-null    float64 \n",
            " 12  SOORT_AANSLUITING_PERC_PC5  142 non-null    float64 \n",
            " 13  SLIMME_METER_PERC_PC5       142 non-null    float64 \n",
            " 14  geometry                    142 non-null    geometry\n",
            " 15  index_right                 142 non-null    int64   \n",
            " 16  gemeentecode                142 non-null    object  \n",
            " 17  gemeentenaam                142 non-null    object  \n",
            " 18  geometry_weert              142 non-null    geometry\n",
            " 19  geometry_right              142 non-null    geometry\n",
            "dtypes: float64(7), geometry(3), int64(1), object(9)\n",
            "memory usage: 23.3+ KB\n",
            "None\n"
          ]
        }
      ]
    },
    {
      "cell_type": "code",
      "execution_count": 69,
      "id": "ifm50_J4ts2r",
      "metadata": {
        "id": "ifm50_J4ts2r"
      },
      "outputs": [],
      "source": [
        "# Bereken de overlappingsgebieden door een geometrische intersectie te maken tussen de postcodes en gemeentes\n",
        "joined_data['intersection'] = joined_data.geometry_right.intersection(joined_data['geometry'])\n",
        "\n",
        "# Bereken de oppervlakte van de intersectie\n",
        "joined_data['intersection_area'] = joined_data['intersection'].area\n"
      ]
    },
    {
      "cell_type": "code",
      "source": [
        "# display all columns\n",
        "pd.set_option('display.max_columns', None)\n",
        "print(joined_data)"
      ],
      "metadata": {
        "colab": {
          "base_uri": "https://localhost:8080/"
        },
        "id": "pkYzO5zqpeLT",
        "outputId": "90cdd53b-cdb6-4113-e4b2-96137fecf8e9"
      },
      "id": "pkYzO5zqpeLT",
      "execution_count": 70,
      "outputs": [
        {
          "output_type": "stream",
          "name": "stdout",
          "text": [
            "      POSTCODE5 PRODUCTSOORT NETBEHEERDER NETGEBIED WOONPLAATS LANDCODE  \\\n",
            "10326     6001A          ELK  Enexis B.V.    ENEXIS      WEERT       NL   \n",
            "10327     6001A          GAS  Enexis B.V.    ENEXIS      WEERT       NL   \n",
            "10328     6001B          ELK  Enexis B.V.    ENEXIS      WEERT       NL   \n",
            "10329     6001B          GAS  Enexis B.V.    ENEXIS      WEERT       NL   \n",
            "10330     6001C          ELK  Enexis B.V.    ENEXIS      WEERT       NL   \n",
            "...         ...          ...          ...       ...        ...      ...   \n",
            "10724     6039D          GAS  Enexis B.V.    ENEXIS  STRAMPROY       NL   \n",
            "10725     6039E          ELK  Enexis B.V.    ENEXIS  STRAMPROY       NL   \n",
            "10726     6039E          GAS  Enexis B.V.    ENEXIS  STRAMPROY       NL   \n",
            "10729     6039H          ELK  Enexis B.V.    ENEXIS  STRAMPROY       NL   \n",
            "10730     6039H          GAS  Enexis B.V.    ENEXIS  STRAMPROY       NL   \n",
            "\n",
            "      VERBRUIKSSEGMENT  AANSLUITINGEN_TOTAAL  SJV_GEMIDDELD_PC5  \\\n",
            "10326              KVB                 484.0         133.371302   \n",
            "10327              KVB                 466.0          50.301094   \n",
            "10328              KVB                 561.0         138.625027   \n",
            "10329              KVB                 524.0          50.238702   \n",
            "10330              KVB                 479.0         202.154342   \n",
            "...                ...                   ...                ...   \n",
            "10724              KVB                 169.0          40.220651   \n",
            "10725              KVB                 405.0         138.164494   \n",
            "10726              KVB                 392.0          51.465204   \n",
            "10729              KVB                  17.0         223.546471   \n",
            "10730              KVB                  16.0          94.527500   \n",
            "\n",
            "       SJV_LAAG_TARIEF_PERC_PC5  LEVERINGSRICHTING_PERC_PC5  \\\n",
            "10326                  1.651384                    2.358574   \n",
            "10327                  0.000000                    3.433476   \n",
            "10328                  1.627594                    2.544884   \n",
            "10329                  0.000000                    3.435115   \n",
            "10330                  1.806806                    2.809186   \n",
            "...                         ...                         ...   \n",
            "10724                  0.000000                    3.550296   \n",
            "10725                  2.261457                    1.788889   \n",
            "10726                  0.000000                    4.081633   \n",
            "10729                  3.421765                    0.345882   \n",
            "10730                  0.000000                    6.250000   \n",
            "\n",
            "       FYSIEKE_STATUS_PERC_PC5  SOORT_AANSLUITING_PERC_PC5  \\\n",
            "10326                 3.305785                    1.942934   \n",
            "10327                 3.433476                    2.979292   \n",
            "10328                 3.208556                    2.181836   \n",
            "10329                 3.435115                    3.002710   \n",
            "10330                 3.757829                    2.403987   \n",
            "...                        ...                         ...   \n",
            "10724                 3.550296                    3.238876   \n",
            "10725                 4.197531                    2.400593   \n",
            "10726                 4.081633                    3.632832   \n",
            "10729                 5.882353                    4.498235   \n",
            "10730                 6.250000                    5.859375   \n",
            "\n",
            "       SLIMME_METER_PERC_PC5  \\\n",
            "10326               3.112252   \n",
            "10327               0.000000   \n",
            "10328               3.044260   \n",
            "10329               0.000000   \n",
            "10330               3.448246   \n",
            "...                      ...   \n",
            "10724               0.000000   \n",
            "10725               4.022642   \n",
            "10726               0.000000   \n",
            "10729               5.882353   \n",
            "10730               0.000000   \n",
            "\n",
            "                                                geometry  index_right  \\\n",
            "10326  MULTIPOLYGON (((177686.817 362841.435, 177650....          331   \n",
            "10327  MULTIPOLYGON (((177686.817 362841.435, 177650....          331   \n",
            "10328  MULTIPOLYGON (((177487.365 362377.311, 177503....          331   \n",
            "10329  MULTIPOLYGON (((177487.365 362377.311, 177503....          331   \n",
            "10330  MULTIPOLYGON (((177829.503 362311.589, 177851....          331   \n",
            "...                                                  ...          ...   \n",
            "10724  MULTIPOLYGON (((178592.726 356090.909, 178572....          331   \n",
            "10725  MULTIPOLYGON (((177815.953 355661.865, 177783....          331   \n",
            "10726  MULTIPOLYGON (((177815.953 355661.865, 177783....          331   \n",
            "10729  MULTIPOLYGON (((178824.214 356097.367, 178848....          331   \n",
            "10730  MULTIPOLYGON (((178824.214 356097.367, 178848....          331   \n",
            "\n",
            "      gemeentecode gemeentenaam  \\\n",
            "10326       GM0988        Weert   \n",
            "10327       GM0988        Weert   \n",
            "10328       GM0988        Weert   \n",
            "10329       GM0988        Weert   \n",
            "10330       GM0988        Weert   \n",
            "...            ...          ...   \n",
            "10724       GM0988        Weert   \n",
            "10725       GM0988        Weert   \n",
            "10726       GM0988        Weert   \n",
            "10729       GM0988        Weert   \n",
            "10730       GM0988        Weert   \n",
            "\n",
            "                                          geometry_weert  \\\n",
            "10326  MULTIPOLYGON (((173228.714 366271.565, 173246....   \n",
            "10327  MULTIPOLYGON (((173228.714 366271.565, 173246....   \n",
            "10328  MULTIPOLYGON (((173228.714 366271.565, 173246....   \n",
            "10329  MULTIPOLYGON (((173228.714 366271.565, 173246....   \n",
            "10330  MULTIPOLYGON (((173228.714 366271.565, 173246....   \n",
            "...                                                  ...   \n",
            "10724  MULTIPOLYGON (((173228.714 366271.565, 173246....   \n",
            "10725  MULTIPOLYGON (((173228.714 366271.565, 173246....   \n",
            "10726  MULTIPOLYGON (((173228.714 366271.565, 173246....   \n",
            "10729  MULTIPOLYGON (((173228.714 366271.565, 173246....   \n",
            "10730  MULTIPOLYGON (((173228.714 366271.565, 173246....   \n",
            "\n",
            "                                          geometry_right  \\\n",
            "10326  MULTIPOLYGON (((173228.714 366271.565, 173246....   \n",
            "10327  MULTIPOLYGON (((173228.714 366271.565, 173246....   \n",
            "10328  MULTIPOLYGON (((173228.714 366271.565, 173246....   \n",
            "10329  MULTIPOLYGON (((173228.714 366271.565, 173246....   \n",
            "10330  MULTIPOLYGON (((173228.714 366271.565, 173246....   \n",
            "...                                                  ...   \n",
            "10724  MULTIPOLYGON (((173228.714 366271.565, 173246....   \n",
            "10725  MULTIPOLYGON (((173228.714 366271.565, 173246....   \n",
            "10726  MULTIPOLYGON (((173228.714 366271.565, 173246....   \n",
            "10729  MULTIPOLYGON (((173228.714 366271.565, 173246....   \n",
            "10730  MULTIPOLYGON (((173228.714 366271.565, 173246....   \n",
            "\n",
            "                                            intersection  intersection_area  \n",
            "10326  MULTIPOLYGON (((177650.148 362842.07, 177624.3...      618557.213407  \n",
            "10327  MULTIPOLYGON (((177650.148 362842.07, 177624.3...      618557.213407  \n",
            "10328  POLYGON ((177503.032 362395.885, 177522.361 36...      230808.605572  \n",
            "10329  POLYGON ((177503.032 362395.885, 177522.361 36...      230808.605572  \n",
            "10330  MULTIPOLYGON (((177851.188 362309.868, 177855....      170713.750197  \n",
            "...                                                  ...                ...  \n",
            "10724  MULTIPOLYGON (((178572.898 356110.567, 178553....       90388.574046  \n",
            "10725  POLYGON ((177783.715 355644.99, 177777.016 355...      502820.461580  \n",
            "10726  POLYGON ((177783.715 355644.99, 177777.016 355...      502820.461580  \n",
            "10729  POLYGON ((178848.997 356100.418, 178854.495 35...      104737.688222  \n",
            "10730  POLYGON ((178848.997 356100.418, 178854.495 35...      104737.688222  \n",
            "\n",
            "[142 rows x 22 columns]\n"
          ]
        }
      ]
    },
    {
      "cell_type": "code",
      "source": [
        "# Groepeer per postcode en kies de gemeente met het grootste overlappingsgebied\n",
        "idx = joined_data.groupby(\n",
        "    ['POSTCODE5', 'PRODUCTSOORT', 'NETBEHEERDER', 'NETGEBIED', 'WOONPLAATS',\n",
        "     'LANDCODE', 'VERBRUIKSSEGMENT', 'AANSLUITINGEN_TOTAAL', 'SJV_GEMIDDELD_PC5',\n",
        "     'SJV_LAAG_TARIEF_PERC_PC5', 'LEVERINGSRICHTING_PERC_PC5', 'FYSIEKE_STATUS_PERC_PC5',\n",
        "     'SOORT_AANSLUITING_PERC_PC5', 'SLIMME_METER_PERC_PC5']\n",
        "    )['intersection_area'].idxmax()\n",
        "\n",
        "# Selecteer alleen de rijen met de grootste overlap per postcode\n",
        "largest_overlap = joined_data.loc[idx]\n",
        "\n",
        "# Rename geometry columns to have 'geometry' for the original geometry (geometry_left)\n",
        "largest_overlap = largest_overlap.rename(columns={'geometry_left': 'geometry'})\n",
        "\n",
        "# # Behoud de gewenste kolommen\n",
        "result = largest_overlap[['POSTCODE5', 'PRODUCTSOORT', 'NETBEHEERDER', 'NETGEBIED', 'WOONPLAATS',\n",
        "                          'LANDCODE', 'VERBRUIKSSEGMENT', 'AANSLUITINGEN_TOTAAL', 'SJV_GEMIDDELD_PC5',\n",
        "                          'SJV_LAAG_TARIEF_PERC_PC5', 'LEVERINGSRICHTING_PERC_PC5', 'FYSIEKE_STATUS_PERC_PC5',\n",
        "                          'SOORT_AANSLUITING_PERC_PC5', 'SLIMME_METER_PERC_PC5', 'geometry',\n",
        "                          'gemeentecode', 'gemeentenaam']]"
      ],
      "metadata": {
        "id": "ENNoQKjWpRrT"
      },
      "id": "ENNoQKjWpRrT",
      "execution_count": 58,
      "outputs": []
    },
    {
      "cell_type": "code",
      "source": [
        "# # Behoud de gewenste kolommen\n",
        "result = joined_data[['POSTCODE5', 'PRODUCTSOORT', 'NETBEHEERDER', 'NETGEBIED', 'WOONPLAATS',\n",
        "                          'LANDCODE', 'VERBRUIKSSEGMENT', 'AANSLUITINGEN_TOTAAL', 'SJV_GEMIDDELD_PC5',\n",
        "                          'SJV_LAAG_TARIEF_PERC_PC5', 'LEVERINGSRICHTING_PERC_PC5', 'FYSIEKE_STATUS_PERC_PC5',\n",
        "                          'SOORT_AANSLUITING_PERC_PC5', 'SLIMME_METER_PERC_PC5', 'geometry',\n",
        "                          'gemeentecode', 'gemeentenaam']]"
      ],
      "metadata": {
        "id": "Vye2Xu8yuEcZ"
      },
      "id": "Vye2Xu8yuEcZ",
      "execution_count": 72,
      "outputs": []
    },
    {
      "cell_type": "markdown",
      "id": "RUDHMqW7vGug",
      "metadata": {
        "id": "RUDHMqW7vGug"
      },
      "source": [
        "#### Controleren"
      ]
    },
    {
      "cell_type": "code",
      "execution_count": 73,
      "id": "zz5f_uTVvIFc",
      "metadata": {
        "colab": {
          "base_uri": "https://localhost:8080/"
        },
        "id": "zz5f_uTVvIFc",
        "outputId": "d83a93b0-4b6c-4204-ba4d-4ae3e973ce2d"
      },
      "outputs": [
        {
          "output_type": "stream",
          "name": "stdout",
          "text": [
            "<class 'geopandas.geodataframe.GeoDataFrame'>\n",
            "Index: 142 entries, 10326 to 10730\n",
            "Data columns (total 17 columns):\n",
            " #   Column                      Non-Null Count  Dtype   \n",
            "---  ------                      --------------  -----   \n",
            " 0   POSTCODE5                   142 non-null    object  \n",
            " 1   PRODUCTSOORT                142 non-null    object  \n",
            " 2   NETBEHEERDER                142 non-null    object  \n",
            " 3   NETGEBIED                   142 non-null    object  \n",
            " 4   WOONPLAATS                  142 non-null    object  \n",
            " 5   LANDCODE                    142 non-null    object  \n",
            " 6   VERBRUIKSSEGMENT            142 non-null    object  \n",
            " 7   AANSLUITINGEN_TOTAAL        142 non-null    float64 \n",
            " 8   SJV_GEMIDDELD_PC5           142 non-null    float64 \n",
            " 9   SJV_LAAG_TARIEF_PERC_PC5    142 non-null    float64 \n",
            " 10  LEVERINGSRICHTING_PERC_PC5  142 non-null    float64 \n",
            " 11  FYSIEKE_STATUS_PERC_PC5     142 non-null    float64 \n",
            " 12  SOORT_AANSLUITING_PERC_PC5  142 non-null    float64 \n",
            " 13  SLIMME_METER_PERC_PC5       142 non-null    float64 \n",
            " 14  geometry                    142 non-null    geometry\n",
            " 15  gemeentecode                142 non-null    object  \n",
            " 16  gemeentenaam                142 non-null    object  \n",
            "dtypes: float64(7), geometry(1), object(9)\n",
            "memory usage: 20.0+ KB\n",
            "None\n"
          ]
        }
      ],
      "source": [
        "# Print the updated merged_data\n",
        "print(result.info())"
      ]
    },
    {
      "cell_type": "markdown",
      "id": "Y-hbFtKRT2p1",
      "metadata": {
        "id": "Y-hbFtKRT2p1"
      },
      "source": [
        "## Stap 8: Elektrische data en gas data splitsen en gemeente filteren"
      ]
    },
    {
      "cell_type": "code",
      "execution_count": 74,
      "id": "itmSE7yhuZQI",
      "metadata": {
        "id": "itmSE7yhuZQI"
      },
      "outputs": [],
      "source": [
        "# Split into electricity and gas dataframes\n",
        "electricity_data = result[result['PRODUCTSOORT'] == 'ELK']\n",
        "gas_data = result[result['PRODUCTSOORT'] == 'GAS']\n",
        "\n",
        "# Convert to GeoDataFrames\n",
        "electricity_gdf = gpd.GeoDataFrame(electricity_data, geometry='geometry')\n",
        "gas_gdf = gpd.GeoDataFrame(gas_data, geometry='geometry')\n"
      ]
    },
    {
      "cell_type": "code",
      "source": [
        "# prompt: want to show rows of electricity_gdf that are duplicated on subset POSTCODE5\n",
        "\n",
        "duplicated_rows = electricity_gdf[electricity_gdf.duplicated(subset=['POSTCODE5'], keep=False)]\n",
        "print(duplicated_rows)\n"
      ],
      "metadata": {
        "colab": {
          "base_uri": "https://localhost:8080/"
        },
        "id": "zqSa931asmTe",
        "outputId": "ec5a41cc-801e-4d1f-883e-2912e181de31"
      },
      "id": "zqSa931asmTe",
      "execution_count": 75,
      "outputs": [
        {
          "output_type": "stream",
          "name": "stdout",
          "text": [
            "Empty GeoDataFrame\n",
            "Columns: [POSTCODE5, PRODUCTSOORT, NETBEHEERDER, NETGEBIED, WOONPLAATS, LANDCODE, VERBRUIKSSEGMENT, AANSLUITINGEN_TOTAAL, SJV_GEMIDDELD_PC5, SJV_LAAG_TARIEF_PERC_PC5, LEVERINGSRICHTING_PERC_PC5, FYSIEKE_STATUS_PERC_PC5, SOORT_AANSLUITING_PERC_PC5, SLIMME_METER_PERC_PC5, geometry, gemeentecode, gemeentenaam]\n",
            "Index: []\n"
          ]
        }
      ]
    },
    {
      "cell_type": "markdown",
      "id": "7spiCRA_zCuI",
      "metadata": {
        "id": "7spiCRA_zCuI"
      },
      "source": [
        "#### Controleer"
      ]
    },
    {
      "cell_type": "code",
      "execution_count": null,
      "id": "3m2g-l14zCW4",
      "metadata": {
        "colab": {
          "base_uri": "https://localhost:8080/"
        },
        "id": "3m2g-l14zCW4",
        "outputId": "aa980205-c1ab-4dc8-fb23-23179ff4e430"
      },
      "outputs": [
        {
          "name": "stdout",
          "output_type": "stream",
          "text": [
            "<class 'geopandas.geodataframe.GeoDataFrame'>\n",
            "Index: 20909 entries, 331 to 331\n",
            "Data columns (total 17 columns):\n",
            " #   Column                      Non-Null Count  Dtype   \n",
            "---  ------                      --------------  -----   \n",
            " 0   POSTCODE5                   20909 non-null  object  \n",
            " 1   PRODUCTSOORT                20909 non-null  object  \n",
            " 2   NETBEHEERDER                20909 non-null  object  \n",
            " 3   NETGEBIED                   20909 non-null  object  \n",
            " 4   WOONPLAATS                  20909 non-null  object  \n",
            " 5   LANDCODE                    20909 non-null  object  \n",
            " 6   VERBRUIKSSEGMENT            20909 non-null  object  \n",
            " 7   AANSLUITINGEN_TOTAAL        20909 non-null  float64 \n",
            " 8   SJV_GEMIDDELD_PC5           20909 non-null  float64 \n",
            " 9   SJV_LAAG_TARIEF_PERC_PC5    20909 non-null  float64 \n",
            " 10  LEVERINGSRICHTING_PERC_PC5  20909 non-null  float64 \n",
            " 11  FYSIEKE_STATUS_PERC_PC5     20909 non-null  float64 \n",
            " 12  SOORT_AANSLUITING_PERC_PC5  20909 non-null  float64 \n",
            " 13  SLIMME_METER_PERC_PC5       20909 non-null  float64 \n",
            " 14  geometry                    20909 non-null  geometry\n",
            " 15  gemeentecode                20909 non-null  object  \n",
            " 16  gemeentenaam                20909 non-null  object  \n",
            "dtypes: float64(7), geometry(1), object(9)\n",
            "memory usage: 2.9+ MB\n",
            "None\n",
            "<class 'geopandas.geodataframe.GeoDataFrame'>\n",
            "Index: 20300 entries, 331 to 331\n",
            "Data columns (total 17 columns):\n",
            " #   Column                      Non-Null Count  Dtype   \n",
            "---  ------                      --------------  -----   \n",
            " 0   POSTCODE5                   20300 non-null  object  \n",
            " 1   PRODUCTSOORT                20300 non-null  object  \n",
            " 2   NETBEHEERDER                20300 non-null  object  \n",
            " 3   NETGEBIED                   20300 non-null  object  \n",
            " 4   WOONPLAATS                  20300 non-null  object  \n",
            " 5   LANDCODE                    20300 non-null  object  \n",
            " 6   VERBRUIKSSEGMENT            20300 non-null  object  \n",
            " 7   AANSLUITINGEN_TOTAAL        20300 non-null  float64 \n",
            " 8   SJV_GEMIDDELD_PC5           20300 non-null  float64 \n",
            " 9   SJV_LAAG_TARIEF_PERC_PC5    20300 non-null  float64 \n",
            " 10  LEVERINGSRICHTING_PERC_PC5  20300 non-null  float64 \n",
            " 11  FYSIEKE_STATUS_PERC_PC5     20300 non-null  float64 \n",
            " 12  SOORT_AANSLUITING_PERC_PC5  20300 non-null  float64 \n",
            " 13  SLIMME_METER_PERC_PC5       20300 non-null  float64 \n",
            " 14  geometry                    20300 non-null  geometry\n",
            " 15  gemeentecode                20300 non-null  object  \n",
            " 16  gemeentenaam                20300 non-null  object  \n",
            "dtypes: float64(7), geometry(1), object(9)\n",
            "memory usage: 2.8+ MB\n",
            "None\n"
          ]
        }
      ],
      "source": [
        "# Print the updated merged_data\n",
        "print(electricity_gdf.info())\n",
        "print(gas_gdf.info())"
      ]
    },
    {
      "cell_type": "markdown",
      "id": "F_axYgHZu742",
      "metadata": {
        "id": "F_axYgHZu742"
      },
      "source": [
        "## Stap 9: Geodata output naar gpkg bestand"
      ]
    },
    {
      "cell_type": "code",
      "execution_count": null,
      "id": "EcfecCVyvARO",
      "metadata": {
        "colab": {
          "base_uri": "https://localhost:8080/"
        },
        "id": "EcfecCVyvARO",
        "outputId": "55e0ddf9-86f3-4b74-d00d-142b3b09582b"
      },
      "outputs": [
        {
          "name": "stdout",
          "output_type": "stream",
          "text": [
            "GeoPackage file 'netbeheerder_data.gpkg' created successfully.\n"
          ]
        }
      ],
      "source": [
        "# Create a GeoPackage file\n",
        "output_filename = 'netbeheerder_data.gpkg'\n",
        "\n",
        "# Write the GeoDataFrames to the GeoPackage file\n",
        "electricity_gdf.to_file(output_filename, layer='electricity', driver='GPKG')\n",
        "gas_gdf.to_file(output_filename, layer='gas', driver='GPKG')\n",
        "\n",
        "print(f\"GeoPackage file '{output_filename}' created successfully.\")"
      ]
    }
  ],
  "metadata": {
    "colab": {
      "collapsed_sections": [
        "hRlBJBpBzbKm",
        "7Ogm81yU0Wfh",
        "t7NOe_s50Z7h"
      ],
      "provenance": [],
      "include_colab_link": true
    },
    "kernelspec": {
      "display_name": "Python 3.11.0 64-bit",
      "language": "python",
      "name": "python3"
    },
    "language_info": {
      "codemirror_mode": {
        "name": "ipython",
        "version": 3
      },
      "file_extension": ".py",
      "mimetype": "text/x-python",
      "name": "python",
      "nbconvert_exporter": "python",
      "pygments_lexer": "ipython3",
      "version": "3.11.0"
    },
    "vscode": {
      "interpreter": {
        "hash": "62d7c45b608c8f25a25b43e6d3bc9acf6c426a1b6aa739c22bf731be503f4da5"
      }
    }
  },
  "nbformat": 4,
  "nbformat_minor": 5
}